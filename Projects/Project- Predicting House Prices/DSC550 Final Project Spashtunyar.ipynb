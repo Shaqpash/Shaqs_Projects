{
 "cells": [
  {
   "cell_type": "code",
   "execution_count": 1,
   "id": "d2a33626-e2aa-435c-a92e-0ef97f94a943",
   "metadata": {},
   "outputs": [],
   "source": [
    "#Shaquiel Pashtunyar\n",
    "#DSC550 Final Project"
   ]
  },
  {
   "cell_type": "code",
   "execution_count": 2,
   "id": "ceac229e-9843-46df-8ea5-32eaeea28e9c",
   "metadata": {},
   "outputs": [],
   "source": [
    "#combining the data from the last three milestones"
   ]
  },
  {
   "cell_type": "code",
   "execution_count": 88,
   "id": "be8c3d52-71e8-48ff-8aba-779893ba4713",
   "metadata": {},
   "outputs": [],
   "source": [
    "#Milestone 1\n",
    "import pandas as pd"
   ]
  },
  {
   "cell_type": "code",
   "execution_count": 89,
   "id": "3bd4f7cd-62b2-4c62-bd81-d656f0b70d04",
   "metadata": {},
   "outputs": [],
   "source": [
    "#importing\n",
    "Trends = pd.read_csv('Annual_Macroeconomic_Factors.csv')"
   ]
  },
  {
   "cell_type": "code",
   "execution_count": 5,
   "id": "598f7067-7435-4951-aa95-e4b2d17f8db0",
   "metadata": {},
   "outputs": [
    {
     "data": {
      "text/html": [
       "<div>\n",
       "<style scoped>\n",
       "    .dataframe tbody tr th:only-of-type {\n",
       "        vertical-align: middle;\n",
       "    }\n",
       "\n",
       "    .dataframe tbody tr th {\n",
       "        vertical-align: top;\n",
       "    }\n",
       "\n",
       "    .dataframe thead th {\n",
       "        text-align: right;\n",
       "    }\n",
       "</style>\n",
       "<table border=\"1\" class=\"dataframe\">\n",
       "  <thead>\n",
       "    <tr style=\"text-align: right;\">\n",
       "      <th></th>\n",
       "      <th>Date</th>\n",
       "      <th>House_Price_Index</th>\n",
       "      <th>Stock_Price_Index</th>\n",
       "      <th>Consumer_Price_Index</th>\n",
       "      <th>Population</th>\n",
       "      <th>Unemployment_Rate</th>\n",
       "      <th>Real_GDP</th>\n",
       "      <th>Mortgage_Rate</th>\n",
       "      <th>Real_Disposable_Income</th>\n",
       "    </tr>\n",
       "  </thead>\n",
       "  <tbody>\n",
       "    <tr>\n",
       "      <th>0</th>\n",
       "      <td>1975-01-01</td>\n",
       "      <td>61.0900</td>\n",
       "      <td>67.14653</td>\n",
       "      <td>65.30488</td>\n",
       "      <td>0.98599</td>\n",
       "      <td>8.46667</td>\n",
       "      <td>5648.462</td>\n",
       "      <td>9.04712</td>\n",
       "      <td>19908.0</td>\n",
       "    </tr>\n",
       "    <tr>\n",
       "      <th>1</th>\n",
       "      <td>1976-01-01</td>\n",
       "      <td>65.5250</td>\n",
       "      <td>79.96264</td>\n",
       "      <td>69.05653</td>\n",
       "      <td>0.95022</td>\n",
       "      <td>7.71667</td>\n",
       "      <td>5952.809</td>\n",
       "      <td>8.86585</td>\n",
       "      <td>20346.0</td>\n",
       "    </tr>\n",
       "    <tr>\n",
       "      <th>2</th>\n",
       "      <td>1977-01-01</td>\n",
       "      <td>73.4350</td>\n",
       "      <td>78.82540</td>\n",
       "      <td>73.54636</td>\n",
       "      <td>1.00577</td>\n",
       "      <td>7.06667</td>\n",
       "      <td>6228.076</td>\n",
       "      <td>8.84519</td>\n",
       "      <td>20780.0</td>\n",
       "    </tr>\n",
       "    <tr>\n",
       "      <th>3</th>\n",
       "      <td>1978-01-01</td>\n",
       "      <td>83.7450</td>\n",
       "      <td>78.84679</td>\n",
       "      <td>79.15866</td>\n",
       "      <td>1.05957</td>\n",
       "      <td>6.06667</td>\n",
       "      <td>6572.819</td>\n",
       "      <td>9.64173</td>\n",
       "      <td>21497.0</td>\n",
       "    </tr>\n",
       "    <tr>\n",
       "      <th>4</th>\n",
       "      <td>1979-01-01</td>\n",
       "      <td>95.1325</td>\n",
       "      <td>85.63207</td>\n",
       "      <td>88.06755</td>\n",
       "      <td>1.10358</td>\n",
       "      <td>5.83333</td>\n",
       "      <td>6780.924</td>\n",
       "      <td>11.20365</td>\n",
       "      <td>21672.0</td>\n",
       "    </tr>\n",
       "  </tbody>\n",
       "</table>\n",
       "</div>"
      ],
      "text/plain": [
       "         Date  House_Price_Index  Stock_Price_Index  Consumer_Price_Index  \\\n",
       "0  1975-01-01            61.0900           67.14653              65.30488   \n",
       "1  1976-01-01            65.5250           79.96264              69.05653   \n",
       "2  1977-01-01            73.4350           78.82540              73.54636   \n",
       "3  1978-01-01            83.7450           78.84679              79.15866   \n",
       "4  1979-01-01            95.1325           85.63207              88.06755   \n",
       "\n",
       "   Population  Unemployment_Rate  Real_GDP  Mortgage_Rate  \\\n",
       "0     0.98599            8.46667  5648.462        9.04712   \n",
       "1     0.95022            7.71667  5952.809        8.86585   \n",
       "2     1.00577            7.06667  6228.076        8.84519   \n",
       "3     1.05957            6.06667  6572.819        9.64173   \n",
       "4     1.10358            5.83333  6780.924       11.20365   \n",
       "\n",
       "   Real_Disposable_Income  \n",
       "0                 19908.0  \n",
       "1                 20346.0  \n",
       "2                 20780.0  \n",
       "3                 21497.0  \n",
       "4                 21672.0  "
      ]
     },
     "execution_count": 5,
     "metadata": {},
     "output_type": "execute_result"
    }
   ],
   "source": [
    "Trends.head()"
   ]
  },
  {
   "cell_type": "code",
   "execution_count": 6,
   "id": "39914f09-1a45-4031-9cff-2c1d51c1b124",
   "metadata": {},
   "outputs": [],
   "source": [
    "import matplotlib as mpl\n",
    "import matplotlib.pyplot as plt"
   ]
  },
  {
   "cell_type": "code",
   "execution_count": 7,
   "id": "fd6553f1-47d7-41b2-993e-13cb1bb9bcbf",
   "metadata": {},
   "outputs": [
    {
     "data": {
      "image/png": "[encoded data removed]",
      "text/plain": [
       "<Figure size 432x288 with 1 Axes>"
      ]
     },
     "metadata": {
      "needs_background": "light"
     },
     "output_type": "display_data"
    }
   ],
   "source": [
    "plt.scatter(Trends['Date'], Trends['Mortgage_Rate'])\n",
    "plt.xlabel('Date')\n",
    "plt.ylabel('Mortgage Rate')\n",
    "plt.title('Mortgage Rate over Time Trend')\n",
    "x_ticks = [5, 15, 25, 35, 45]\n",
    "plt.xticks(ticks=x_ticks)\n",
    "plt.show()"
   ]
  },
  {
   "cell_type": "code",
   "execution_count": 8,
   "id": "ac4e23ca-55ac-4ced-b3cf-45e6b504eebd",
   "metadata": {},
   "outputs": [],
   "source": [
    "# The first plot we are seeing is just showing the mortgage rate over time. We can see it get to an all time low in 2021. We also see it get to al alol time high in 1981. Prices of homes should be the lowest there if there is a coorelation"
   ]
  },
  {
   "cell_type": "code",
   "execution_count": 9,
   "id": "85ff622d-d308-489e-8af7-42e0f5ac1062",
   "metadata": {},
   "outputs": [
    {
     "data": {
      "image/png": "[encoded data removed]",
      "text/plain": [
       "<Figure size 432x288 with 1 Axes>"
      ]
     },
     "metadata": {
      "needs_background": "light"
     },
     "output_type": "display_data"
    }
   ],
   "source": [
    "plt.scatter(Trends['Date'], Trends['House_Price_Index'])\n",
    "plt.xlabel('Date')\n",
    "plt.ylabel('Housing Prices')\n",
    "plt.title('Housing Price over Time Trend')\n",
    "x_ticks = [5, 15, 25, 35, 45]\n",
    "plt.xticks(ticks=x_ticks)\n",
    "plt.show()"
   ]
  },
  {
   "cell_type": "code",
   "execution_count": 10,
   "id": "2d95a38e-df53-4a44-a68c-aad52b35bb6d",
   "metadata": {},
   "outputs": [],
   "source": [
    "# This trend is quite informative, because we see a steady growth of prices in the 80s, 90s, and early 2000s. It wasnt until the housing market crash of 2008 that we see a 5 year dip in the price index. This isn't as consistant as the downward trend of mortgage rates."
   ]
  },
  {
   "cell_type": "code",
   "execution_count": 11,
   "id": "c8a93866-6186-4bc2-ab4d-ef68ddf0dea4",
   "metadata": {},
   "outputs": [
    {
     "data": {
      "image/png": "[encoded data removed]",
      "text/plain": [
       "<Figure size 432x288 with 1 Axes>"
      ]
     },
     "metadata": {
      "needs_background": "light"
     },
     "output_type": "display_data"
    }
   ],
   "source": [
    "plt.scatter(Trends['Date'], Trends['Stock_Price_Index'])\n",
    "plt.xlabel('Date')\n",
    "plt.ylabel('Stock Prices')\n",
    "plt.title('Stock Price over Time Trend')\n",
    "x_ticks = [5, 15, 25, 35, 45]\n",
    "plt.xticks(ticks=x_ticks)\n",
    "plt.show()"
   ]
  },
  {
   "cell_type": "code",
   "execution_count": 12,
   "id": "74be884b-cfe2-44f5-a46a-64c724bb5688",
   "metadata": {},
   "outputs": [],
   "source": [
    "#Stock prices have grown over the last 45 years, and weathered two pullbacks/recessions. This is not in the same timeline as the pricing index that just continuously went up over a 30 year period. It also shows the housing market having no issue with the 2001 dot come bubble. People may have lost their money in the market but they didnt lose value in their homes."
   ]
  },
  {
   "cell_type": "code",
   "execution_count": 13,
   "id": "c54543a9-cbd2-4d7e-8059-3456e4eab86c",
   "metadata": {},
   "outputs": [
    {
     "data": {
      "image/png": "[encoded data removed]",
      "text/plain": [
       "<Figure size 432x288 with 1 Axes>"
      ]
     },
     "metadata": {
      "needs_background": "light"
     },
     "output_type": "display_data"
    }
   ],
   "source": [
    "plt.plot(Trends['Date'], Trends['Stock_Price_Index'], label='Stock_Price_Index')\n",
    "plt.plot(Trends['Date'], Trends['House_Price_Index'], label='House_Price_Index')\n",
    "plt.plot(Trends['Date'], Trends['Consumer_Price_Index'], label='Consumer_Price_Index')\n",
    "plt.xlabel('Date')\n",
    "plt.ylabel('Index Value')\n",
    "plt.title('Index value over Time Trend')\n",
    "x_ticks = [5, 15, 25, 35, 45]\n",
    "plt.xticks(ticks=x_ticks)\n",
    "plt.legend()\n",
    "plt.show()"
   ]
  },
  {
   "cell_type": "code",
   "execution_count": 14,
   "id": "b35ed5a5-736e-466b-ac38-d66115795583",
   "metadata": {},
   "outputs": [],
   "source": [
    "#this final chart shows the index values over time. It does seem the consumer price index has steadily gone up each year, this may be due to inflation, but doesn't follow the housing market curve. Same with the stock price index."
   ]
  },
  {
   "cell_type": "code",
   "execution_count": 15,
   "id": "990490e8-b685-42d3-b1f8-6ac29dc38f0e",
   "metadata": {},
   "outputs": [],
   "source": [
    "#From this initial analysis I can see that it is more than one varibale here that may or may not hold weight. I can see that the housing market has an effect on the stock market, but I am not sure that it goes the other way around"
   ]
  },
  {
   "cell_type": "code",
   "execution_count": 16,
   "id": "a3d3a63f-ef63-4ec2-8a76-b99caab0ae8e",
   "metadata": {},
   "outputs": [],
   "source": [
    "#Next we can take the log scales of the index values, or look at other values to understand them better. We can also start comparing each value to see if there is a coorelation or one that is more likely to have an effect on the other. "
   ]
  },
  {
   "cell_type": "code",
   "execution_count": 17,
   "id": "ad86eac2-6bb1-412a-852e-8b9b631679fe",
   "metadata": {},
   "outputs": [],
   "source": [
    "#We Also need to bring in other housing data sets, we may want to see the trend of inflation year after year as a comparison, or the ammount of immigration as well"
   ]
  },
  {
   "cell_type": "code",
   "execution_count": 18,
   "id": "c1d26b20-6bc2-4331-9ff4-7911dcb58a20",
   "metadata": {},
   "outputs": [],
   "source": [
    "#Milestone 2"
   ]
  },
  {
   "cell_type": "code",
   "execution_count": 19,
   "id": "e93f3e51-e6eb-4ddf-ae74-f9f6d8e15497",
   "metadata": {},
   "outputs": [
    {
     "data": {
      "text/plain": [
       "Date                       object\n",
       "House_Price_Index         float64\n",
       "Stock_Price_Index         float64\n",
       "Consumer_Price_Index      float64\n",
       "Population                float64\n",
       "Unemployment_Rate         float64\n",
       "Real_GDP                  float64\n",
       "Mortgage_Rate             float64\n",
       "Real_Disposable_Income    float64\n",
       "dtype: object"
      ]
     },
     "execution_count": 19,
     "metadata": {},
     "output_type": "execute_result"
    }
   ],
   "source": [
    "#finding the data types\n",
    "Trends.dtypes"
   ]
  },
  {
   "cell_type": "code",
   "execution_count": 20,
   "id": "88674caa-d81b-4c3e-8a91-abb1ba688b34",
   "metadata": {},
   "outputs": [],
   "source": [
    "#Data types look good for the analysis we plan to do so no manipulation is needed here"
   ]
  },
  {
   "cell_type": "code",
   "execution_count": 21,
   "id": "4e75807b-a374-48c9-bd40-ffaebb9d48be",
   "metadata": {},
   "outputs": [],
   "source": [
    "# we want to find which variable is the most coorelated to housing prices, to find the variables we want to use in our model\n",
    "#our y is HOUSE_PRICE_INDEX"
   ]
  },
  {
   "cell_type": "code",
   "execution_count": 22,
   "id": "244c4b58-0f87-4448-829e-34b0747e0171",
   "metadata": {},
   "outputs": [],
   "source": [
    " import numpy as np"
   ]
  },
  {
   "cell_type": "code",
   "execution_count": 23,
   "id": "8400ffba-9d80-4d32-809e-13d439b28634",
   "metadata": {},
   "outputs": [
    {
     "data": {
      "text/html": [
       "<div>\n",
       "<style scoped>\n",
       "    .dataframe tbody tr th:only-of-type {\n",
       "        vertical-align: middle;\n",
       "    }\n",
       "\n",
       "    .dataframe tbody tr th {\n",
       "        vertical-align: top;\n",
       "    }\n",
       "\n",
       "    .dataframe thead th {\n",
       "        text-align: right;\n",
       "    }\n",
       "</style>\n",
       "<table border=\"1\" class=\"dataframe\">\n",
       "  <thead>\n",
       "    <tr style=\"text-align: right;\">\n",
       "      <th></th>\n",
       "      <th>House_Price_Index</th>\n",
       "      <th>Stock_Price_Index</th>\n",
       "      <th>Consumer_Price_Index</th>\n",
       "      <th>Population</th>\n",
       "      <th>Unemployment_Rate</th>\n",
       "      <th>Real_GDP</th>\n",
       "      <th>Mortgage_Rate</th>\n",
       "      <th>Real_Disposable_Income</th>\n",
       "    </tr>\n",
       "  </thead>\n",
       "  <tbody>\n",
       "    <tr>\n",
       "      <th>House_Price_Index</th>\n",
       "      <td>1.000000</td>\n",
       "      <td>0.969546</td>\n",
       "      <td>0.969244</td>\n",
       "      <td>-0.615552</td>\n",
       "      <td>-0.339527</td>\n",
       "      <td>0.980220</td>\n",
       "      <td>-0.834767</td>\n",
       "      <td>0.986553</td>\n",
       "    </tr>\n",
       "    <tr>\n",
       "      <th>Stock_Price_Index</th>\n",
       "      <td>0.969546</td>\n",
       "      <td>1.000000</td>\n",
       "      <td>0.950569</td>\n",
       "      <td>-0.656950</td>\n",
       "      <td>-0.393546</td>\n",
       "      <td>0.971103</td>\n",
       "      <td>-0.842434</td>\n",
       "      <td>0.973682</td>\n",
       "    </tr>\n",
       "    <tr>\n",
       "      <th>Consumer_Price_Index</th>\n",
       "      <td>0.969244</td>\n",
       "      <td>0.950569</td>\n",
       "      <td>1.000000</td>\n",
       "      <td>-0.551374</td>\n",
       "      <td>-0.306713</td>\n",
       "      <td>0.991167</td>\n",
       "      <td>-0.852521</td>\n",
       "      <td>0.988868</td>\n",
       "    </tr>\n",
       "    <tr>\n",
       "      <th>Population</th>\n",
       "      <td>-0.615552</td>\n",
       "      <td>-0.656950</td>\n",
       "      <td>-0.551374</td>\n",
       "      <td>1.000000</td>\n",
       "      <td>0.067934</td>\n",
       "      <td>-0.587978</td>\n",
       "      <td>0.422529</td>\n",
       "      <td>-0.596869</td>\n",
       "    </tr>\n",
       "    <tr>\n",
       "      <th>Unemployment_Rate</th>\n",
       "      <td>-0.339527</td>\n",
       "      <td>-0.393546</td>\n",
       "      <td>-0.306713</td>\n",
       "      <td>0.067934</td>\n",
       "      <td>1.000000</td>\n",
       "      <td>-0.354710</td>\n",
       "      <td>0.316395</td>\n",
       "      <td>-0.335303</td>\n",
       "    </tr>\n",
       "    <tr>\n",
       "      <th>Real_GDP</th>\n",
       "      <td>0.980220</td>\n",
       "      <td>0.971103</td>\n",
       "      <td>0.991167</td>\n",
       "      <td>-0.587978</td>\n",
       "      <td>-0.354710</td>\n",
       "      <td>1.000000</td>\n",
       "      <td>-0.878215</td>\n",
       "      <td>0.995385</td>\n",
       "    </tr>\n",
       "    <tr>\n",
       "      <th>Mortgage_Rate</th>\n",
       "      <td>-0.834767</td>\n",
       "      <td>-0.842434</td>\n",
       "      <td>-0.852521</td>\n",
       "      <td>0.422529</td>\n",
       "      <td>0.316395</td>\n",
       "      <td>-0.878215</td>\n",
       "      <td>1.000000</td>\n",
       "      <td>-0.873526</td>\n",
       "    </tr>\n",
       "    <tr>\n",
       "      <th>Real_Disposable_Income</th>\n",
       "      <td>0.986553</td>\n",
       "      <td>0.973682</td>\n",
       "      <td>0.988868</td>\n",
       "      <td>-0.596869</td>\n",
       "      <td>-0.335303</td>\n",
       "      <td>0.995385</td>\n",
       "      <td>-0.873526</td>\n",
       "      <td>1.000000</td>\n",
       "    </tr>\n",
       "  </tbody>\n",
       "</table>\n",
       "</div>"
      ],
      "text/plain": [
       "                        House_Price_Index  Stock_Price_Index  \\\n",
       "House_Price_Index                1.000000           0.969546   \n",
       "Stock_Price_Index                0.969546           1.000000   \n",
       "Consumer_Price_Index             0.969244           0.950569   \n",
       "Population                      -0.615552          -0.656950   \n",
       "Unemployment_Rate               -0.339527          -0.393546   \n",
       "Real_GDP                         0.980220           0.971103   \n",
       "Mortgage_Rate                   -0.834767          -0.842434   \n",
       "Real_Disposable_Income           0.986553           0.973682   \n",
       "\n",
       "                        Consumer_Price_Index  Population  Unemployment_Rate  \\\n",
       "House_Price_Index                   0.969244   -0.615552          -0.339527   \n",
       "Stock_Price_Index                   0.950569   -0.656950          -0.393546   \n",
       "Consumer_Price_Index                1.000000   -0.551374          -0.306713   \n",
       "Population                         -0.551374    1.000000           0.067934   \n",
       "Unemployment_Rate                  -0.306713    0.067934           1.000000   \n",
       "Real_GDP                            0.991167   -0.587978          -0.354710   \n",
       "Mortgage_Rate                      -0.852521    0.422529           0.316395   \n",
       "Real_Disposable_Income              0.988868   -0.596869          -0.335303   \n",
       "\n",
       "                        Real_GDP  Mortgage_Rate  Real_Disposable_Income  \n",
       "House_Price_Index       0.980220      -0.834767                0.986553  \n",
       "Stock_Price_Index       0.971103      -0.842434                0.973682  \n",
       "Consumer_Price_Index    0.991167      -0.852521                0.988868  \n",
       "Population             -0.587978       0.422529               -0.596869  \n",
       "Unemployment_Rate      -0.354710       0.316395               -0.335303  \n",
       "Real_GDP                1.000000      -0.878215                0.995385  \n",
       "Mortgage_Rate          -0.878215       1.000000               -0.873526  \n",
       "Real_Disposable_Income  0.995385      -0.873526                1.000000  "
      ]
     },
     "execution_count": 23,
     "metadata": {},
     "output_type": "execute_result"
    }
   ],
   "source": [
    "Trends.corr()"
   ]
  },
  {
   "cell_type": "code",
   "execution_count": 24,
   "id": "cd2d46cb-3d8a-4522-91a2-1230c3120d10",
   "metadata": {},
   "outputs": [
    {
     "name": "stdout",
     "output_type": "stream",
     "text": [
      "Biggest correlating factors to House price is Stock price, consumer price index, REAL GDP, and Real Disposable Income\n"
     ]
    }
   ],
   "source": [
    "print(\"Biggest correlating factors to House price is Stock price, consumer price index, REAL GDP, and Real Disposable Income\")"
   ]
  },
  {
   "cell_type": "code",
   "execution_count": 25,
   "id": "afab608e-55df-4b69-b948-dff0900bf1fc",
   "metadata": {},
   "outputs": [],
   "source": [
    "CleanedData = Trends.drop([\"Population\", \"Unemployment_Rate\", \"Mortgage_Rate\"], axis =1)"
   ]
  },
  {
   "cell_type": "code",
   "execution_count": 26,
   "id": "1027d1b5-df2b-4096-be09-372a885a0dbd",
   "metadata": {},
   "outputs": [
    {
     "data": {
      "text/html": [
       "<div>\n",
       "<style scoped>\n",
       "    .dataframe tbody tr th:only-of-type {\n",
       "        vertical-align: middle;\n",
       "    }\n",
       "\n",
       "    .dataframe tbody tr th {\n",
       "        vertical-align: top;\n",
       "    }\n",
       "\n",
       "    .dataframe thead th {\n",
       "        text-align: right;\n",
       "    }\n",
       "</style>\n",
       "<table border=\"1\" class=\"dataframe\">\n",
       "  <thead>\n",
       "    <tr style=\"text-align: right;\">\n",
       "      <th></th>\n",
       "      <th>House_Price_Index</th>\n",
       "      <th>Stock_Price_Index</th>\n",
       "      <th>Consumer_Price_Index</th>\n",
       "      <th>Real_GDP</th>\n",
       "      <th>Real_Disposable_Income</th>\n",
       "    </tr>\n",
       "  </thead>\n",
       "  <tbody>\n",
       "    <tr>\n",
       "      <th>House_Price_Index</th>\n",
       "      <td>1.000000</td>\n",
       "      <td>0.969546</td>\n",
       "      <td>0.969244</td>\n",
       "      <td>0.980220</td>\n",
       "      <td>0.986553</td>\n",
       "    </tr>\n",
       "    <tr>\n",
       "      <th>Stock_Price_Index</th>\n",
       "      <td>0.969546</td>\n",
       "      <td>1.000000</td>\n",
       "      <td>0.950569</td>\n",
       "      <td>0.971103</td>\n",
       "      <td>0.973682</td>\n",
       "    </tr>\n",
       "    <tr>\n",
       "      <th>Consumer_Price_Index</th>\n",
       "      <td>0.969244</td>\n",
       "      <td>0.950569</td>\n",
       "      <td>1.000000</td>\n",
       "      <td>0.991167</td>\n",
       "      <td>0.988868</td>\n",
       "    </tr>\n",
       "    <tr>\n",
       "      <th>Real_GDP</th>\n",
       "      <td>0.980220</td>\n",
       "      <td>0.971103</td>\n",
       "      <td>0.991167</td>\n",
       "      <td>1.000000</td>\n",
       "      <td>0.995385</td>\n",
       "    </tr>\n",
       "    <tr>\n",
       "      <th>Real_Disposable_Income</th>\n",
       "      <td>0.986553</td>\n",
       "      <td>0.973682</td>\n",
       "      <td>0.988868</td>\n",
       "      <td>0.995385</td>\n",
       "      <td>1.000000</td>\n",
       "    </tr>\n",
       "  </tbody>\n",
       "</table>\n",
       "</div>"
      ],
      "text/plain": [
       "                        House_Price_Index  Stock_Price_Index  \\\n",
       "House_Price_Index                1.000000           0.969546   \n",
       "Stock_Price_Index                0.969546           1.000000   \n",
       "Consumer_Price_Index             0.969244           0.950569   \n",
       "Real_GDP                         0.980220           0.971103   \n",
       "Real_Disposable_Income           0.986553           0.973682   \n",
       "\n",
       "                        Consumer_Price_Index  Real_GDP  Real_Disposable_Income  \n",
       "House_Price_Index                   0.969244  0.980220                0.986553  \n",
       "Stock_Price_Index                   0.950569  0.971103                0.973682  \n",
       "Consumer_Price_Index                1.000000  0.991167                0.988868  \n",
       "Real_GDP                            0.991167  1.000000                0.995385  \n",
       "Real_Disposable_Income              0.988868  0.995385                1.000000  "
      ]
     },
     "execution_count": 26,
     "metadata": {},
     "output_type": "execute_result"
    }
   ],
   "source": [
    "#Removing low coorelating factors to have a strong data set\n",
    "CleanedData.corr()"
   ]
  },
  {
   "cell_type": "code",
   "execution_count": 27,
   "id": "075b496b-4e0f-4ed0-bbaf-760893a3d283",
   "metadata": {},
   "outputs": [],
   "source": [
    "#From the quick coorelation study, If I had to make a bet, I would bet disposable income is the strongest predictor to nearly all the other factors. The more money we have to spend the higher the prices and stock and GDP"
   ]
  },
  {
   "cell_type": "code",
   "execution_count": 28,
   "id": "5a6034fc-632e-4e55-a932-349f4a9e48dd",
   "metadata": {},
   "outputs": [],
   "source": [
    "#running a quick check to see if I have a complete data set\n",
    "percent_missing = CleanedData.isnull().sum() * 100 / len(CleanedData)\n",
    "missing_value_df = pd.DataFrame({'column_name': CleanedData.columns,\n",
    "                                 'percent_missing': percent_missing})"
   ]
  },
  {
   "cell_type": "code",
   "execution_count": 29,
   "id": "94be0d67-3f8e-470c-abe9-30c5454a8c11",
   "metadata": {},
   "outputs": [],
   "source": [
    "missing_value_df.sort_values('percent_missing', inplace=True)"
   ]
  },
  {
   "cell_type": "code",
   "execution_count": 30,
   "id": "b573fd48-d2d1-42b3-a46c-6d9a08b172f8",
   "metadata": {},
   "outputs": [
    {
     "data": {
      "text/html": [
       "<div>\n",
       "<style scoped>\n",
       "    .dataframe tbody tr th:only-of-type {\n",
       "        vertical-align: middle;\n",
       "    }\n",
       "\n",
       "    .dataframe tbody tr th {\n",
       "        vertical-align: top;\n",
       "    }\n",
       "\n",
       "    .dataframe thead th {\n",
       "        text-align: right;\n",
       "    }\n",
       "</style>\n",
       "<table border=\"1\" class=\"dataframe\">\n",
       "  <thead>\n",
       "    <tr style=\"text-align: right;\">\n",
       "      <th></th>\n",
       "      <th>column_name</th>\n",
       "      <th>percent_missing</th>\n",
       "    </tr>\n",
       "  </thead>\n",
       "  <tbody>\n",
       "    <tr>\n",
       "      <th>Date</th>\n",
       "      <td>Date</td>\n",
       "      <td>0.0</td>\n",
       "    </tr>\n",
       "    <tr>\n",
       "      <th>House_Price_Index</th>\n",
       "      <td>House_Price_Index</td>\n",
       "      <td>0.0</td>\n",
       "    </tr>\n",
       "    <tr>\n",
       "      <th>Stock_Price_Index</th>\n",
       "      <td>Stock_Price_Index</td>\n",
       "      <td>0.0</td>\n",
       "    </tr>\n",
       "    <tr>\n",
       "      <th>Consumer_Price_Index</th>\n",
       "      <td>Consumer_Price_Index</td>\n",
       "      <td>0.0</td>\n",
       "    </tr>\n",
       "    <tr>\n",
       "      <th>Real_GDP</th>\n",
       "      <td>Real_GDP</td>\n",
       "      <td>0.0</td>\n",
       "    </tr>\n",
       "    <tr>\n",
       "      <th>Real_Disposable_Income</th>\n",
       "      <td>Real_Disposable_Income</td>\n",
       "      <td>0.0</td>\n",
       "    </tr>\n",
       "  </tbody>\n",
       "</table>\n",
       "</div>"
      ],
      "text/plain": [
       "                                   column_name  percent_missing\n",
       "Date                                      Date              0.0\n",
       "House_Price_Index            House_Price_Index              0.0\n",
       "Stock_Price_Index            Stock_Price_Index              0.0\n",
       "Consumer_Price_Index      Consumer_Price_Index              0.0\n",
       "Real_GDP                              Real_GDP              0.0\n",
       "Real_Disposable_Income  Real_Disposable_Income              0.0"
      ]
     },
     "execution_count": 30,
     "metadata": {},
     "output_type": "execute_result"
    }
   ],
   "source": [
    "missing_value_df"
   ]
  },
  {
   "cell_type": "code",
   "execution_count": 31,
   "id": "274feb6f-6ab6-4254-aa8e-2f7980f76b28",
   "metadata": {},
   "outputs": [],
   "source": [
    "#From the missing values dataframe I created I can see that there are no missing values in the columns I selected so this data is good to go"
   ]
  },
  {
   "cell_type": "code",
   "execution_count": 32,
   "id": "f02027f5-5e0d-4ed2-9419-f8e079b15938",
   "metadata": {},
   "outputs": [],
   "source": [
    "#My first data set is complete, I have removed the bad columns and the data looks strong."
   ]
  },
  {
   "cell_type": "code",
   "execution_count": 33,
   "id": "69905e58-0aca-4504-ad42-98c339684ff4",
   "metadata": {},
   "outputs": [
    {
     "data": {
      "text/plain": [
       "Date                      2021-01-01\n",
       "House_Price_Index             523.26\n",
       "Stock_Price_Index          2255.8437\n",
       "Consumer_Price_Index       328.81353\n",
       "Real_GDP                   19427.287\n",
       "Real_Disposable_Income       48219.0\n",
       "Name: 46, dtype: object"
      ]
     },
     "execution_count": 33,
     "metadata": {},
     "output_type": "execute_result"
    }
   ],
   "source": [
    " CleanedData.iloc[-1]"
   ]
  },
  {
   "cell_type": "code",
   "execution_count": 34,
   "id": "995fe336-c62c-45c5-9f53-7ae67092ad3b",
   "metadata": {},
   "outputs": [],
   "source": [
    "#loading second dataset on California Housing to clean\n",
    "CaliHousing = pd.read_csv('CAHousing.csv')"
   ]
  },
  {
   "cell_type": "code",
   "execution_count": 35,
   "id": "fdf1f1eb-35b2-4fce-97a1-b06ea9d337f3",
   "metadata": {},
   "outputs": [
    {
     "data": {
      "text/html": [
       "<div>\n",
       "<style scoped>\n",
       "    .dataframe tbody tr th:only-of-type {\n",
       "        vertical-align: middle;\n",
       "    }\n",
       "\n",
       "    .dataframe tbody tr th {\n",
       "        vertical-align: top;\n",
       "    }\n",
       "\n",
       "    .dataframe thead th {\n",
       "        text-align: right;\n",
       "    }\n",
       "</style>\n",
       "<table border=\"1\" class=\"dataframe\">\n",
       "  <thead>\n",
       "    <tr style=\"text-align: right;\">\n",
       "      <th></th>\n",
       "      <th>longitude</th>\n",
       "      <th>latitude</th>\n",
       "      <th>housing_median_age</th>\n",
       "      <th>total_rooms</th>\n",
       "      <th>total_bedrooms</th>\n",
       "      <th>population</th>\n",
       "      <th>households</th>\n",
       "      <th>median_income</th>\n",
       "      <th>median_house_value</th>\n",
       "      <th>ocean_proximity</th>\n",
       "    </tr>\n",
       "  </thead>\n",
       "  <tbody>\n",
       "    <tr>\n",
       "      <th>0</th>\n",
       "      <td>-122.23</td>\n",
       "      <td>37.88</td>\n",
       "      <td>41.0</td>\n",
       "      <td>880.0</td>\n",
       "      <td>129.0</td>\n",
       "      <td>322.0</td>\n",
       "      <td>126.0</td>\n",
       "      <td>8.3252</td>\n",
       "      <td>452600.0</td>\n",
       "      <td>NEAR BAY</td>\n",
       "    </tr>\n",
       "    <tr>\n",
       "      <th>1</th>\n",
       "      <td>-122.22</td>\n",
       "      <td>37.86</td>\n",
       "      <td>21.0</td>\n",
       "      <td>7099.0</td>\n",
       "      <td>1106.0</td>\n",
       "      <td>2401.0</td>\n",
       "      <td>1138.0</td>\n",
       "      <td>8.3014</td>\n",
       "      <td>358500.0</td>\n",
       "      <td>NEAR BAY</td>\n",
       "    </tr>\n",
       "    <tr>\n",
       "      <th>2</th>\n",
       "      <td>-122.24</td>\n",
       "      <td>37.85</td>\n",
       "      <td>52.0</td>\n",
       "      <td>1467.0</td>\n",
       "      <td>190.0</td>\n",
       "      <td>496.0</td>\n",
       "      <td>177.0</td>\n",
       "      <td>7.2574</td>\n",
       "      <td>352100.0</td>\n",
       "      <td>NEAR BAY</td>\n",
       "    </tr>\n",
       "    <tr>\n",
       "      <th>3</th>\n",
       "      <td>-122.25</td>\n",
       "      <td>37.85</td>\n",
       "      <td>52.0</td>\n",
       "      <td>1274.0</td>\n",
       "      <td>235.0</td>\n",
       "      <td>558.0</td>\n",
       "      <td>219.0</td>\n",
       "      <td>5.6431</td>\n",
       "      <td>341300.0</td>\n",
       "      <td>NEAR BAY</td>\n",
       "    </tr>\n",
       "    <tr>\n",
       "      <th>4</th>\n",
       "      <td>-122.25</td>\n",
       "      <td>37.85</td>\n",
       "      <td>52.0</td>\n",
       "      <td>1627.0</td>\n",
       "      <td>280.0</td>\n",
       "      <td>565.0</td>\n",
       "      <td>259.0</td>\n",
       "      <td>3.8462</td>\n",
       "      <td>342200.0</td>\n",
       "      <td>NEAR BAY</td>\n",
       "    </tr>\n",
       "  </tbody>\n",
       "</table>\n",
       "</div>"
      ],
      "text/plain": [
       "   longitude  latitude  housing_median_age  total_rooms  total_bedrooms  \\\n",
       "0    -122.23     37.88                41.0        880.0           129.0   \n",
       "1    -122.22     37.86                21.0       7099.0          1106.0   \n",
       "2    -122.24     37.85                52.0       1467.0           190.0   \n",
       "3    -122.25     37.85                52.0       1274.0           235.0   \n",
       "4    -122.25     37.85                52.0       1627.0           280.0   \n",
       "\n",
       "   population  households  median_income  median_house_value ocean_proximity  \n",
       "0       322.0       126.0         8.3252            452600.0        NEAR BAY  \n",
       "1      2401.0      1138.0         8.3014            358500.0        NEAR BAY  \n",
       "2       496.0       177.0         7.2574            352100.0        NEAR BAY  \n",
       "3       558.0       219.0         5.6431            341300.0        NEAR BAY  \n",
       "4       565.0       259.0         3.8462            342200.0        NEAR BAY  "
      ]
     },
     "execution_count": 35,
     "metadata": {},
     "output_type": "execute_result"
    }
   ],
   "source": [
    "CaliHousing.head()"
   ]
  },
  {
   "cell_type": "code",
   "execution_count": 36,
   "id": "d083ed81-99a5-4eb4-89b8-3a6bdb4dcd2b",
   "metadata": {},
   "outputs": [],
   "source": [
    "#Step one is checking for missing rows"
   ]
  },
  {
   "cell_type": "code",
   "execution_count": 37,
   "id": "373306b0-b25d-451a-8de8-237c50bd039d",
   "metadata": {},
   "outputs": [],
   "source": [
    "#running a quick check to see if I have a complete data set\n",
    "percent_missing2 = CaliHousing.isnull().sum() * 100 / len(CaliHousing)\n",
    "missing_value_df2 = pd.DataFrame({'column_name': CaliHousing.columns,\n",
    "                                 'percent_missing': percent_missing2})"
   ]
  },
  {
   "cell_type": "code",
   "execution_count": 38,
   "id": "cad7e387-9478-4919-a49a-87d397925359",
   "metadata": {},
   "outputs": [],
   "source": [
    "missing_value_df2.sort_values('percent_missing', inplace=True)"
   ]
  },
  {
   "cell_type": "code",
   "execution_count": 39,
   "id": "ec699580-644d-46a8-86be-0fa54ad5fde7",
   "metadata": {},
   "outputs": [
    {
     "data": {
      "text/html": [
       "<div>\n",
       "<style scoped>\n",
       "    .dataframe tbody tr th:only-of-type {\n",
       "        vertical-align: middle;\n",
       "    }\n",
       "\n",
       "    .dataframe tbody tr th {\n",
       "        vertical-align: top;\n",
       "    }\n",
       "\n",
       "    .dataframe thead th {\n",
       "        text-align: right;\n",
       "    }\n",
       "</style>\n",
       "<table border=\"1\" class=\"dataframe\">\n",
       "  <thead>\n",
       "    <tr style=\"text-align: right;\">\n",
       "      <th></th>\n",
       "      <th>column_name</th>\n",
       "      <th>percent_missing</th>\n",
       "    </tr>\n",
       "  </thead>\n",
       "  <tbody>\n",
       "    <tr>\n",
       "      <th>longitude</th>\n",
       "      <td>longitude</td>\n",
       "      <td>0.000000</td>\n",
       "    </tr>\n",
       "    <tr>\n",
       "      <th>latitude</th>\n",
       "      <td>latitude</td>\n",
       "      <td>0.000000</td>\n",
       "    </tr>\n",
       "    <tr>\n",
       "      <th>housing_median_age</th>\n",
       "      <td>housing_median_age</td>\n",
       "      <td>0.000000</td>\n",
       "    </tr>\n",
       "    <tr>\n",
       "      <th>total_rooms</th>\n",
       "      <td>total_rooms</td>\n",
       "      <td>0.000000</td>\n",
       "    </tr>\n",
       "    <tr>\n",
       "      <th>population</th>\n",
       "      <td>population</td>\n",
       "      <td>0.000000</td>\n",
       "    </tr>\n",
       "    <tr>\n",
       "      <th>households</th>\n",
       "      <td>households</td>\n",
       "      <td>0.000000</td>\n",
       "    </tr>\n",
       "    <tr>\n",
       "      <th>median_income</th>\n",
       "      <td>median_income</td>\n",
       "      <td>0.000000</td>\n",
       "    </tr>\n",
       "    <tr>\n",
       "      <th>median_house_value</th>\n",
       "      <td>median_house_value</td>\n",
       "      <td>0.000000</td>\n",
       "    </tr>\n",
       "    <tr>\n",
       "      <th>ocean_proximity</th>\n",
       "      <td>ocean_proximity</td>\n",
       "      <td>0.000000</td>\n",
       "    </tr>\n",
       "    <tr>\n",
       "      <th>total_bedrooms</th>\n",
       "      <td>total_bedrooms</td>\n",
       "      <td>1.002907</td>\n",
       "    </tr>\n",
       "  </tbody>\n",
       "</table>\n",
       "</div>"
      ],
      "text/plain": [
       "                           column_name  percent_missing\n",
       "longitude                    longitude         0.000000\n",
       "latitude                      latitude         0.000000\n",
       "housing_median_age  housing_median_age         0.000000\n",
       "total_rooms                total_rooms         0.000000\n",
       "population                  population         0.000000\n",
       "households                  households         0.000000\n",
       "median_income            median_income         0.000000\n",
       "median_house_value  median_house_value         0.000000\n",
       "ocean_proximity        ocean_proximity         0.000000\n",
       "total_bedrooms          total_bedrooms         1.002907"
      ]
     },
     "execution_count": 39,
     "metadata": {},
     "output_type": "execute_result"
    }
   ],
   "source": [
    "#Total Bedrooms is missing some values, we either remove those, mark them as NA or drop the column\n",
    "missing_value_df2"
   ]
  },
  {
   "cell_type": "code",
   "execution_count": 40,
   "id": "5f69789a-1c61-4648-880d-22ffd3aeb1fc",
   "metadata": {},
   "outputs": [
    {
     "data": {
      "text/html": [
       "<div>\n",
       "<style scoped>\n",
       "    .dataframe tbody tr th:only-of-type {\n",
       "        vertical-align: middle;\n",
       "    }\n",
       "\n",
       "    .dataframe tbody tr th {\n",
       "        vertical-align: top;\n",
       "    }\n",
       "\n",
       "    .dataframe thead th {\n",
       "        text-align: right;\n",
       "    }\n",
       "</style>\n",
       "<table border=\"1\" class=\"dataframe\">\n",
       "  <thead>\n",
       "    <tr style=\"text-align: right;\">\n",
       "      <th></th>\n",
       "      <th>longitude</th>\n",
       "      <th>latitude</th>\n",
       "      <th>housing_median_age</th>\n",
       "      <th>total_rooms</th>\n",
       "      <th>total_bedrooms</th>\n",
       "      <th>population</th>\n",
       "      <th>households</th>\n",
       "      <th>median_income</th>\n",
       "      <th>median_house_value</th>\n",
       "    </tr>\n",
       "  </thead>\n",
       "  <tbody>\n",
       "    <tr>\n",
       "      <th>longitude</th>\n",
       "      <td>1.000000</td>\n",
       "      <td>-0.924664</td>\n",
       "      <td>-0.108197</td>\n",
       "      <td>0.044568</td>\n",
       "      <td>0.069608</td>\n",
       "      <td>0.099773</td>\n",
       "      <td>0.055310</td>\n",
       "      <td>-0.015176</td>\n",
       "      <td>-0.045967</td>\n",
       "    </tr>\n",
       "    <tr>\n",
       "      <th>latitude</th>\n",
       "      <td>-0.924664</td>\n",
       "      <td>1.000000</td>\n",
       "      <td>0.011173</td>\n",
       "      <td>-0.036100</td>\n",
       "      <td>-0.066983</td>\n",
       "      <td>-0.108785</td>\n",
       "      <td>-0.071035</td>\n",
       "      <td>-0.079809</td>\n",
       "      <td>-0.144160</td>\n",
       "    </tr>\n",
       "    <tr>\n",
       "      <th>housing_median_age</th>\n",
       "      <td>-0.108197</td>\n",
       "      <td>0.011173</td>\n",
       "      <td>1.000000</td>\n",
       "      <td>-0.361262</td>\n",
       "      <td>-0.320451</td>\n",
       "      <td>-0.296244</td>\n",
       "      <td>-0.302916</td>\n",
       "      <td>-0.119034</td>\n",
       "      <td>0.105623</td>\n",
       "    </tr>\n",
       "    <tr>\n",
       "      <th>total_rooms</th>\n",
       "      <td>0.044568</td>\n",
       "      <td>-0.036100</td>\n",
       "      <td>-0.361262</td>\n",
       "      <td>1.000000</td>\n",
       "      <td>0.930380</td>\n",
       "      <td>0.857126</td>\n",
       "      <td>0.918484</td>\n",
       "      <td>0.198050</td>\n",
       "      <td>0.134153</td>\n",
       "    </tr>\n",
       "    <tr>\n",
       "      <th>total_bedrooms</th>\n",
       "      <td>0.069608</td>\n",
       "      <td>-0.066983</td>\n",
       "      <td>-0.320451</td>\n",
       "      <td>0.930380</td>\n",
       "      <td>1.000000</td>\n",
       "      <td>0.877747</td>\n",
       "      <td>0.979728</td>\n",
       "      <td>-0.007723</td>\n",
       "      <td>0.049686</td>\n",
       "    </tr>\n",
       "    <tr>\n",
       "      <th>population</th>\n",
       "      <td>0.099773</td>\n",
       "      <td>-0.108785</td>\n",
       "      <td>-0.296244</td>\n",
       "      <td>0.857126</td>\n",
       "      <td>0.877747</td>\n",
       "      <td>1.000000</td>\n",
       "      <td>0.907222</td>\n",
       "      <td>0.004834</td>\n",
       "      <td>-0.024650</td>\n",
       "    </tr>\n",
       "    <tr>\n",
       "      <th>households</th>\n",
       "      <td>0.055310</td>\n",
       "      <td>-0.071035</td>\n",
       "      <td>-0.302916</td>\n",
       "      <td>0.918484</td>\n",
       "      <td>0.979728</td>\n",
       "      <td>0.907222</td>\n",
       "      <td>1.000000</td>\n",
       "      <td>0.013033</td>\n",
       "      <td>0.065843</td>\n",
       "    </tr>\n",
       "    <tr>\n",
       "      <th>median_income</th>\n",
       "      <td>-0.015176</td>\n",
       "      <td>-0.079809</td>\n",
       "      <td>-0.119034</td>\n",
       "      <td>0.198050</td>\n",
       "      <td>-0.007723</td>\n",
       "      <td>0.004834</td>\n",
       "      <td>0.013033</td>\n",
       "      <td>1.000000</td>\n",
       "      <td>0.688075</td>\n",
       "    </tr>\n",
       "    <tr>\n",
       "      <th>median_house_value</th>\n",
       "      <td>-0.045967</td>\n",
       "      <td>-0.144160</td>\n",
       "      <td>0.105623</td>\n",
       "      <td>0.134153</td>\n",
       "      <td>0.049686</td>\n",
       "      <td>-0.024650</td>\n",
       "      <td>0.065843</td>\n",
       "      <td>0.688075</td>\n",
       "      <td>1.000000</td>\n",
       "    </tr>\n",
       "  </tbody>\n",
       "</table>\n",
       "</div>"
      ],
      "text/plain": [
       "                    longitude  latitude  housing_median_age  total_rooms  \\\n",
       "longitude            1.000000 -0.924664           -0.108197     0.044568   \n",
       "latitude            -0.924664  1.000000            0.011173    -0.036100   \n",
       "housing_median_age  -0.108197  0.011173            1.000000    -0.361262   \n",
       "total_rooms          0.044568 -0.036100           -0.361262     1.000000   \n",
       "total_bedrooms       0.069608 -0.066983           -0.320451     0.930380   \n",
       "population           0.099773 -0.108785           -0.296244     0.857126   \n",
       "households           0.055310 -0.071035           -0.302916     0.918484   \n",
       "median_income       -0.015176 -0.079809           -0.119034     0.198050   \n",
       "median_house_value  -0.045967 -0.144160            0.105623     0.134153   \n",
       "\n",
       "                    total_bedrooms  population  households  median_income  \\\n",
       "longitude                 0.069608    0.099773    0.055310      -0.015176   \n",
       "latitude                 -0.066983   -0.108785   -0.071035      -0.079809   \n",
       "housing_median_age       -0.320451   -0.296244   -0.302916      -0.119034   \n",
       "total_rooms               0.930380    0.857126    0.918484       0.198050   \n",
       "total_bedrooms            1.000000    0.877747    0.979728      -0.007723   \n",
       "population                0.877747    1.000000    0.907222       0.004834   \n",
       "households                0.979728    0.907222    1.000000       0.013033   \n",
       "median_income            -0.007723    0.004834    0.013033       1.000000   \n",
       "median_house_value        0.049686   -0.024650    0.065843       0.688075   \n",
       "\n",
       "                    median_house_value  \n",
       "longitude                    -0.045967  \n",
       "latitude                     -0.144160  \n",
       "housing_median_age            0.105623  \n",
       "total_rooms                   0.134153  \n",
       "total_bedrooms                0.049686  \n",
       "population                   -0.024650  \n",
       "households                    0.065843  \n",
       "median_income                 0.688075  \n",
       "median_house_value            1.000000  "
      ]
     },
     "execution_count": 40,
     "metadata": {},
     "output_type": "execute_result"
    }
   ],
   "source": [
    "#Look for coorelating factos to median house value\n",
    "CaliHousing.corr()"
   ]
  },
  {
   "cell_type": "code",
   "execution_count": 41,
   "id": "72f5bc4b-b44e-42ac-9f60-1ec04da8701e",
   "metadata": {},
   "outputs": [],
   "source": [
    "#it isnt the strongest but we do see median income and household as stronger factors to the home price, this is similar to the other dataset. More disposable income comes from more general income"
   ]
  },
  {
   "cell_type": "code",
   "execution_count": 42,
   "id": "0a3cfd9d-239e-48fe-9c48-bf0190261be4",
   "metadata": {},
   "outputs": [],
   "source": [
    "CaliHousingCleaned = CaliHousing.drop([\"housing_median_age\", \"total_rooms\", \"total_bedrooms\", \"population\"], axis=1)"
   ]
  },
  {
   "cell_type": "code",
   "execution_count": 43,
   "id": "d9d0f8c4-67fd-4016-b718-d4be378befbd",
   "metadata": {},
   "outputs": [
    {
     "name": "stdout",
     "output_type": "stream",
     "text": [
      "We now have a cleaned dataset with communitys in california and the income of the community, number of houses, and the value. As well as the geographic location\n"
     ]
    },
    {
     "data": {
      "text/html": [
       "<div>\n",
       "<style scoped>\n",
       "    .dataframe tbody tr th:only-of-type {\n",
       "        vertical-align: middle;\n",
       "    }\n",
       "\n",
       "    .dataframe tbody tr th {\n",
       "        vertical-align: top;\n",
       "    }\n",
       "\n",
       "    .dataframe thead th {\n",
       "        text-align: right;\n",
       "    }\n",
       "</style>\n",
       "<table border=\"1\" class=\"dataframe\">\n",
       "  <thead>\n",
       "    <tr style=\"text-align: right;\">\n",
       "      <th></th>\n",
       "      <th>longitude</th>\n",
       "      <th>latitude</th>\n",
       "      <th>households</th>\n",
       "      <th>median_income</th>\n",
       "      <th>median_house_value</th>\n",
       "      <th>ocean_proximity</th>\n",
       "    </tr>\n",
       "  </thead>\n",
       "  <tbody>\n",
       "    <tr>\n",
       "      <th>0</th>\n",
       "      <td>-122.23</td>\n",
       "      <td>37.88</td>\n",
       "      <td>126.0</td>\n",
       "      <td>8.3252</td>\n",
       "      <td>452600.0</td>\n",
       "      <td>NEAR BAY</td>\n",
       "    </tr>\n",
       "    <tr>\n",
       "      <th>1</th>\n",
       "      <td>-122.22</td>\n",
       "      <td>37.86</td>\n",
       "      <td>1138.0</td>\n",
       "      <td>8.3014</td>\n",
       "      <td>358500.0</td>\n",
       "      <td>NEAR BAY</td>\n",
       "    </tr>\n",
       "    <tr>\n",
       "      <th>2</th>\n",
       "      <td>-122.24</td>\n",
       "      <td>37.85</td>\n",
       "      <td>177.0</td>\n",
       "      <td>7.2574</td>\n",
       "      <td>352100.0</td>\n",
       "      <td>NEAR BAY</td>\n",
       "    </tr>\n",
       "    <tr>\n",
       "      <th>3</th>\n",
       "      <td>-122.25</td>\n",
       "      <td>37.85</td>\n",
       "      <td>219.0</td>\n",
       "      <td>5.6431</td>\n",
       "      <td>341300.0</td>\n",
       "      <td>NEAR BAY</td>\n",
       "    </tr>\n",
       "    <tr>\n",
       "      <th>4</th>\n",
       "      <td>-122.25</td>\n",
       "      <td>37.85</td>\n",
       "      <td>259.0</td>\n",
       "      <td>3.8462</td>\n",
       "      <td>342200.0</td>\n",
       "      <td>NEAR BAY</td>\n",
       "    </tr>\n",
       "    <tr>\n",
       "      <th>...</th>\n",
       "      <td>...</td>\n",
       "      <td>...</td>\n",
       "      <td>...</td>\n",
       "      <td>...</td>\n",
       "      <td>...</td>\n",
       "      <td>...</td>\n",
       "    </tr>\n",
       "    <tr>\n",
       "      <th>20635</th>\n",
       "      <td>-121.09</td>\n",
       "      <td>39.48</td>\n",
       "      <td>330.0</td>\n",
       "      <td>1.5603</td>\n",
       "      <td>78100.0</td>\n",
       "      <td>INLAND</td>\n",
       "    </tr>\n",
       "    <tr>\n",
       "      <th>20636</th>\n",
       "      <td>-121.21</td>\n",
       "      <td>39.49</td>\n",
       "      <td>114.0</td>\n",
       "      <td>2.5568</td>\n",
       "      <td>77100.0</td>\n",
       "      <td>INLAND</td>\n",
       "    </tr>\n",
       "    <tr>\n",
       "      <th>20637</th>\n",
       "      <td>-121.22</td>\n",
       "      <td>39.43</td>\n",
       "      <td>433.0</td>\n",
       "      <td>1.7000</td>\n",
       "      <td>92300.0</td>\n",
       "      <td>INLAND</td>\n",
       "    </tr>\n",
       "    <tr>\n",
       "      <th>20638</th>\n",
       "      <td>-121.32</td>\n",
       "      <td>39.43</td>\n",
       "      <td>349.0</td>\n",
       "      <td>1.8672</td>\n",
       "      <td>84700.0</td>\n",
       "      <td>INLAND</td>\n",
       "    </tr>\n",
       "    <tr>\n",
       "      <th>20639</th>\n",
       "      <td>-121.24</td>\n",
       "      <td>39.37</td>\n",
       "      <td>530.0</td>\n",
       "      <td>2.3886</td>\n",
       "      <td>89400.0</td>\n",
       "      <td>INLAND</td>\n",
       "    </tr>\n",
       "  </tbody>\n",
       "</table>\n",
       "<p>20640 rows × 6 columns</p>\n",
       "</div>"
      ],
      "text/plain": [
       "       longitude  latitude  households  median_income  median_house_value  \\\n",
       "0        -122.23     37.88       126.0         8.3252            452600.0   \n",
       "1        -122.22     37.86      1138.0         8.3014            358500.0   \n",
       "2        -122.24     37.85       177.0         7.2574            352100.0   \n",
       "3        -122.25     37.85       219.0         5.6431            341300.0   \n",
       "4        -122.25     37.85       259.0         3.8462            342200.0   \n",
       "...          ...       ...         ...            ...                 ...   \n",
       "20635    -121.09     39.48       330.0         1.5603             78100.0   \n",
       "20636    -121.21     39.49       114.0         2.5568             77100.0   \n",
       "20637    -121.22     39.43       433.0         1.7000             92300.0   \n",
       "20638    -121.32     39.43       349.0         1.8672             84700.0   \n",
       "20639    -121.24     39.37       530.0         2.3886             89400.0   \n",
       "\n",
       "      ocean_proximity  \n",
       "0            NEAR BAY  \n",
       "1            NEAR BAY  \n",
       "2            NEAR BAY  \n",
       "3            NEAR BAY  \n",
       "4            NEAR BAY  \n",
       "...               ...  \n",
       "20635          INLAND  \n",
       "20636          INLAND  \n",
       "20637          INLAND  \n",
       "20638          INLAND  \n",
       "20639          INLAND  \n",
       "\n",
       "[20640 rows x 6 columns]"
      ]
     },
     "execution_count": 43,
     "metadata": {},
     "output_type": "execute_result"
    }
   ],
   "source": [
    "print(\"We now have a cleaned dataset with communitys in california and the income of the community, number of houses, and the value. As well as the geographic location\")\n",
    "CaliHousingCleaned"
   ]
  },
  {
   "cell_type": "code",
   "execution_count": 44,
   "id": "2427f9ef-8858-4424-9778-453acd4a9678",
   "metadata": {},
   "outputs": [],
   "source": [
    "#Get the geom by combining Long and Lat, having two columns as an identifier for location makes grouping difficult. We want one variable to denote the location of the community that we can group on, we can use geopy to get the city name, but this seems to crash quite a bit for me"
   ]
  },
  {
   "cell_type": "code",
   "execution_count": 45,
   "id": "f90fe74b-1157-4544-a181-07155d5433ce",
   "metadata": {},
   "outputs": [],
   "source": [
    "from geopy.geocoders import Nominatim\n",
    "from geopy.point import Point"
   ]
  },
  {
   "cell_type": "code",
   "execution_count": 46,
   "id": "39b2b490-713c-4e66-be99-1cfd754e30b7",
   "metadata": {},
   "outputs": [
    {
     "data": {
      "text/plain": [
       "0        (37.88, -122.23)\n",
       "1        (37.86, -122.22)\n",
       "2        (37.85, -122.24)\n",
       "3        (37.85, -122.25)\n",
       "4        (37.85, -122.25)\n",
       "               ...       \n",
       "20635    (39.48, -121.09)\n",
       "20636    (39.49, -121.21)\n",
       "20637    (39.43, -121.22)\n",
       "20638    (39.43, -121.32)\n",
       "20639    (39.37, -121.24)\n",
       "Name: geom, Length: 20640, dtype: object"
      ]
     },
     "execution_count": 46,
     "metadata": {},
     "output_type": "execute_result"
    }
   ],
   "source": [
    "CaliHousingCleaned['geom'] = CaliHousingCleaned.apply(lambda row: (str(row.latitude),str(row.longitude)),axis=1)\n",
    "CaliHousingCleaned.geom"
   ]
  },
  {
   "cell_type": "code",
   "execution_count": 47,
   "id": "ef925201-3af2-41bc-ad3c-ab9f3e8869f2",
   "metadata": {},
   "outputs": [],
   "source": [
    "#Drop long and lat as they are not needed anymore\n",
    "CaliHousingCleaned = CaliHousingCleaned.drop([\"longitude\",\"latitude\"],axis=1)"
   ]
  },
  {
   "cell_type": "code",
   "execution_count": 48,
   "id": "002fb69c-82d5-465a-ac7c-2d8b062e4c0a",
   "metadata": {},
   "outputs": [
    {
     "data": {
      "text/plain": [
       "<1H OCEAN     9136\n",
       "INLAND        6551\n",
       "NEAR OCEAN    2658\n",
       "NEAR BAY      2290\n",
       "ISLAND           5\n",
       "Name: ocean_proximity, dtype: int64"
      ]
     },
     "execution_count": 48,
     "metadata": {},
     "output_type": "execute_result"
    }
   ],
   "source": [
    "#checking values in ocean proximity to see if there is any changes needed\n",
    "CaliHousingCleaned['ocean_proximity'].value_counts()"
   ]
  },
  {
   "cell_type": "code",
   "execution_count": 49,
   "id": "1f16a301-fb29-457f-8a0a-c430e14d5d22",
   "metadata": {},
   "outputs": [],
   "source": [
    "#5 data types, we may want to split these out and see if there is coorelation between them, a pivot can be used here"
   ]
  },
  {
   "cell_type": "code",
   "execution_count": 50,
   "id": "76eaaeec-c6c2-4c44-95bf-10b7178b5ebf",
   "metadata": {},
   "outputs": [],
   "source": [
    "#Create a pivot on geom and ocean_proximity\n",
    "CaliHousingPivot = CaliHousingCleaned.pivot_table(index = ['geom','ocean_proximity'])"
   ]
  },
  {
   "cell_type": "code",
   "execution_count": 51,
   "id": "d333f9e1-c04a-4bdb-a357-0c0bb0a51d08",
   "metadata": {},
   "outputs": [
    {
     "data": {
      "text/html": [
       "<div>\n",
       "<style scoped>\n",
       "    .dataframe tbody tr th:only-of-type {\n",
       "        vertical-align: middle;\n",
       "    }\n",
       "\n",
       "    .dataframe tbody tr th {\n",
       "        vertical-align: top;\n",
       "    }\n",
       "\n",
       "    .dataframe thead th {\n",
       "        text-align: right;\n",
       "    }\n",
       "</style>\n",
       "<table border=\"1\" class=\"dataframe\">\n",
       "  <thead>\n",
       "    <tr style=\"text-align: right;\">\n",
       "      <th></th>\n",
       "      <th></th>\n",
       "      <th>households</th>\n",
       "      <th>median_house_value</th>\n",
       "      <th>median_income</th>\n",
       "    </tr>\n",
       "    <tr>\n",
       "      <th>geom</th>\n",
       "      <th>ocean_proximity</th>\n",
       "      <th></th>\n",
       "      <th></th>\n",
       "      <th></th>\n",
       "    </tr>\n",
       "  </thead>\n",
       "  <tbody>\n",
       "    <tr>\n",
       "      <th>(32.54, -117.04)</th>\n",
       "      <th>NEAR OCEAN</th>\n",
       "      <td>282.0</td>\n",
       "      <td>67500.0</td>\n",
       "      <td>1.2667</td>\n",
       "    </tr>\n",
       "    <tr>\n",
       "      <th>(32.55, -117.04)</th>\n",
       "      <th>NEAR OCEAN</th>\n",
       "      <td>648.0</td>\n",
       "      <td>93200.0</td>\n",
       "      <td>1.6348</td>\n",
       "    </tr>\n",
       "    <tr>\n",
       "      <th>(32.55, -117.06)</th>\n",
       "      <th>NEAR OCEAN</th>\n",
       "      <td>854.0</td>\n",
       "      <td>108800.0</td>\n",
       "      <td>1.4384</td>\n",
       "    </tr>\n",
       "    <tr>\n",
       "      <th>(32.55, -117.09)</th>\n",
       "      <th>NEAR OCEAN</th>\n",
       "      <td>1177.0</td>\n",
       "      <td>144400.0</td>\n",
       "      <td>3.9583</td>\n",
       "    </tr>\n",
       "    <tr>\n",
       "      <th>(32.56, -116.97)</th>\n",
       "      <th>NEAR OCEAN</th>\n",
       "      <td>275.0</td>\n",
       "      <td>153300.0</td>\n",
       "      <td>2.5625</td>\n",
       "    </tr>\n",
       "    <tr>\n",
       "      <th>...</th>\n",
       "      <th>...</th>\n",
       "      <td>...</td>\n",
       "      <td>...</td>\n",
       "      <td>...</td>\n",
       "    </tr>\n",
       "    <tr>\n",
       "      <th>(41.86, -123.26)</th>\n",
       "      <th>INLAND</th>\n",
       "      <td>424.0</td>\n",
       "      <td>64600.0</td>\n",
       "      <td>2.7222</td>\n",
       "    </tr>\n",
       "    <tr>\n",
       "      <th>(41.88, -123.83)</th>\n",
       "      <th>&lt;1H OCEAN</th>\n",
       "      <td>258.0</td>\n",
       "      <td>116700.0</td>\n",
       "      <td>3.1300</td>\n",
       "    </tr>\n",
       "    <tr>\n",
       "      <th>(41.92, -124.16)</th>\n",
       "      <th>NEAR OCEAN</th>\n",
       "      <td>283.0</td>\n",
       "      <td>75000.0</td>\n",
       "      <td>2.1336</td>\n",
       "    </tr>\n",
       "    <tr>\n",
       "      <th>(41.95, -122.64)</th>\n",
       "      <th>INLAND</th>\n",
       "      <td>314.0</td>\n",
       "      <td>53500.0</td>\n",
       "      <td>1.8242</td>\n",
       "    </tr>\n",
       "    <tr>\n",
       "      <th>(41.95, -124.14)</th>\n",
       "      <th>NEAR OCEAN</th>\n",
       "      <td>494.0</td>\n",
       "      <td>122400.0</td>\n",
       "      <td>2.2750</td>\n",
       "    </tr>\n",
       "  </tbody>\n",
       "</table>\n",
       "<p>12590 rows × 3 columns</p>\n",
       "</div>"
      ],
      "text/plain": [
       "                                  households  median_house_value  \\\n",
       "geom             ocean_proximity                                   \n",
       "(32.54, -117.04) NEAR OCEAN            282.0             67500.0   \n",
       "(32.55, -117.04) NEAR OCEAN            648.0             93200.0   \n",
       "(32.55, -117.06) NEAR OCEAN            854.0            108800.0   \n",
       "(32.55, -117.09) NEAR OCEAN           1177.0            144400.0   \n",
       "(32.56, -116.97) NEAR OCEAN            275.0            153300.0   \n",
       "...                                      ...                 ...   \n",
       "(41.86, -123.26) INLAND                424.0             64600.0   \n",
       "(41.88, -123.83) <1H OCEAN             258.0            116700.0   \n",
       "(41.92, -124.16) NEAR OCEAN            283.0             75000.0   \n",
       "(41.95, -122.64) INLAND                314.0             53500.0   \n",
       "(41.95, -124.14) NEAR OCEAN            494.0            122400.0   \n",
       "\n",
       "                                  median_income  \n",
       "geom             ocean_proximity                 \n",
       "(32.54, -117.04) NEAR OCEAN              1.2667  \n",
       "(32.55, -117.04) NEAR OCEAN              1.6348  \n",
       "(32.55, -117.06) NEAR OCEAN              1.4384  \n",
       "(32.55, -117.09) NEAR OCEAN              3.9583  \n",
       "(32.56, -116.97) NEAR OCEAN              2.5625  \n",
       "...                                         ...  \n",
       "(41.86, -123.26) INLAND                  2.7222  \n",
       "(41.88, -123.83) <1H OCEAN               3.1300  \n",
       "(41.92, -124.16) NEAR OCEAN              2.1336  \n",
       "(41.95, -122.64) INLAND                  1.8242  \n",
       "(41.95, -124.14) NEAR OCEAN              2.2750  \n",
       "\n",
       "[12590 rows x 3 columns]"
      ]
     },
     "execution_count": 51,
     "metadata": {},
     "output_type": "execute_result"
    }
   ],
   "source": [
    "CaliHousingPivot"
   ]
  },
  {
   "cell_type": "code",
   "execution_count": 52,
   "id": "4f9446d8-0ac0-43a7-a4ef-c8f8f336b0d3",
   "metadata": {},
   "outputs": [
    {
     "name": "stdout",
     "output_type": "stream",
     "text": [
      "We now have groupings for the location and ocean proximity, which may or may not be variables. We also have the number of households in a community, the value and income of those areas. This is a cleaned dataset with no missing values that we can experiement with in the next step\n"
     ]
    }
   ],
   "source": [
    "print(\"We now have groupings for the location and ocean proximity, which may or may not be variables. We also have the number of households in a community, the value and income of those areas. This is a cleaned dataset with no missing values that we can experiement with in the next step\")\n"
   ]
  },
  {
   "cell_type": "code",
   "execution_count": 53,
   "id": "0145a88b-a59f-499f-b644-4b0a4b196a82",
   "metadata": {},
   "outputs": [],
   "source": [
    "#Adding dummy data for ocean proximity\n",
    "CaliHousingCleaned = CaliHousingCleaned.drop([\"geom\",],axis=1)"
   ]
  },
  {
   "cell_type": "code",
   "execution_count": 54,
   "id": "b2fab4b5-09e0-434c-ac72-d752282c878a",
   "metadata": {},
   "outputs": [],
   "source": [
    "CaliHousingCleaned = pd.get_dummies(CaliHousingCleaned,columns =['ocean_proximity'])"
   ]
  },
  {
   "cell_type": "code",
   "execution_count": 55,
   "id": "974a3d21-95e0-4bba-a8b0-dfd372956a2c",
   "metadata": {},
   "outputs": [
    {
     "data": {
      "text/html": [
       "<div>\n",
       "<style scoped>\n",
       "    .dataframe tbody tr th:only-of-type {\n",
       "        vertical-align: middle;\n",
       "    }\n",
       "\n",
       "    .dataframe tbody tr th {\n",
       "        vertical-align: top;\n",
       "    }\n",
       "\n",
       "    .dataframe thead th {\n",
       "        text-align: right;\n",
       "    }\n",
       "</style>\n",
       "<table border=\"1\" class=\"dataframe\">\n",
       "  <thead>\n",
       "    <tr style=\"text-align: right;\">\n",
       "      <th></th>\n",
       "      <th>households</th>\n",
       "      <th>median_income</th>\n",
       "      <th>median_house_value</th>\n",
       "      <th>ocean_proximity_&lt;1H OCEAN</th>\n",
       "      <th>ocean_proximity_INLAND</th>\n",
       "      <th>ocean_proximity_ISLAND</th>\n",
       "      <th>ocean_proximity_NEAR BAY</th>\n",
       "      <th>ocean_proximity_NEAR OCEAN</th>\n",
       "    </tr>\n",
       "  </thead>\n",
       "  <tbody>\n",
       "    <tr>\n",
       "      <th>0</th>\n",
       "      <td>126.0</td>\n",
       "      <td>8.3252</td>\n",
       "      <td>452600.0</td>\n",
       "      <td>0</td>\n",
       "      <td>0</td>\n",
       "      <td>0</td>\n",
       "      <td>1</td>\n",
       "      <td>0</td>\n",
       "    </tr>\n",
       "    <tr>\n",
       "      <th>1</th>\n",
       "      <td>1138.0</td>\n",
       "      <td>8.3014</td>\n",
       "      <td>358500.0</td>\n",
       "      <td>0</td>\n",
       "      <td>0</td>\n",
       "      <td>0</td>\n",
       "      <td>1</td>\n",
       "      <td>0</td>\n",
       "    </tr>\n",
       "    <tr>\n",
       "      <th>2</th>\n",
       "      <td>177.0</td>\n",
       "      <td>7.2574</td>\n",
       "      <td>352100.0</td>\n",
       "      <td>0</td>\n",
       "      <td>0</td>\n",
       "      <td>0</td>\n",
       "      <td>1</td>\n",
       "      <td>0</td>\n",
       "    </tr>\n",
       "    <tr>\n",
       "      <th>3</th>\n",
       "      <td>219.0</td>\n",
       "      <td>5.6431</td>\n",
       "      <td>341300.0</td>\n",
       "      <td>0</td>\n",
       "      <td>0</td>\n",
       "      <td>0</td>\n",
       "      <td>1</td>\n",
       "      <td>0</td>\n",
       "    </tr>\n",
       "    <tr>\n",
       "      <th>4</th>\n",
       "      <td>259.0</td>\n",
       "      <td>3.8462</td>\n",
       "      <td>342200.0</td>\n",
       "      <td>0</td>\n",
       "      <td>0</td>\n",
       "      <td>0</td>\n",
       "      <td>1</td>\n",
       "      <td>0</td>\n",
       "    </tr>\n",
       "    <tr>\n",
       "      <th>...</th>\n",
       "      <td>...</td>\n",
       "      <td>...</td>\n",
       "      <td>...</td>\n",
       "      <td>...</td>\n",
       "      <td>...</td>\n",
       "      <td>...</td>\n",
       "      <td>...</td>\n",
       "      <td>...</td>\n",
       "    </tr>\n",
       "    <tr>\n",
       "      <th>20635</th>\n",
       "      <td>330.0</td>\n",
       "      <td>1.5603</td>\n",
       "      <td>78100.0</td>\n",
       "      <td>0</td>\n",
       "      <td>1</td>\n",
       "      <td>0</td>\n",
       "      <td>0</td>\n",
       "      <td>0</td>\n",
       "    </tr>\n",
       "    <tr>\n",
       "      <th>20636</th>\n",
       "      <td>114.0</td>\n",
       "      <td>2.5568</td>\n",
       "      <td>77100.0</td>\n",
       "      <td>0</td>\n",
       "      <td>1</td>\n",
       "      <td>0</td>\n",
       "      <td>0</td>\n",
       "      <td>0</td>\n",
       "    </tr>\n",
       "    <tr>\n",
       "      <th>20637</th>\n",
       "      <td>433.0</td>\n",
       "      <td>1.7000</td>\n",
       "      <td>92300.0</td>\n",
       "      <td>0</td>\n",
       "      <td>1</td>\n",
       "      <td>0</td>\n",
       "      <td>0</td>\n",
       "      <td>0</td>\n",
       "    </tr>\n",
       "    <tr>\n",
       "      <th>20638</th>\n",
       "      <td>349.0</td>\n",
       "      <td>1.8672</td>\n",
       "      <td>84700.0</td>\n",
       "      <td>0</td>\n",
       "      <td>1</td>\n",
       "      <td>0</td>\n",
       "      <td>0</td>\n",
       "      <td>0</td>\n",
       "    </tr>\n",
       "    <tr>\n",
       "      <th>20639</th>\n",
       "      <td>530.0</td>\n",
       "      <td>2.3886</td>\n",
       "      <td>89400.0</td>\n",
       "      <td>0</td>\n",
       "      <td>1</td>\n",
       "      <td>0</td>\n",
       "      <td>0</td>\n",
       "      <td>0</td>\n",
       "    </tr>\n",
       "  </tbody>\n",
       "</table>\n",
       "<p>20640 rows × 8 columns</p>\n",
       "</div>"
      ],
      "text/plain": [
       "       households  median_income  median_house_value  \\\n",
       "0           126.0         8.3252            452600.0   \n",
       "1          1138.0         8.3014            358500.0   \n",
       "2           177.0         7.2574            352100.0   \n",
       "3           219.0         5.6431            341300.0   \n",
       "4           259.0         3.8462            342200.0   \n",
       "...           ...            ...                 ...   \n",
       "20635       330.0         1.5603             78100.0   \n",
       "20636       114.0         2.5568             77100.0   \n",
       "20637       433.0         1.7000             92300.0   \n",
       "20638       349.0         1.8672             84700.0   \n",
       "20639       530.0         2.3886             89400.0   \n",
       "\n",
       "       ocean_proximity_<1H OCEAN  ocean_proximity_INLAND  \\\n",
       "0                              0                       0   \n",
       "1                              0                       0   \n",
       "2                              0                       0   \n",
       "3                              0                       0   \n",
       "4                              0                       0   \n",
       "...                          ...                     ...   \n",
       "20635                          0                       1   \n",
       "20636                          0                       1   \n",
       "20637                          0                       1   \n",
       "20638                          0                       1   \n",
       "20639                          0                       1   \n",
       "\n",
       "       ocean_proximity_ISLAND  ocean_proximity_NEAR BAY  \\\n",
       "0                           0                         1   \n",
       "1                           0                         1   \n",
       "2                           0                         1   \n",
       "3                           0                         1   \n",
       "4                           0                         1   \n",
       "...                       ...                       ...   \n",
       "20635                       0                         0   \n",
       "20636                       0                         0   \n",
       "20637                       0                         0   \n",
       "20638                       0                         0   \n",
       "20639                       0                         0   \n",
       "\n",
       "       ocean_proximity_NEAR OCEAN  \n",
       "0                               0  \n",
       "1                               0  \n",
       "2                               0  \n",
       "3                               0  \n",
       "4                               0  \n",
       "...                           ...  \n",
       "20635                           0  \n",
       "20636                           0  \n",
       "20637                           0  \n",
       "20638                           0  \n",
       "20639                           0  \n",
       "\n",
       "[20640 rows x 8 columns]"
      ]
     },
     "execution_count": 55,
     "metadata": {},
     "output_type": "execute_result"
    }
   ],
   "source": [
    "CaliHousingCleaned"
   ]
  },
  {
   "cell_type": "code",
   "execution_count": 56,
   "id": "4d47c584-944f-476b-baec-7db90e2ba6c3",
   "metadata": {},
   "outputs": [
    {
     "name": "stdout",
     "output_type": "stream",
     "text": [
      "   households  median_income  median_house_value  ocean_proximity_<1H OCEAN  \\\n",
      "0       126.0         8.3252            452600.0                          0   \n",
      "1      1138.0         8.3014            358500.0                          0   \n",
      "2       177.0         7.2574            352100.0                          0   \n",
      "3       219.0         5.6431            341300.0                          0   \n",
      "4       259.0         3.8462            342200.0                          0   \n",
      "\n",
      "   ocean_proximity_INLAND  ocean_proximity_ISLAND  ocean_proximity_NEAR BAY  \\\n",
      "0                       0                       0                         1   \n",
      "1                       0                       0                         1   \n",
      "2                       0                       0                         1   \n",
      "3                       0                       0                         1   \n",
      "4                       0                       0                         1   \n",
      "\n",
      "   ocean_proximity_NEAR OCEAN  \n",
      "0                           0  \n",
      "1                           0  \n",
      "2                           0  \n",
      "3                           0  \n",
      "4                           0  \n",
      "         Date  House_Price_Index  Stock_Price_Index  Consumer_Price_Index  \\\n",
      "0  1975-01-01            61.0900           67.14653              65.30488   \n",
      "1  1976-01-01            65.5250           79.96264              69.05653   \n",
      "2  1977-01-01            73.4350           78.82540              73.54636   \n",
      "3  1978-01-01            83.7450           78.84679              79.15866   \n",
      "4  1979-01-01            95.1325           85.63207              88.06755   \n",
      "\n",
      "   Real_GDP  Real_Disposable_Income  \n",
      "0  5648.462                 19908.0  \n",
      "1  5952.809                 20346.0  \n",
      "2  6228.076                 20780.0  \n",
      "3  6572.819                 21497.0  \n",
      "4  6780.924                 21672.0  \n"
     ]
    }
   ],
   "source": [
    "#I now have two data sets. Both show a coorelation with median income to house value in a location \n",
    "print(CaliHousingCleaned.head())\n",
    "print(CleanedData.head())"
   ]
  },
  {
   "cell_type": "code",
   "execution_count": 57,
   "id": "f3be8036-2e93-44ba-a272-96e468df73dc",
   "metadata": {},
   "outputs": [],
   "source": [
    "#Making even number\n",
    "CleanedData = CleanedData.drop([0])"
   ]
  },
  {
   "cell_type": "code",
   "execution_count": 58,
   "id": "d0ce791e-30f6-4ad8-b9f3-ce618df2e517",
   "metadata": {},
   "outputs": [
    {
     "name": "stdout",
     "output_type": "stream",
     "text": [
      "Because the values are generally coorelated and I have dropped the non-coorelated columns, I will perform a linear regression on both data sets where y is the median income, or disposable income, depending on the data set\n"
     ]
    }
   ],
   "source": [
    "print(\"Because the values are generally coorelated and I have dropped the non-coorelated columns, I will perform a linear regression on both data sets where y is the median income, or disposable income, depending on the data set\")"
   ]
  },
  {
   "cell_type": "code",
   "execution_count": 59,
   "id": "771c89af-92b0-4204-8485-7e03a5c1cc59",
   "metadata": {},
   "outputs": [],
   "source": [
    "#From the cleaned data set, I will take real disposable income as my target\n",
    "Y = (CleanedData[\"Real_Disposable_Income\"])"
   ]
  },
  {
   "cell_type": "code",
   "execution_count": 60,
   "id": "b5fd1540-b778-45c6-8e14-591c132f5995",
   "metadata": {},
   "outputs": [],
   "source": [
    "#the model selection train test split allows me to split my data into two sets, there will be a test set and a training set\n",
    "from sklearn.model_selection import train_test_split\n",
    "X_train, X_test, y_train, y_test = train_test_split(CleanedData, Y, test_size=0.5)"
   ]
  },
  {
   "cell_type": "code",
   "execution_count": 61,
   "id": "b02d846a-75da-4a72-be3f-3085ad8ab076",
   "metadata": {},
   "outputs": [],
   "source": [
    "#I am loading the linear regressions package\n",
    "from sklearn.linear_model import LinearRegression\n",
    "regression = LinearRegression()"
   ]
  },
  {
   "cell_type": "code",
   "execution_count": 62,
   "id": "0c4fd3da-3b4d-4dc8-aad0-9f236e1e738b",
   "metadata": {},
   "outputs": [],
   "source": [
    "#For naming consistancy I will change target to y_train so I know what my target is\n",
    "target = y_train"
   ]
  },
  {
   "cell_type": "code",
   "execution_count": 63,
   "id": "9b3dd619-ec44-468d-84e6-7463d4403740",
   "metadata": {},
   "outputs": [],
   "source": [
    "#From my split data the training data is housing price, we want to see if housing price can be used to predict income\n",
    "feature = X_train['House_Price_Index'].values.reshape(-1, 1)"
   ]
  },
  {
   "cell_type": "code",
   "execution_count": 64,
   "id": "fcf72df8-53f9-4447-90a0-e5ae98875362",
   "metadata": {},
   "outputs": [],
   "source": [
    "X_test = X_test['House_Price_Index'].values.reshape(-1, 1)"
   ]
  },
  {
   "cell_type": "code",
   "execution_count": 65,
   "id": "a1c3a582-604b-41f6-8205-8987365a13a5",
   "metadata": {},
   "outputs": [],
   "source": [
    "#Running my regression\n",
    "model1 =regression.fit(feature,target)"
   ]
  },
  {
   "cell_type": "code",
   "execution_count": 66,
   "id": "bc94fa68-afd4-4684-a0ca-e3cea49e6d6f",
   "metadata": {},
   "outputs": [
    {
     "name": "stdout",
     "output_type": "stream",
     "text": [
      "15972.610406448788\n",
      "[66.80475624]\n"
     ]
    }
   ],
   "source": [
    "#Once the reggression is complete we can see the model intercept and coef \n",
    "print(model1.intercept_)\n",
    "print(model1.coef_)"
   ]
  },
  {
   "cell_type": "code",
   "execution_count": 67,
   "id": "813ceeed-7f13-47a5-8362-007b3da8963a",
   "metadata": {},
   "outputs": [
    {
     "data": {
      "text/plain": [
       "array([36800.66328244, 21567.17471757, 38616.08253319, 45219.73268728,\n",
       "       31743.20921147, 20878.41768076, 35120.52366306, 20349.99205892,\n",
       "       41242.51152468, 23738.1622834 , 27281.15253046, 24501.07259964,\n",
       "       22327.91387923, 22831.28771748, 24086.54908718, 33996.19961558,\n",
       "       32922.64718284, 42458.69211198, 28541.75828067, 39293.81678522,\n",
       "       38670.02737386, 41090.69771613, 27069.71547697])"
      ]
     },
     "execution_count": 67,
     "metadata": {},
     "output_type": "execute_result"
    }
   ],
   "source": [
    "#The feature prediction below is the goal. This is my model using the data below in order to predict the disposable income level\n",
    "model1.predict(feature)"
   ]
  },
  {
   "cell_type": "code",
   "execution_count": 68,
   "id": "1a073a5a-139e-4824-8984-b8f03a8e074e",
   "metadata": {},
   "outputs": [],
   "source": [
    "#This will be my prediction\n",
    "y_pred = model1.predict(feature)"
   ]
  },
  {
   "cell_type": "code",
   "execution_count": 69,
   "id": "935c53ad-4d7e-4c69-9a18-a9768821b707",
   "metadata": {},
   "outputs": [],
   "source": [
    "import sklearn.metrics as metrics\n",
    "from sklearn.metrics import mean_absolute_error, mean_squared_error"
   ]
  },
  {
   "cell_type": "code",
   "execution_count": 70,
   "id": "ec8a524c-625a-41da-a413-c004f817becb",
   "metadata": {},
   "outputs": [],
   "source": [
    "#Calculating MAE, MSE,RMSE to find some accuracy\n",
    "mae = mean_absolute_error(y_test, y_pred)\n",
    "mse = mean_squared_error(y_test, y_pred)\n",
    "rmse = np.sqrt(mse)"
   ]
  },
  {
   "cell_type": "code",
   "execution_count": 71,
   "id": "403b39b4-ca81-4e8d-97c6-c409cf5dc015",
   "metadata": {},
   "outputs": [
    {
     "name": "stdout",
     "output_type": "stream",
     "text": [
      "Mean absolute error: 10392.23\n",
      "Mean squared error: 161387001.24\n",
      "Root mean squared error: 12703.82\n"
     ]
    }
   ],
   "source": [
    "print(f'Mean absolute error: {mae:.2f}')\n",
    "print(f'Mean squared error: {mse:.2f}')\n",
    "print(f'Root mean squared error: {rmse:.2f}')"
   ]
  },
  {
   "cell_type": "code",
   "execution_count": 72,
   "id": "45f4e574-6a08-4305-9b90-572d471b754d",
   "metadata": {},
   "outputs": [
    {
     "name": "stdout",
     "output_type": "stream",
     "text": [
      "What this tells me is that I am able to predict income within a range of about 10000 off the true value\n"
     ]
    }
   ],
   "source": [
    "print(\"What this tells me is that I am able to predict income within a range of about 10000 off the true value\")"
   ]
  },
  {
   "cell_type": "code",
   "execution_count": 73,
   "id": "343e1caf-48d3-40bd-9564-3efff9df6d2d",
   "metadata": {},
   "outputs": [
    {
     "name": "stdout",
     "output_type": "stream",
     "text": [
      "R2 for the Linear Regression is : 0.9690151432424027\n"
     ]
    }
   ],
   "source": [
    "print(\"R2 for the Linear Regression is :\",model1.score(X_test,y_test))"
   ]
  },
  {
   "cell_type": "code",
   "execution_count": 74,
   "id": "b09dfff8-22bb-4341-9f38-6ec654b3a16a",
   "metadata": {},
   "outputs": [
    {
     "name": "stdout",
     "output_type": "stream",
     "text": [
      "95% Is a pretty good model to say income relates to house prices\n"
     ]
    }
   ],
   "source": [
    "print(\"95% Is a pretty good model to say income relates to house prices\")"
   ]
  },
  {
   "cell_type": "code",
   "execution_count": 75,
   "id": "06d5805f-3c76-4246-a636-0b16d1c6b5c1",
   "metadata": {},
   "outputs": [],
   "source": [
    "#Repeating study on just California data\n",
    "Y2 = (CaliHousingCleaned[\"median_income\"])"
   ]
  },
  {
   "cell_type": "code",
   "execution_count": 76,
   "id": "638f4d10-8c62-43c2-90c0-fd2b5290bda2",
   "metadata": {},
   "outputs": [],
   "source": [
    "from sklearn.model_selection import train_test_split\n",
    "X_train2, X_test2, y_train2, y_test2 = train_test_split(CaliHousingCleaned, Y2, test_size=0.5)"
   ]
  },
  {
   "cell_type": "code",
   "execution_count": 77,
   "id": "6f410788-ca77-4c50-a9c0-067820b82432",
   "metadata": {},
   "outputs": [],
   "source": [
    "target2 = y_train2"
   ]
  },
  {
   "cell_type": "code",
   "execution_count": 78,
   "id": "cb967b3a-00c1-4e64-9df9-303b50960f4f",
   "metadata": {},
   "outputs": [],
   "source": [
    "feature2 = X_test2['median_house_value'].values.reshape(-1, 1)"
   ]
  },
  {
   "cell_type": "code",
   "execution_count": 79,
   "id": "306e7e02-f0b3-4ebd-ae6c-91f05177df7c",
   "metadata": {},
   "outputs": [],
   "source": [
    "X_test2 = X_test2['median_house_value'].values.reshape(-1, 1)"
   ]
  },
  {
   "cell_type": "code",
   "execution_count": 80,
   "id": "2715bf89-12fd-4502-8958-55dfcd3b3e59",
   "metadata": {},
   "outputs": [],
   "source": [
    "#Running my regression\n",
    "model2 = regression.fit(feature2,target2)"
   ]
  },
  {
   "cell_type": "code",
   "execution_count": 81,
   "id": "d7c4a1ed-ed9f-4590-b9de-c121c0cb271f",
   "metadata": {},
   "outputs": [
    {
     "name": "stdout",
     "output_type": "stream",
     "text": [
      "3.8273633152608197\n",
      "[1.02460811e-07]\n"
     ]
    }
   ],
   "source": [
    "#Once the reggression is complete we can see the model intercept and coef \n",
    "print(model2.intercept_)\n",
    "print(model2.coef_)"
   ]
  },
  {
   "cell_type": "code",
   "execution_count": 82,
   "id": "b2486412-547f-4244-bd83-47f794c0cab6",
   "metadata": {},
   "outputs": [
    {
     "data": {
      "text/plain": [
       "array([3.84393123, 3.84254801, 3.85849091, ..., 3.87859382, 3.85279409,\n",
       "       3.85557078])"
      ]
     },
     "execution_count": 82,
     "metadata": {},
     "output_type": "execute_result"
    }
   ],
   "source": [
    "#This will be my prediction\n",
    "y_pred2 = model2.predict(feature2)\n",
    "y_pred2"
   ]
  },
  {
   "cell_type": "code",
   "execution_count": 83,
   "id": "06f06b2e-8de7-4e70-936e-c9da0d67ec6f",
   "metadata": {},
   "outputs": [],
   "source": [
    "mae2 = mean_absolute_error(y_test2, y_pred2)\n",
    "mse2 = mean_squared_error(y_test2, y_pred2)\n",
    "rmse2 = np.sqrt(mse)"
   ]
  },
  {
   "cell_type": "code",
   "execution_count": 84,
   "id": "36d75f83-2acd-448f-bd28-26e4026a76fa",
   "metadata": {},
   "outputs": [
    {
     "name": "stdout",
     "output_type": "stream",
     "text": [
      "Mean absolute error: 1.40\n",
      "Mean squared error: 3.64\n",
      "Root mean squared error: 12703.82\n"
     ]
    }
   ],
   "source": [
    "print(f'Mean absolute error: {mae2:.2f}')\n",
    "print(f'Mean squared error: {mse2:.2f}')\n",
    "print(f'Root mean squared error: {rmse2:.2f}')"
   ]
  },
  {
   "cell_type": "code",
   "execution_count": 85,
   "id": "0f905c0b-371b-4be7-8738-c779883317e3",
   "metadata": {},
   "outputs": [
    {
     "name": "stdout",
     "output_type": "stream",
     "text": [
      "What this tells me is that I am able to predict income within a range of about 10000 off the true value, that is suprisingly similar in both cases\n"
     ]
    }
   ],
   "source": [
    "print(\"What this tells me is that I am able to predict income within a range of about 10000 off the true value, that is suprisingly similar in both cases\")"
   ]
  },
  {
   "cell_type": "code",
   "execution_count": 86,
   "id": "c7422004-9d8e-42f0-9cd9-f5e5f0eb0f26",
   "metadata": {},
   "outputs": [
    {
     "name": "stdout",
     "output_type": "stream",
     "text": [
      "R2 for the Linear Regression is : 0.0080780440769197\n"
     ]
    }
   ],
   "source": [
    "print(\"R2 for the Linear Regression is :\",model2.score(X_test2,y_test2))"
   ]
  },
  {
   "cell_type": "code",
   "execution_count": 87,
   "id": "f5b2688d-fce4-4a97-86b9-9b211b1d5823",
   "metadata": {},
   "outputs": [
    {
     "name": "stdout",
     "output_type": "stream",
     "text": [
      "When looking at just the california data, I do not get the same level of fit as the national one. This is likely due to the other factors in Caliornia\n"
     ]
    }
   ],
   "source": [
    "print(\"When looking at just the california data, I do not get the same level of fit as the national one. This is likely due to the other factors in Caliornia\")"
   ]
  }
 ],
 "metadata": {
  "kernelspec": {
   "display_name": "Python 3 (ipykernel)",
   "language": "python",
   "name": "python3"
  },
  "language_info": {
   "codemirror_mode": {
    "name": "ipython",
    "version": 3
   },
   "file_extension": ".py",
   "mimetype": "text/x-python",
   "name": "python",
   "nbconvert_exporter": "python",
   "pygments_lexer": "ipython3",
   "version": "3.9.12"
  }
 },
 "nbformat": 4,
 "nbformat_minor": 5
}
