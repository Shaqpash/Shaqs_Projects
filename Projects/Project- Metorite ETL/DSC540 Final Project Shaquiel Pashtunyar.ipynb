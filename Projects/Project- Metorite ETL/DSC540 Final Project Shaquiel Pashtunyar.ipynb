{
 "cells": [
  {
   "cell_type": "code",
   "execution_count": 1,
   "id": "3942951d-3f6b-4b2d-a248-f2c9360513cd",
   "metadata": {},
   "outputs": [],
   "source": [
    "#DSC540 Final Project\n",
    "#Shaquiel Pashtunyar"
   ]
  },
  {
   "cell_type": "code",
   "execution_count": 2,
   "id": "ae2b141e-cb1b-41cc-b2d7-03f9beddccfa",
   "metadata": {},
   "outputs": [],
   "source": [
    "#Imports\n",
    "import requests as r\n",
    "import pandas as pd\n",
    "import xlrd\n",
    "from bs4 import BeautifulSoup\n",
    "import numpy as np\n",
    "import matplotlib.pyplot as plt"
   ]
  },
  {
   "cell_type": "code",
   "execution_count": 3,
   "id": "f9a6e506-8f28-4cc2-8227-da72a681e247",
   "metadata": {},
   "outputs": [
    {
     "name": "stdout",
     "output_type": "stream",
     "text": [
      "Step one is getting all 3 data files from past weeks, altering them to be cleaned up and have similar columns\n"
     ]
    }
   ],
   "source": [
    "print(\"Step one is getting all 3 data files from past weeks, altering them to be cleaned up and have similar columns\")"
   ]
  },
  {
   "cell_type": "code",
   "execution_count": 4,
   "id": "e11db594-4cff-4dd7-a85f-a5fc3d30dbc2",
   "metadata": {},
   "outputs": [],
   "source": [
    "#Getting HTML Table\n",
    "url1 = \"https://en.wikipedia.org/wiki/List_of_largest_meteorites_on_Earth\"\n",
    "page = r.get(url1)"
   ]
  },
  {
   "cell_type": "code",
   "execution_count": 5,
   "id": "f1834471-f835-4686-ae0c-f29a3df770f8",
   "metadata": {},
   "outputs": [],
   "source": [
    "soup = BeautifulSoup(page.content,'html.parser')"
   ]
  },
  {
   "cell_type": "code",
   "execution_count": 6,
   "id": "02394479-42fc-46a8-a3af-c8ccda482a8a",
   "metadata": {},
   "outputs": [],
   "source": [
    "tables = soup.find('table', class_='wikitable')"
   ]
  },
  {
   "cell_type": "code",
   "execution_count": 7,
   "id": "f40303db-1570-4ef5-ad43-47212d423580",
   "metadata": {},
   "outputs": [],
   "source": [
    "list = pd.read_html(url1)"
   ]
  },
  {
   "cell_type": "code",
   "execution_count": null,
   "id": "0b111c41-18fe-43d9-9463-132defebe2e8",
   "metadata": {},
   "outputs": [
    {
     "data": {
      "text/plain": [
       "list[0]"
      ]
     },
     "execution_count": 1,
     "metadata": {},
     "output_type": "execute_result"
    }
   ],
   "source": [
    "Iron = list[0]\n",
    "Iron"
   ]
  },
  {
   "cell_type": "code",
   "execution_count": 9,
   "id": "af8db60c-f71b-43f5-8c46-01f8c79ca8e4",
   "metadata": {},
   "outputs": [
    {
     "data": {
      "text/html": [
       "<div>\n",
       "<style scoped>\n",
       "    .dataframe tbody tr th:only-of-type {\n",
       "        vertical-align: middle;\n",
       "    }\n",
       "\n",
       "    .dataframe tbody tr th {\n",
       "        vertical-align: top;\n",
       "    }\n",
       "\n",
       "    .dataframe thead th {\n",
       "        text-align: right;\n",
       "    }\n",
       "</style>\n",
       "<table border=\"1\" class=\"dataframe\">\n",
       "  <thead>\n",
       "    <tr style=\"text-align: right;\">\n",
       "      <th></th>\n",
       "      <th>N°</th>\n",
       "      <th>Meteorite name</th>\n",
       "      <th>Found year</th>\n",
       "      <th>Region/Country</th>\n",
       "      <th>Coordinates</th>\n",
       "      <th>Group</th>\n",
       "      <th>Classification</th>\n",
       "      <th>TKW</th>\n",
       "      <th>Fall observed</th>\n",
       "      <th>Image</th>\n",
       "    </tr>\n",
       "  </thead>\n",
       "  <tbody>\n",
       "    <tr>\n",
       "      <th>0</th>\n",
       "      <td>1</td>\n",
       "      <td>Brenham</td>\n",
       "      <td>1882</td>\n",
       "      <td>Kansas, United States</td>\n",
       "      <td>37°34′57″N 99°09′49″W﻿ / ﻿37.58250°N 99.16361°W</td>\n",
       "      <td>Pallasite</td>\n",
       "      <td>PMG</td>\n",
       "      <td>4,300 kg (9,500 lb)</td>\n",
       "      <td>No</td>\n",
       "      <td>NaN</td>\n",
       "    </tr>\n",
       "    <tr>\n",
       "      <th>1</th>\n",
       "      <td>2</td>\n",
       "      <td>Vaca Muerta</td>\n",
       "      <td>1861</td>\n",
       "      <td>Antofagasta, Chile</td>\n",
       "      <td>25°45′S 70°30′W﻿ / ﻿25.750°S 70.500°W</td>\n",
       "      <td>Mesosiderite</td>\n",
       "      <td>A1</td>\n",
       "      <td>3,830 kg (8,440 lb)</td>\n",
       "      <td>No</td>\n",
       "      <td>NaN</td>\n",
       "    </tr>\n",
       "    <tr>\n",
       "      <th>2</th>\n",
       "      <td>3</td>\n",
       "      <td>Huckitta</td>\n",
       "      <td>1924</td>\n",
       "      <td>Northern Territory, Australia</td>\n",
       "      <td>22°22′S 135°46′E﻿ / ﻿22.367°S 135.767°E</td>\n",
       "      <td>Pallasite</td>\n",
       "      <td>PMG</td>\n",
       "      <td>2,300 kg (5,100 lb)</td>\n",
       "      <td>No</td>\n",
       "      <td>NaN</td>\n",
       "    </tr>\n",
       "    <tr>\n",
       "      <th>3</th>\n",
       "      <td>4</td>\n",
       "      <td>Fukang</td>\n",
       "      <td>2000</td>\n",
       "      <td>Xinjiang, China</td>\n",
       "      <td>44°25′48″N 87°37′48″E﻿ / ﻿44.43000°N 87.63000°E</td>\n",
       "      <td>Pallasite</td>\n",
       "      <td>PMG</td>\n",
       "      <td>1,003 kg (2,211 lb)</td>\n",
       "      <td>No</td>\n",
       "      <td>NaN</td>\n",
       "    </tr>\n",
       "    <tr>\n",
       "      <th>4</th>\n",
       "      <td>5</td>\n",
       "      <td>Imilac</td>\n",
       "      <td>1822</td>\n",
       "      <td>Antofagasta, Chile</td>\n",
       "      <td>24°12′12″S 68°48′24″W﻿ / ﻿24.20333°S 68.80667°W</td>\n",
       "      <td>Pallasite</td>\n",
       "      <td>PMG</td>\n",
       "      <td>920 kg (2,030 lb)</td>\n",
       "      <td>No</td>\n",
       "      <td>NaN</td>\n",
       "    </tr>\n",
       "    <tr>\n",
       "      <th>5</th>\n",
       "      <td>6</td>\n",
       "      <td>Bondoc</td>\n",
       "      <td>1956</td>\n",
       "      <td>Southern Tagalog, Philippines</td>\n",
       "      <td>13°31′N 122°27′E﻿ / ﻿13.517°N 122.450°E</td>\n",
       "      <td>Mesosiderite</td>\n",
       "      <td>B4</td>\n",
       "      <td>888.60 kg (1,959.0 lb)</td>\n",
       "      <td>No</td>\n",
       "      <td>NaN</td>\n",
       "    </tr>\n",
       "    <tr>\n",
       "      <th>6</th>\n",
       "      <td>7</td>\n",
       "      <td>Brahin</td>\n",
       "      <td>1810</td>\n",
       "      <td>Gomel', Belarus</td>\n",
       "      <td>52°30′00″N 30°19′48″E﻿ / ﻿52.50000°N 30.33000°E</td>\n",
       "      <td>Pallasite</td>\n",
       "      <td>PMG</td>\n",
       "      <td>823 kg (1,814 lb)</td>\n",
       "      <td>No</td>\n",
       "      <td>NaN</td>\n",
       "    </tr>\n",
       "    <tr>\n",
       "      <th>7</th>\n",
       "      <td>8</td>\n",
       "      <td>Esquel</td>\n",
       "      <td>1951</td>\n",
       "      <td>Chubut, Argentina</td>\n",
       "      <td>42°54′00″S 71°19′48″W﻿ / ﻿42.90000°S 71.33000°W</td>\n",
       "      <td>Pallasite</td>\n",
       "      <td>PMG</td>\n",
       "      <td>755 kg (1,664 lb)</td>\n",
       "      <td>No</td>\n",
       "      <td>NaN</td>\n",
       "    </tr>\n",
       "    <tr>\n",
       "      <th>8</th>\n",
       "      <td>9</td>\n",
       "      <td>Krasnojarsk</td>\n",
       "      <td>1749</td>\n",
       "      <td>Krasnoyarsky Krai, Russia</td>\n",
       "      <td>54°54′N 91°48′E﻿ / ﻿54.900°N 91.800°E</td>\n",
       "      <td>Pallasite</td>\n",
       "      <td>PMG</td>\n",
       "      <td>700 kg (1,500 lb)</td>\n",
       "      <td>No</td>\n",
       "      <td>NaN</td>\n",
       "    </tr>\n",
       "    <tr>\n",
       "      <th>9</th>\n",
       "      <td>10</td>\n",
       "      <td>Jepara</td>\n",
       "      <td>2008</td>\n",
       "      <td>Jawa Tengah, Indonesia</td>\n",
       "      <td>06°36′S 110°44′E﻿ / ﻿6.600°S 110.733°E</td>\n",
       "      <td>Pallasite</td>\n",
       "      <td>PMG</td>\n",
       "      <td>499.50 kg (1,101.2 lb)</td>\n",
       "      <td>No</td>\n",
       "      <td>NaN</td>\n",
       "    </tr>\n",
       "    <tr>\n",
       "      <th>10</th>\n",
       "      <td>11</td>\n",
       "      <td>Seymchan</td>\n",
       "      <td>1967</td>\n",
       "      <td>Magadan Oblast, Russia</td>\n",
       "      <td>62°54′00″N 152°25′48″E﻿ / ﻿62.90000°N 152.43000°E</td>\n",
       "      <td>Pallasite</td>\n",
       "      <td>PMG</td>\n",
       "      <td>323.30 kg (712.8 lb)</td>\n",
       "      <td>No</td>\n",
       "      <td>NaN</td>\n",
       "    </tr>\n",
       "    <tr>\n",
       "      <th>11</th>\n",
       "      <td>12</td>\n",
       "      <td>Estherville</td>\n",
       "      <td>1879</td>\n",
       "      <td>Iowa, United States</td>\n",
       "      <td>43°25′N 94°50′W﻿ / ﻿43.417°N 94.833°W</td>\n",
       "      <td>Mesosiderite</td>\n",
       "      <td>A3/4</td>\n",
       "      <td>320 kg (710 lb)</td>\n",
       "      <td>Yes</td>\n",
       "      <td>NaN</td>\n",
       "    </tr>\n",
       "    <tr>\n",
       "      <th>12</th>\n",
       "      <td>13</td>\n",
       "      <td>Omolon</td>\n",
       "      <td>1981</td>\n",
       "      <td>Magadan Oblast, Russia</td>\n",
       "      <td>64°01′12″N 161°48′30″E﻿ / ﻿64.02000°N 161.80833°E</td>\n",
       "      <td>Pallasite</td>\n",
       "      <td>PMG</td>\n",
       "      <td>250 kg (550 lb)</td>\n",
       "      <td>Yes</td>\n",
       "      <td>NaN</td>\n",
       "    </tr>\n",
       "    <tr>\n",
       "      <th>13</th>\n",
       "      <td>14</td>\n",
       "      <td>Youxi</td>\n",
       "      <td>2006</td>\n",
       "      <td>Fujian, China</td>\n",
       "      <td>23°03′36″N 118°00′36″E﻿ / ﻿23.06000°N 118.01000°E</td>\n",
       "      <td>Pallasite</td>\n",
       "      <td>PMG</td>\n",
       "      <td>218 kg (481 lb)</td>\n",
       "      <td>No</td>\n",
       "      <td>NaN</td>\n",
       "    </tr>\n",
       "    <tr>\n",
       "      <th>14</th>\n",
       "      <td>15</td>\n",
       "      <td>Pallasovka</td>\n",
       "      <td>1990</td>\n",
       "      <td>Volgograd Oblast, Russia</td>\n",
       "      <td>49°52′00″N 46°36′42″E﻿ / ﻿49.86667°N 46.61167°E</td>\n",
       "      <td>Pallasite</td>\n",
       "      <td>PMG</td>\n",
       "      <td>198 kg (437 lb)</td>\n",
       "      <td>No</td>\n",
       "      <td>NaN</td>\n",
       "    </tr>\n",
       "  </tbody>\n",
       "</table>\n",
       "</div>"
      ],
      "text/plain": [
       "    N° Meteorite name  Found year                 Region/Country  \\\n",
       "0    1        Brenham        1882          Kansas, United States   \n",
       "1    2    Vaca Muerta        1861             Antofagasta, Chile   \n",
       "2    3       Huckitta        1924  Northern Territory, Australia   \n",
       "3    4         Fukang        2000                Xinjiang, China   \n",
       "4    5         Imilac        1822             Antofagasta, Chile   \n",
       "5    6         Bondoc        1956  Southern Tagalog, Philippines   \n",
       "6    7         Brahin        1810                Gomel', Belarus   \n",
       "7    8         Esquel        1951              Chubut, Argentina   \n",
       "8    9    Krasnojarsk        1749      Krasnoyarsky Krai, Russia   \n",
       "9   10         Jepara        2008         Jawa Tengah, Indonesia   \n",
       "10  11       Seymchan        1967         Magadan Oblast, Russia   \n",
       "11  12    Estherville        1879            Iowa, United States   \n",
       "12  13         Omolon        1981         Magadan Oblast, Russia   \n",
       "13  14          Youxi        2006                  Fujian, China   \n",
       "14  15     Pallasovka        1990       Volgograd Oblast, Russia   \n",
       "\n",
       "                                          Coordinates         Group  \\\n",
       "0     37°34′57″N 99°09′49″W﻿ / ﻿37.58250°N 99.16361°W     Pallasite   \n",
       "1               25°45′S 70°30′W﻿ / ﻿25.750°S 70.500°W  Mesosiderite   \n",
       "2             22°22′S 135°46′E﻿ / ﻿22.367°S 135.767°E     Pallasite   \n",
       "3     44°25′48″N 87°37′48″E﻿ / ﻿44.43000°N 87.63000°E     Pallasite   \n",
       "4     24°12′12″S 68°48′24″W﻿ / ﻿24.20333°S 68.80667°W     Pallasite   \n",
       "5             13°31′N 122°27′E﻿ / ﻿13.517°N 122.450°E  Mesosiderite   \n",
       "6     52°30′00″N 30°19′48″E﻿ / ﻿52.50000°N 30.33000°E     Pallasite   \n",
       "7     42°54′00″S 71°19′48″W﻿ / ﻿42.90000°S 71.33000°W     Pallasite   \n",
       "8               54°54′N 91°48′E﻿ / ﻿54.900°N 91.800°E     Pallasite   \n",
       "9              06°36′S 110°44′E﻿ / ﻿6.600°S 110.733°E     Pallasite   \n",
       "10  62°54′00″N 152°25′48″E﻿ / ﻿62.90000°N 152.43000°E     Pallasite   \n",
       "11              43°25′N 94°50′W﻿ / ﻿43.417°N 94.833°W  Mesosiderite   \n",
       "12  64°01′12″N 161°48′30″E﻿ / ﻿64.02000°N 161.80833°E     Pallasite   \n",
       "13  23°03′36″N 118°00′36″E﻿ / ﻿23.06000°N 118.01000°E     Pallasite   \n",
       "14    49°52′00″N 46°36′42″E﻿ / ﻿49.86667°N 46.61167°E     Pallasite   \n",
       "\n",
       "   Classification                     TKW Fall observed  Image  \n",
       "0             PMG     4,300 kg (9,500 lb)            No    NaN  \n",
       "1              A1     3,830 kg (8,440 lb)            No    NaN  \n",
       "2             PMG     2,300 kg (5,100 lb)            No    NaN  \n",
       "3             PMG     1,003 kg (2,211 lb)            No    NaN  \n",
       "4             PMG       920 kg (2,030 lb)            No    NaN  \n",
       "5              B4  888.60 kg (1,959.0 lb)            No    NaN  \n",
       "6             PMG       823 kg (1,814 lb)            No    NaN  \n",
       "7             PMG       755 kg (1,664 lb)            No    NaN  \n",
       "8             PMG       700 kg (1,500 lb)            No    NaN  \n",
       "9             PMG  499.50 kg (1,101.2 lb)            No    NaN  \n",
       "10            PMG    323.30 kg (712.8 lb)            No    NaN  \n",
       "11           A3/4         320 kg (710 lb)           Yes    NaN  \n",
       "12            PMG         250 kg (550 lb)           Yes    NaN  \n",
       "13            PMG         218 kg (481 lb)            No    NaN  \n",
       "14            PMG         198 kg (437 lb)            No    NaN  "
      ]
     },
     "execution_count": 9,
     "metadata": {},
     "output_type": "execute_result"
    }
   ],
   "source": [
    "StonyIron = list[1]\n",
    "StonyIron"
   ]
  },
  {
   "cell_type": "code",
   "execution_count": 10,
   "id": "ab9b96be-9171-4b7f-b196-ceb24b00e075",
   "metadata": {},
   "outputs": [],
   "source": [
    "StonyIron = StonyIron.rename(columns={\"TKW\": \"Mass\"})\n",
    "StonyIron.columns\n",
    "frames = [Iron, StonyIron]\n",
    "HTMLSite = pd.concat(frames)"
   ]
  },
  {
   "cell_type": "code",
   "execution_count": 11,
   "id": "64044e6c-2ccf-4e8e-bdc6-35a05d5a8e9a",
   "metadata": {},
   "outputs": [],
   "source": [
    "HTMLSite['Mass'] = HTMLSite['Mass'].apply(lambda st: st[st.find(\"(\")+1:st.find(\")\")])\n",
    "HTMLSite['Mass'] = HTMLSite['Mass'].str.rstrip(' lb')"
   ]
  },
  {
   "cell_type": "code",
   "execution_count": 12,
   "id": "0994e7b1-e4b7-48a5-9cb2-046594f3f1b9",
   "metadata": {},
   "outputs": [],
   "source": [
    "HTMLSite = HTMLSite.rename(columns={\"Found year\":\"FoundYear\"})\n",
    "HTMLSite= HTMLSite.drop([\"Image\"], axis =1)\n",
    "HTMLSite= HTMLSite.drop([\"Fall observed\"], axis =1)"
   ]
  },
  {
   "cell_type": "code",
   "execution_count": 13,
   "id": "34a329f9-537b-479b-8a33-2b7b1c23ecee",
   "metadata": {},
   "outputs": [],
   "source": [
    "HTMLSite= HTMLSite.drop([\"Region/Country\"], axis =1)\n",
    "HTMLSite= HTMLSite.drop([\"Group\"], axis =1)\n",
    "HTMLSite = HTMLSite.rename(columns={\"Meteorite name\":\"Meteor_Name\"})"
   ]
  },
  {
   "cell_type": "code",
   "execution_count": 14,
   "id": "5277cc63-8a28-4a85-a951-70bf24eb925a",
   "metadata": {},
   "outputs": [],
   "source": [
    "HTMLSite['Mass'] = HTMLSite['Mass'].str.replace(',', '').astype(float)\n",
    "HTMLSite.sort_values('Mass', ascending=False)\n",
    "HTMLSite.iloc[0,[4]] = \"19°35′32″S / 17°56′01″E\"\n",
    "HTMLSite = HTMLSite.rename(columns={\"N°\":\"id\"})"
   ]
  },
  {
   "cell_type": "code",
   "execution_count": 15,
   "id": "513d0b69-6b27-4009-801d-ce11e38c12b6",
   "metadata": {},
   "outputs": [
    {
     "data": {
      "text/html": [
       "<div>\n",
       "<style scoped>\n",
       "    .dataframe tbody tr th:only-of-type {\n",
       "        vertical-align: middle;\n",
       "    }\n",
       "\n",
       "    .dataframe tbody tr th {\n",
       "        vertical-align: top;\n",
       "    }\n",
       "\n",
       "    .dataframe thead th {\n",
       "        text-align: right;\n",
       "    }\n",
       "</style>\n",
       "<table border=\"1\" class=\"dataframe\">\n",
       "  <thead>\n",
       "    <tr style=\"text-align: right;\">\n",
       "      <th></th>\n",
       "      <th>id</th>\n",
       "      <th>Meteor_Name</th>\n",
       "      <th>FoundYear</th>\n",
       "      <th>Coordinates</th>\n",
       "      <th>Classification</th>\n",
       "      <th>Mass</th>\n",
       "    </tr>\n",
       "  </thead>\n",
       "  <tbody>\n",
       "    <tr>\n",
       "      <th>0</th>\n",
       "      <td>1</td>\n",
       "      <td>Hoba</td>\n",
       "      <td>1920</td>\n",
       "      <td>.mw-parser-output .geo-default,.mw-parser-outp...</td>\n",
       "      <td>19°35′32″S / 17°56′01″E</td>\n",
       "      <td>130000.0</td>\n",
       "    </tr>\n",
       "    <tr>\n",
       "      <th>1</th>\n",
       "      <td>2</td>\n",
       "      <td>Cape York(Ahnighito)</td>\n",
       "      <td>1894</td>\n",
       "      <td>76°08′N 64°56′W﻿ / ﻿76.133°N 64.933°W</td>\n",
       "      <td>IIIAB</td>\n",
       "      <td>68068.0</td>\n",
       "    </tr>\n",
       "    <tr>\n",
       "      <th>2</th>\n",
       "      <td>3</td>\n",
       "      <td>Campo del Cielo(Gancedo)[3]</td>\n",
       "      <td>2016</td>\n",
       "      <td>27°37′48″S 61°42′00″W﻿ / ﻿27.63000°S 61.70000°W</td>\n",
       "      <td>IAB</td>\n",
       "      <td>67900.0</td>\n",
       "    </tr>\n",
       "    <tr>\n",
       "      <th>3</th>\n",
       "      <td>4</td>\n",
       "      <td>Campo del Cielo(El Chaco)</td>\n",
       "      <td>1969</td>\n",
       "      <td>27°36′34.94″S 61°40′53.31″W﻿ / ﻿27.6097056°S 6...</td>\n",
       "      <td>IAB</td>\n",
       "      <td>63580.0</td>\n",
       "    </tr>\n",
       "    <tr>\n",
       "      <th>4</th>\n",
       "      <td>5</td>\n",
       "      <td>Armanty</td>\n",
       "      <td>1898</td>\n",
       "      <td>47°N 88°E﻿ / ﻿47°N 88°E</td>\n",
       "      <td>IIIE</td>\n",
       "      <td>62000.0</td>\n",
       "    </tr>\n",
       "    <tr>\n",
       "      <th>5</th>\n",
       "      <td>6</td>\n",
       "      <td>Bacubirito</td>\n",
       "      <td>1863</td>\n",
       "      <td>26°12′N 107°50′W﻿ / ﻿26.200°N 107.833°W</td>\n",
       "      <td>UNG</td>\n",
       "      <td>49000.0</td>\n",
       "    </tr>\n",
       "    <tr>\n",
       "      <th>6</th>\n",
       "      <td>7</td>\n",
       "      <td>Cape York(Agpalilik)</td>\n",
       "      <td>1963</td>\n",
       "      <td>76°07′59.88″N 64°55′59.88″W﻿ / ﻿76.1333000°N 6...</td>\n",
       "      <td>IIIAB</td>\n",
       "      <td>44300.0</td>\n",
       "    </tr>\n",
       "    <tr>\n",
       "      <th>7</th>\n",
       "      <td>8</td>\n",
       "      <td>Mbozi</td>\n",
       "      <td>1930</td>\n",
       "      <td>09°07′N 33°04′E﻿ / ﻿9.117°N 33.067°E</td>\n",
       "      <td>UNG</td>\n",
       "      <td>35000.0</td>\n",
       "    </tr>\n",
       "    <tr>\n",
       "      <th>8</th>\n",
       "      <td>9</td>\n",
       "      <td>Willamette</td>\n",
       "      <td>1902</td>\n",
       "      <td>45°22′00.12″N 122°34′58.8″W﻿ / ﻿45.3667000°N 1...</td>\n",
       "      <td>IIIAB</td>\n",
       "      <td>31200.0</td>\n",
       "    </tr>\n",
       "    <tr>\n",
       "      <th>9</th>\n",
       "      <td>10</td>\n",
       "      <td>Chupaderos I</td>\n",
       "      <td>1852</td>\n",
       "      <td>27°00′N 105°06′W﻿ / ﻿27.000°N 105.100°W</td>\n",
       "      <td>IIIAB</td>\n",
       "      <td>31116.0</td>\n",
       "    </tr>\n",
       "    <tr>\n",
       "      <th>10</th>\n",
       "      <td>11</td>\n",
       "      <td>Mundrabilla I</td>\n",
       "      <td>1911</td>\n",
       "      <td>30°46′59.88″S 127°33′00″E﻿ / ﻿30.7833000°S 127...</td>\n",
       "      <td>IAB</td>\n",
       "      <td>27300.0</td>\n",
       "    </tr>\n",
       "    <tr>\n",
       "      <th>11</th>\n",
       "      <td>12</td>\n",
       "      <td>Morito</td>\n",
       "      <td>1600</td>\n",
       "      <td>27°03′N 105°26′W﻿ / ﻿27.050°N 105.433°W</td>\n",
       "      <td>IIIAB</td>\n",
       "      <td>22300.0</td>\n",
       "    </tr>\n",
       "    <tr>\n",
       "      <th>12</th>\n",
       "      <td>13</td>\n",
       "      <td>Santa Catharina</td>\n",
       "      <td>1875</td>\n",
       "      <td>26°13′S 48°36′W﻿ / ﻿26.217°S 48.600°W</td>\n",
       "      <td>IAB</td>\n",
       "      <td>15000.0</td>\n",
       "    </tr>\n",
       "    <tr>\n",
       "      <th>13</th>\n",
       "      <td>14</td>\n",
       "      <td>Chupaderos II</td>\n",
       "      <td>1852</td>\n",
       "      <td>27°00′N 105°06′W﻿ / ﻿27.000°N 105.100°W</td>\n",
       "      <td>IIIAB</td>\n",
       "      <td>14930.0</td>\n",
       "    </tr>\n",
       "    <tr>\n",
       "      <th>14</th>\n",
       "      <td>15</td>\n",
       "      <td>Mundrabilla II</td>\n",
       "      <td>1911</td>\n",
       "      <td>30°47′S 127°33′E﻿ / ﻿30.783°S 127.550°E</td>\n",
       "      <td>IAB</td>\n",
       "      <td>13400.0</td>\n",
       "    </tr>\n",
       "    <tr>\n",
       "      <th>15</th>\n",
       "      <td>16</td>\n",
       "      <td>Bendegó</td>\n",
       "      <td>1784</td>\n",
       "      <td>10°07′01″S 39°15′41″W﻿ / ﻿10.11694°S 39.26139°W</td>\n",
       "      <td>IC</td>\n",
       "      <td>11600.0</td>\n",
       "    </tr>\n",
       "    <tr>\n",
       "      <th>0</th>\n",
       "      <td>1</td>\n",
       "      <td>Brenham</td>\n",
       "      <td>1882</td>\n",
       "      <td>37°34′57″N 99°09′49″W﻿ / ﻿37.58250°N 99.16361°W</td>\n",
       "      <td>PMG</td>\n",
       "      <td>9500.0</td>\n",
       "    </tr>\n",
       "    <tr>\n",
       "      <th>1</th>\n",
       "      <td>2</td>\n",
       "      <td>Vaca Muerta</td>\n",
       "      <td>1861</td>\n",
       "      <td>25°45′S 70°30′W﻿ / ﻿25.750°S 70.500°W</td>\n",
       "      <td>A1</td>\n",
       "      <td>8440.0</td>\n",
       "    </tr>\n",
       "    <tr>\n",
       "      <th>2</th>\n",
       "      <td>3</td>\n",
       "      <td>Huckitta</td>\n",
       "      <td>1924</td>\n",
       "      <td>22°22′S 135°46′E﻿ / ﻿22.367°S 135.767°E</td>\n",
       "      <td>PMG</td>\n",
       "      <td>5100.0</td>\n",
       "    </tr>\n",
       "    <tr>\n",
       "      <th>3</th>\n",
       "      <td>4</td>\n",
       "      <td>Fukang</td>\n",
       "      <td>2000</td>\n",
       "      <td>44°25′48″N 87°37′48″E﻿ / ﻿44.43000°N 87.63000°E</td>\n",
       "      <td>PMG</td>\n",
       "      <td>2211.0</td>\n",
       "    </tr>\n",
       "    <tr>\n",
       "      <th>4</th>\n",
       "      <td>5</td>\n",
       "      <td>Imilac</td>\n",
       "      <td>1822</td>\n",
       "      <td>24°12′12″S 68°48′24″W﻿ / ﻿24.20333°S 68.80667°W</td>\n",
       "      <td>PMG</td>\n",
       "      <td>2030.0</td>\n",
       "    </tr>\n",
       "    <tr>\n",
       "      <th>5</th>\n",
       "      <td>6</td>\n",
       "      <td>Bondoc</td>\n",
       "      <td>1956</td>\n",
       "      <td>13°31′N 122°27′E﻿ / ﻿13.517°N 122.450°E</td>\n",
       "      <td>B4</td>\n",
       "      <td>1959.0</td>\n",
       "    </tr>\n",
       "    <tr>\n",
       "      <th>6</th>\n",
       "      <td>7</td>\n",
       "      <td>Brahin</td>\n",
       "      <td>1810</td>\n",
       "      <td>52°30′00″N 30°19′48″E﻿ / ﻿52.50000°N 30.33000°E</td>\n",
       "      <td>PMG</td>\n",
       "      <td>1814.0</td>\n",
       "    </tr>\n",
       "    <tr>\n",
       "      <th>7</th>\n",
       "      <td>8</td>\n",
       "      <td>Esquel</td>\n",
       "      <td>1951</td>\n",
       "      <td>42°54′00″S 71°19′48″W﻿ / ﻿42.90000°S 71.33000°W</td>\n",
       "      <td>PMG</td>\n",
       "      <td>1664.0</td>\n",
       "    </tr>\n",
       "    <tr>\n",
       "      <th>8</th>\n",
       "      <td>9</td>\n",
       "      <td>Krasnojarsk</td>\n",
       "      <td>1749</td>\n",
       "      <td>54°54′N 91°48′E﻿ / ﻿54.900°N 91.800°E</td>\n",
       "      <td>PMG</td>\n",
       "      <td>1500.0</td>\n",
       "    </tr>\n",
       "    <tr>\n",
       "      <th>9</th>\n",
       "      <td>10</td>\n",
       "      <td>Jepara</td>\n",
       "      <td>2008</td>\n",
       "      <td>06°36′S 110°44′E﻿ / ﻿6.600°S 110.733°E</td>\n",
       "      <td>PMG</td>\n",
       "      <td>1101.2</td>\n",
       "    </tr>\n",
       "    <tr>\n",
       "      <th>10</th>\n",
       "      <td>11</td>\n",
       "      <td>Seymchan</td>\n",
       "      <td>1967</td>\n",
       "      <td>62°54′00″N 152°25′48″E﻿ / ﻿62.90000°N 152.43000°E</td>\n",
       "      <td>PMG</td>\n",
       "      <td>712.8</td>\n",
       "    </tr>\n",
       "    <tr>\n",
       "      <th>11</th>\n",
       "      <td>12</td>\n",
       "      <td>Estherville</td>\n",
       "      <td>1879</td>\n",
       "      <td>43°25′N 94°50′W﻿ / ﻿43.417°N 94.833°W</td>\n",
       "      <td>A3/4</td>\n",
       "      <td>710.0</td>\n",
       "    </tr>\n",
       "    <tr>\n",
       "      <th>12</th>\n",
       "      <td>13</td>\n",
       "      <td>Omolon</td>\n",
       "      <td>1981</td>\n",
       "      <td>64°01′12″N 161°48′30″E﻿ / ﻿64.02000°N 161.80833°E</td>\n",
       "      <td>PMG</td>\n",
       "      <td>550.0</td>\n",
       "    </tr>\n",
       "    <tr>\n",
       "      <th>13</th>\n",
       "      <td>14</td>\n",
       "      <td>Youxi</td>\n",
       "      <td>2006</td>\n",
       "      <td>23°03′36″N 118°00′36″E﻿ / ﻿23.06000°N 118.01000°E</td>\n",
       "      <td>PMG</td>\n",
       "      <td>481.0</td>\n",
       "    </tr>\n",
       "    <tr>\n",
       "      <th>14</th>\n",
       "      <td>15</td>\n",
       "      <td>Pallasovka</td>\n",
       "      <td>1990</td>\n",
       "      <td>49°52′00″N 46°36′42″E﻿ / ﻿49.86667°N 46.61167°E</td>\n",
       "      <td>PMG</td>\n",
       "      <td>437.0</td>\n",
       "    </tr>\n",
       "  </tbody>\n",
       "</table>\n",
       "</div>"
      ],
      "text/plain": [
       "    id                  Meteor_Name  FoundYear  \\\n",
       "0    1                         Hoba       1920   \n",
       "1    2         Cape York(Ahnighito)       1894   \n",
       "2    3  Campo del Cielo(Gancedo)[3]       2016   \n",
       "3    4    Campo del Cielo(El Chaco)       1969   \n",
       "4    5                      Armanty       1898   \n",
       "5    6                   Bacubirito       1863   \n",
       "6    7         Cape York(Agpalilik)       1963   \n",
       "7    8                        Mbozi       1930   \n",
       "8    9                   Willamette       1902   \n",
       "9   10                 Chupaderos I       1852   \n",
       "10  11                Mundrabilla I       1911   \n",
       "11  12                       Morito       1600   \n",
       "12  13              Santa Catharina       1875   \n",
       "13  14                Chupaderos II       1852   \n",
       "14  15               Mundrabilla II       1911   \n",
       "15  16                      Bendegó       1784   \n",
       "0    1                      Brenham       1882   \n",
       "1    2                  Vaca Muerta       1861   \n",
       "2    3                     Huckitta       1924   \n",
       "3    4                       Fukang       2000   \n",
       "4    5                       Imilac       1822   \n",
       "5    6                       Bondoc       1956   \n",
       "6    7                       Brahin       1810   \n",
       "7    8                       Esquel       1951   \n",
       "8    9                  Krasnojarsk       1749   \n",
       "9   10                       Jepara       2008   \n",
       "10  11                     Seymchan       1967   \n",
       "11  12                  Estherville       1879   \n",
       "12  13                       Omolon       1981   \n",
       "13  14                        Youxi       2006   \n",
       "14  15                   Pallasovka       1990   \n",
       "\n",
       "                                          Coordinates  \\\n",
       "0   .mw-parser-output .geo-default,.mw-parser-outp...   \n",
       "1               76°08′N 64°56′W﻿ / ﻿76.133°N 64.933°W   \n",
       "2     27°37′48″S 61°42′00″W﻿ / ﻿27.63000°S 61.70000°W   \n",
       "3   27°36′34.94″S 61°40′53.31″W﻿ / ﻿27.6097056°S 6...   \n",
       "4                             47°N 88°E﻿ / ﻿47°N 88°E   \n",
       "5             26°12′N 107°50′W﻿ / ﻿26.200°N 107.833°W   \n",
       "6   76°07′59.88″N 64°55′59.88″W﻿ / ﻿76.1333000°N 6...   \n",
       "7                09°07′N 33°04′E﻿ / ﻿9.117°N 33.067°E   \n",
       "8   45°22′00.12″N 122°34′58.8″W﻿ / ﻿45.3667000°N 1...   \n",
       "9             27°00′N 105°06′W﻿ / ﻿27.000°N 105.100°W   \n",
       "10  30°46′59.88″S 127°33′00″E﻿ / ﻿30.7833000°S 127...   \n",
       "11            27°03′N 105°26′W﻿ / ﻿27.050°N 105.433°W   \n",
       "12              26°13′S 48°36′W﻿ / ﻿26.217°S 48.600°W   \n",
       "13            27°00′N 105°06′W﻿ / ﻿27.000°N 105.100°W   \n",
       "14            30°47′S 127°33′E﻿ / ﻿30.783°S 127.550°E   \n",
       "15    10°07′01″S 39°15′41″W﻿ / ﻿10.11694°S 39.26139°W   \n",
       "0     37°34′57″N 99°09′49″W﻿ / ﻿37.58250°N 99.16361°W   \n",
       "1               25°45′S 70°30′W﻿ / ﻿25.750°S 70.500°W   \n",
       "2             22°22′S 135°46′E﻿ / ﻿22.367°S 135.767°E   \n",
       "3     44°25′48″N 87°37′48″E﻿ / ﻿44.43000°N 87.63000°E   \n",
       "4     24°12′12″S 68°48′24″W﻿ / ﻿24.20333°S 68.80667°W   \n",
       "5             13°31′N 122°27′E﻿ / ﻿13.517°N 122.450°E   \n",
       "6     52°30′00″N 30°19′48″E﻿ / ﻿52.50000°N 30.33000°E   \n",
       "7     42°54′00″S 71°19′48″W﻿ / ﻿42.90000°S 71.33000°W   \n",
       "8               54°54′N 91°48′E﻿ / ﻿54.900°N 91.800°E   \n",
       "9              06°36′S 110°44′E﻿ / ﻿6.600°S 110.733°E   \n",
       "10  62°54′00″N 152°25′48″E﻿ / ﻿62.90000°N 152.43000°E   \n",
       "11              43°25′N 94°50′W﻿ / ﻿43.417°N 94.833°W   \n",
       "12  64°01′12″N 161°48′30″E﻿ / ﻿64.02000°N 161.80833°E   \n",
       "13  23°03′36″N 118°00′36″E﻿ / ﻿23.06000°N 118.01000°E   \n",
       "14    49°52′00″N 46°36′42″E﻿ / ﻿49.86667°N 46.61167°E   \n",
       "\n",
       "             Classification      Mass  \n",
       "0   19°35′32″S / 17°56′01″E  130000.0  \n",
       "1                     IIIAB   68068.0  \n",
       "2                       IAB   67900.0  \n",
       "3                       IAB   63580.0  \n",
       "4                      IIIE   62000.0  \n",
       "5                       UNG   49000.0  \n",
       "6                     IIIAB   44300.0  \n",
       "7                       UNG   35000.0  \n",
       "8                     IIIAB   31200.0  \n",
       "9                     IIIAB   31116.0  \n",
       "10                      IAB   27300.0  \n",
       "11                    IIIAB   22300.0  \n",
       "12                      IAB   15000.0  \n",
       "13                    IIIAB   14930.0  \n",
       "14                      IAB   13400.0  \n",
       "15                       IC   11600.0  \n",
       "0                       PMG    9500.0  \n",
       "1                        A1    8440.0  \n",
       "2                       PMG    5100.0  \n",
       "3                       PMG    2211.0  \n",
       "4                       PMG    2030.0  \n",
       "5                        B4    1959.0  \n",
       "6                       PMG    1814.0  \n",
       "7                       PMG    1664.0  \n",
       "8                       PMG    1500.0  \n",
       "9                       PMG    1101.2  \n",
       "10                      PMG     712.8  \n",
       "11                     A3/4     710.0  \n",
       "12                      PMG     550.0  \n",
       "13                      PMG     481.0  \n",
       "14                      PMG     437.0  "
      ]
     },
     "execution_count": 15,
     "metadata": {},
     "output_type": "execute_result"
    }
   ],
   "source": [
    "#Final HTML Table can be seen above\n",
    "HTMLSite"
   ]
  },
  {
   "cell_type": "code",
   "execution_count": 16,
   "id": "b392ec3c-741b-4b5f-8d8b-01678cadedb0",
   "metadata": {},
   "outputs": [],
   "source": [
    "#CSV File\n",
    "Landings = pd.read_csv(r'meteorite-landings.csv')"
   ]
  },
  {
   "cell_type": "code",
   "execution_count": 17,
   "id": "ac830c2b-e02e-4c58-8662-31ba62321c43",
   "metadata": {},
   "outputs": [],
   "source": [
    "Landings = Landings.rename(columns={\"year\":\"FoundYear\"})\n",
    "Landings = Landings.rename(columns={\"mass\":\"Mass\"})\n",
    "Landings = Landings.rename(columns={\"name\":\"Meteor_Name\"})\n",
    "Landings = Landings.rename(columns={\"GeoLocation\":\"Coordinates\"})\n",
    "Landings = Landings.rename(columns={\"recclass\":\"Classification\"})"
   ]
  },
  {
   "cell_type": "code",
   "execution_count": 18,
   "id": "98f65696-4bf7-4583-86e4-4a8f6c31629a",
   "metadata": {},
   "outputs": [],
   "source": [
    "Landings = Landings[np.isfinite(Landings['Mass'])]"
   ]
  },
  {
   "cell_type": "code",
   "execution_count": 19,
   "id": "a39a2dc3-c22e-431e-892a-df6bf6c5ad29",
   "metadata": {},
   "outputs": [],
   "source": [
    "Landings= Landings.drop([\"reclat\"], axis =1)\n",
    "Landings= Landings.drop([\"reclong\"], axis =1)\n",
    "Landings= Landings.drop([\"fall\"], axis =1)\n",
    "Landings= Landings.drop([\"nametype\"], axis =1)"
   ]
  },
  {
   "cell_type": "code",
   "execution_count": 20,
   "id": "e3d6bd02-9c75-43a4-a9f9-97fc5474ce7e",
   "metadata": {},
   "outputs": [
    {
     "data": {
      "text/html": [
       "<div>\n",
       "<style scoped>\n",
       "    .dataframe tbody tr th:only-of-type {\n",
       "        vertical-align: middle;\n",
       "    }\n",
       "\n",
       "    .dataframe tbody tr th {\n",
       "        vertical-align: top;\n",
       "    }\n",
       "\n",
       "    .dataframe thead th {\n",
       "        text-align: right;\n",
       "    }\n",
       "</style>\n",
       "<table border=\"1\" class=\"dataframe\">\n",
       "  <thead>\n",
       "    <tr style=\"text-align: right;\">\n",
       "      <th></th>\n",
       "      <th>Meteor_Name</th>\n",
       "      <th>id</th>\n",
       "      <th>Classification</th>\n",
       "      <th>Mass</th>\n",
       "      <th>FoundYear</th>\n",
       "      <th>Coordinates</th>\n",
       "    </tr>\n",
       "  </thead>\n",
       "  <tbody>\n",
       "    <tr>\n",
       "      <th>0</th>\n",
       "      <td>Aachen</td>\n",
       "      <td>1</td>\n",
       "      <td>L5</td>\n",
       "      <td>21.0</td>\n",
       "      <td>1880.0</td>\n",
       "      <td>(50.775000, 6.083330)</td>\n",
       "    </tr>\n",
       "    <tr>\n",
       "      <th>1</th>\n",
       "      <td>Aarhus</td>\n",
       "      <td>2</td>\n",
       "      <td>H6</td>\n",
       "      <td>720.0</td>\n",
       "      <td>1951.0</td>\n",
       "      <td>(56.183330, 10.233330)</td>\n",
       "    </tr>\n",
       "    <tr>\n",
       "      <th>2</th>\n",
       "      <td>Abee</td>\n",
       "      <td>6</td>\n",
       "      <td>EH4</td>\n",
       "      <td>107000.0</td>\n",
       "      <td>1952.0</td>\n",
       "      <td>(54.216670, -113.000000)</td>\n",
       "    </tr>\n",
       "    <tr>\n",
       "      <th>3</th>\n",
       "      <td>Acapulco</td>\n",
       "      <td>10</td>\n",
       "      <td>Acapulcoite</td>\n",
       "      <td>1914.0</td>\n",
       "      <td>1976.0</td>\n",
       "      <td>(16.883330, -99.900000)</td>\n",
       "    </tr>\n",
       "    <tr>\n",
       "      <th>4</th>\n",
       "      <td>Achiras</td>\n",
       "      <td>370</td>\n",
       "      <td>L6</td>\n",
       "      <td>780.0</td>\n",
       "      <td>1902.0</td>\n",
       "      <td>(-33.166670, -64.950000)</td>\n",
       "    </tr>\n",
       "    <tr>\n",
       "      <th>...</th>\n",
       "      <td>...</td>\n",
       "      <td>...</td>\n",
       "      <td>...</td>\n",
       "      <td>...</td>\n",
       "      <td>...</td>\n",
       "      <td>...</td>\n",
       "    </tr>\n",
       "    <tr>\n",
       "      <th>45711</th>\n",
       "      <td>Zillah 002</td>\n",
       "      <td>31356</td>\n",
       "      <td>Eucrite</td>\n",
       "      <td>172.0</td>\n",
       "      <td>1990.0</td>\n",
       "      <td>(29.037000, 17.018500)</td>\n",
       "    </tr>\n",
       "    <tr>\n",
       "      <th>45712</th>\n",
       "      <td>Zinder</td>\n",
       "      <td>30409</td>\n",
       "      <td>Pallasite, ungrouped</td>\n",
       "      <td>46.0</td>\n",
       "      <td>1999.0</td>\n",
       "      <td>(13.783330, 8.966670)</td>\n",
       "    </tr>\n",
       "    <tr>\n",
       "      <th>45713</th>\n",
       "      <td>Zlin</td>\n",
       "      <td>30410</td>\n",
       "      <td>H4</td>\n",
       "      <td>3.3</td>\n",
       "      <td>1939.0</td>\n",
       "      <td>(49.250000, 17.666670)</td>\n",
       "    </tr>\n",
       "    <tr>\n",
       "      <th>45714</th>\n",
       "      <td>Zubkovsky</td>\n",
       "      <td>31357</td>\n",
       "      <td>L6</td>\n",
       "      <td>2167.0</td>\n",
       "      <td>2003.0</td>\n",
       "      <td>(49.789170, 41.504600)</td>\n",
       "    </tr>\n",
       "    <tr>\n",
       "      <th>45715</th>\n",
       "      <td>Zulu Queen</td>\n",
       "      <td>30414</td>\n",
       "      <td>L3.7</td>\n",
       "      <td>200.0</td>\n",
       "      <td>1976.0</td>\n",
       "      <td>(33.983330, -115.683330)</td>\n",
       "    </tr>\n",
       "  </tbody>\n",
       "</table>\n",
       "<p>38116 rows × 6 columns</p>\n",
       "</div>"
      ],
      "text/plain": [
       "      Meteor_Name     id        Classification      Mass  FoundYear  \\\n",
       "0          Aachen      1                    L5      21.0     1880.0   \n",
       "1          Aarhus      2                    H6     720.0     1951.0   \n",
       "2            Abee      6                   EH4  107000.0     1952.0   \n",
       "3        Acapulco     10           Acapulcoite    1914.0     1976.0   \n",
       "4         Achiras    370                    L6     780.0     1902.0   \n",
       "...           ...    ...                   ...       ...        ...   \n",
       "45711  Zillah 002  31356               Eucrite     172.0     1990.0   \n",
       "45712      Zinder  30409  Pallasite, ungrouped      46.0     1999.0   \n",
       "45713        Zlin  30410                    H4       3.3     1939.0   \n",
       "45714   Zubkovsky  31357                    L6    2167.0     2003.0   \n",
       "45715  Zulu Queen  30414                  L3.7     200.0     1976.0   \n",
       "\n",
       "                    Coordinates  \n",
       "0         (50.775000, 6.083330)  \n",
       "1        (56.183330, 10.233330)  \n",
       "2      (54.216670, -113.000000)  \n",
       "3       (16.883330, -99.900000)  \n",
       "4      (-33.166670, -64.950000)  \n",
       "...                         ...  \n",
       "45711    (29.037000, 17.018500)  \n",
       "45712     (13.783330, 8.966670)  \n",
       "45713    (49.250000, 17.666670)  \n",
       "45714    (49.789170, 41.504600)  \n",
       "45715  (33.983330, -115.683330)  \n",
       "\n",
       "[38116 rows x 6 columns]"
      ]
     },
     "execution_count": 20,
     "metadata": {},
     "output_type": "execute_result"
    }
   ],
   "source": [
    "Landings.dropna()"
   ]
  },
  {
   "cell_type": "code",
   "execution_count": 21,
   "id": "091c76c6-275c-49f3-b8aa-775aade0b1c9",
   "metadata": {},
   "outputs": [
    {
     "data": {
      "text/plain": [
       "Meteor_Name        object\n",
       "id                  int64\n",
       "Classification     object\n",
       "Mass              float64\n",
       "FoundYear         float64\n",
       "Coordinates        object\n",
       "dtype: object"
      ]
     },
     "execution_count": 21,
     "metadata": {},
     "output_type": "execute_result"
    }
   ],
   "source": [
    "Landings.dtypes"
   ]
  },
  {
   "cell_type": "code",
   "execution_count": 22,
   "id": "27ba10bf-84f8-4a13-b431-85e871dc4665",
   "metadata": {},
   "outputs": [],
   "source": [
    "Landings.Mass = Landings.Mass.astype(int)\n",
    "Landings[\"FoundYear\"] = Landings[\"FoundYear\"].astype(str).str[:-2]"
   ]
  },
  {
   "cell_type": "code",
   "execution_count": 23,
   "id": "dab5fb67-52e3-4927-bca8-91289440e2bd",
   "metadata": {},
   "outputs": [
    {
     "data": {
      "text/html": [
       "<div>\n",
       "<style scoped>\n",
       "    .dataframe tbody tr th:only-of-type {\n",
       "        vertical-align: middle;\n",
       "    }\n",
       "\n",
       "    .dataframe tbody tr th {\n",
       "        vertical-align: top;\n",
       "    }\n",
       "\n",
       "    .dataframe thead th {\n",
       "        text-align: right;\n",
       "    }\n",
       "</style>\n",
       "<table border=\"1\" class=\"dataframe\">\n",
       "  <thead>\n",
       "    <tr style=\"text-align: right;\">\n",
       "      <th></th>\n",
       "      <th>Meteor_Name</th>\n",
       "      <th>id</th>\n",
       "      <th>Classification</th>\n",
       "      <th>Mass</th>\n",
       "      <th>FoundYear</th>\n",
       "      <th>Coordinates</th>\n",
       "    </tr>\n",
       "  </thead>\n",
       "  <tbody>\n",
       "    <tr>\n",
       "      <th>0</th>\n",
       "      <td>Aachen</td>\n",
       "      <td>1</td>\n",
       "      <td>L5</td>\n",
       "      <td>21</td>\n",
       "      <td>1880</td>\n",
       "      <td>(50.775000, 6.083330)</td>\n",
       "    </tr>\n",
       "    <tr>\n",
       "      <th>1</th>\n",
       "      <td>Aarhus</td>\n",
       "      <td>2</td>\n",
       "      <td>H6</td>\n",
       "      <td>720</td>\n",
       "      <td>1951</td>\n",
       "      <td>(56.183330, 10.233330)</td>\n",
       "    </tr>\n",
       "    <tr>\n",
       "      <th>2</th>\n",
       "      <td>Abee</td>\n",
       "      <td>6</td>\n",
       "      <td>EH4</td>\n",
       "      <td>107000</td>\n",
       "      <td>1952</td>\n",
       "      <td>(54.216670, -113.000000)</td>\n",
       "    </tr>\n",
       "    <tr>\n",
       "      <th>3</th>\n",
       "      <td>Acapulco</td>\n",
       "      <td>10</td>\n",
       "      <td>Acapulcoite</td>\n",
       "      <td>1914</td>\n",
       "      <td>1976</td>\n",
       "      <td>(16.883330, -99.900000)</td>\n",
       "    </tr>\n",
       "    <tr>\n",
       "      <th>4</th>\n",
       "      <td>Achiras</td>\n",
       "      <td>370</td>\n",
       "      <td>L6</td>\n",
       "      <td>780</td>\n",
       "      <td>1902</td>\n",
       "      <td>(-33.166670, -64.950000)</td>\n",
       "    </tr>\n",
       "  </tbody>\n",
       "</table>\n",
       "</div>"
      ],
      "text/plain": [
       "  Meteor_Name   id Classification    Mass FoundYear               Coordinates\n",
       "0      Aachen    1             L5      21      1880     (50.775000, 6.083330)\n",
       "1      Aarhus    2             H6     720      1951    (56.183330, 10.233330)\n",
       "2        Abee    6            EH4  107000      1952  (54.216670, -113.000000)\n",
       "3    Acapulco   10    Acapulcoite    1914      1976   (16.883330, -99.900000)\n",
       "4     Achiras  370             L6     780      1902  (-33.166670, -64.950000)"
      ]
     },
     "execution_count": 23,
     "metadata": {},
     "output_type": "execute_result"
    }
   ],
   "source": [
    "#CSV File\n",
    "Landings.head()"
   ]
  },
  {
   "cell_type": "code",
   "execution_count": 24,
   "id": "5357210c-a77b-4fe1-89f0-f9e033e76624",
   "metadata": {},
   "outputs": [],
   "source": [
    "NASAAPI = pd.read_json(r'https://data.nasa.gov/resource/gh4g-9sfh.json')"
   ]
  },
  {
   "cell_type": "code",
   "execution_count": 25,
   "id": "83110a13-4f31-4e6f-8027-8a1e2e37c8b3",
   "metadata": {},
   "outputs": [],
   "source": [
    "NASAAPI = NASAAPI.drop([\":@computed_region_nnqa_25f4\" ,\":@computed_region_cbhk_fwbd\"], axis=1) "
   ]
  },
  {
   "cell_type": "code",
   "execution_count": 26,
   "id": "31989cd4-35ab-445d-bf8c-9c16fd51d8a8",
   "metadata": {},
   "outputs": [],
   "source": [
    "NASAAPI= NASAAPI.dropna()\n",
    "NASAAPI['year'] = NASAAPI['year'].str[:4]"
   ]
  },
  {
   "cell_type": "code",
   "execution_count": 27,
   "id": "77e87c39-a5c9-4042-bca3-e42f3742b99f",
   "metadata": {},
   "outputs": [],
   "source": [
    "NASAAPI= NASAAPI.drop([\"nametype\"], axis =1)"
   ]
  },
  {
   "cell_type": "code",
   "execution_count": 28,
   "id": "d6e9fc07-b1a4-4c37-8cb3-80215378ac75",
   "metadata": {},
   "outputs": [],
   "source": [
    "NASAAPI= NASAAPI.drop([\"geolocation\"], axis =1)\n",
    "NASAAPI= NASAAPI.drop([\"fall\"], axis =1)"
   ]
  },
  {
   "cell_type": "code",
   "execution_count": 29,
   "id": "3df8d6bd-45fe-477a-8dbf-f0c441f83f37",
   "metadata": {},
   "outputs": [],
   "source": [
    "NASAAPI[\"Coordinates\"]= \"(\"+NASAAPI[\"reclat\"].astype(str)+\", \"+NASAAPI[\"reclat\"].astype(str)+\")\""
   ]
  },
  {
   "cell_type": "code",
   "execution_count": 30,
   "id": "4de85120-1ec6-4ecc-96a7-91cab48a1c68",
   "metadata": {},
   "outputs": [],
   "source": [
    "NASAAPI = NASAAPI.rename(columns={\"name\":\"Meteor_Name\"})\n",
    "NASAAPI = NASAAPI.rename(columns={\"mass\":\"Mass\"})\n",
    "NASAAPI = NASAAPI.rename(columns={\"year\":\"FoundYear\"})\n",
    "NASAAPI = NASAAPI.rename(columns={\"recclass\":\"Classification\"})"
   ]
  },
  {
   "cell_type": "code",
   "execution_count": 31,
   "id": "5bcb17ae-93bb-45fd-9635-f52cc550511b",
   "metadata": {},
   "outputs": [],
   "source": [
    "NASAAPI= NASAAPI.drop([\"reclat\"], axis =1)\n",
    "NASAAPI= NASAAPI.drop([\"reclong\"], axis =1)"
   ]
  },
  {
   "cell_type": "code",
   "execution_count": 32,
   "id": "65f513a5-3e5c-45d2-8a4b-8b87944420c4",
   "metadata": {},
   "outputs": [
    {
     "data": {
      "text/plain": [
       "Meteor_Name        object\n",
       "id                  int64\n",
       "Classification     object\n",
       "Mass              float64\n",
       "FoundYear          object\n",
       "Coordinates        object\n",
       "dtype: object"
      ]
     },
     "execution_count": 32,
     "metadata": {},
     "output_type": "execute_result"
    }
   ],
   "source": [
    "NASAAPI.dtypes"
   ]
  },
  {
   "cell_type": "code",
   "execution_count": 33,
   "id": "89945577-4fe7-4c67-941a-86d598a56086",
   "metadata": {},
   "outputs": [
    {
     "data": {
      "text/html": [
       "<div>\n",
       "<style scoped>\n",
       "    .dataframe tbody tr th:only-of-type {\n",
       "        vertical-align: middle;\n",
       "    }\n",
       "\n",
       "    .dataframe tbody tr th {\n",
       "        vertical-align: top;\n",
       "    }\n",
       "\n",
       "    .dataframe thead th {\n",
       "        text-align: right;\n",
       "    }\n",
       "</style>\n",
       "<table border=\"1\" class=\"dataframe\">\n",
       "  <thead>\n",
       "    <tr style=\"text-align: right;\">\n",
       "      <th></th>\n",
       "      <th>Meteor_Name</th>\n",
       "      <th>id</th>\n",
       "      <th>Classification</th>\n",
       "      <th>Mass</th>\n",
       "      <th>FoundYear</th>\n",
       "      <th>Coordinates</th>\n",
       "    </tr>\n",
       "  </thead>\n",
       "  <tbody>\n",
       "    <tr>\n",
       "      <th>0</th>\n",
       "      <td>Aachen</td>\n",
       "      <td>1</td>\n",
       "      <td>L5</td>\n",
       "      <td>21.0</td>\n",
       "      <td>1880</td>\n",
       "      <td>(50.775, 50.775)</td>\n",
       "    </tr>\n",
       "    <tr>\n",
       "      <th>1</th>\n",
       "      <td>Aarhus</td>\n",
       "      <td>2</td>\n",
       "      <td>H6</td>\n",
       "      <td>720.0</td>\n",
       "      <td>1951</td>\n",
       "      <td>(56.18333, 56.18333)</td>\n",
       "    </tr>\n",
       "    <tr>\n",
       "      <th>2</th>\n",
       "      <td>Abee</td>\n",
       "      <td>6</td>\n",
       "      <td>EH4</td>\n",
       "      <td>107000.0</td>\n",
       "      <td>1952</td>\n",
       "      <td>(54.21667, 54.21667)</td>\n",
       "    </tr>\n",
       "    <tr>\n",
       "      <th>3</th>\n",
       "      <td>Acapulco</td>\n",
       "      <td>10</td>\n",
       "      <td>Acapulcoite</td>\n",
       "      <td>1914.0</td>\n",
       "      <td>1976</td>\n",
       "      <td>(16.88333, 16.88333)</td>\n",
       "    </tr>\n",
       "    <tr>\n",
       "      <th>4</th>\n",
       "      <td>Achiras</td>\n",
       "      <td>370</td>\n",
       "      <td>L6</td>\n",
       "      <td>780.0</td>\n",
       "      <td>1902</td>\n",
       "      <td>(-33.16667, -33.16667)</td>\n",
       "    </tr>\n",
       "    <tr>\n",
       "      <th>...</th>\n",
       "      <td>...</td>\n",
       "      <td>...</td>\n",
       "      <td>...</td>\n",
       "      <td>...</td>\n",
       "      <td>...</td>\n",
       "      <td>...</td>\n",
       "    </tr>\n",
       "    <tr>\n",
       "      <th>995</th>\n",
       "      <td>Tirupati</td>\n",
       "      <td>24009</td>\n",
       "      <td>H6</td>\n",
       "      <td>230.0</td>\n",
       "      <td>1934</td>\n",
       "      <td>(13.63333, 13.63333)</td>\n",
       "    </tr>\n",
       "    <tr>\n",
       "      <th>996</th>\n",
       "      <td>Tissint</td>\n",
       "      <td>54823</td>\n",
       "      <td>Martian (shergottite)</td>\n",
       "      <td>7000.0</td>\n",
       "      <td>2011</td>\n",
       "      <td>(29.48195, 29.48195)</td>\n",
       "    </tr>\n",
       "    <tr>\n",
       "      <th>997</th>\n",
       "      <td>Tjabe</td>\n",
       "      <td>24011</td>\n",
       "      <td>H6</td>\n",
       "      <td>20000.0</td>\n",
       "      <td>1869</td>\n",
       "      <td>(-7.08333, -7.08333)</td>\n",
       "    </tr>\n",
       "    <tr>\n",
       "      <th>998</th>\n",
       "      <td>Tjerebon</td>\n",
       "      <td>24012</td>\n",
       "      <td>L5</td>\n",
       "      <td>16500.0</td>\n",
       "      <td>1922</td>\n",
       "      <td>(-6.66667, -6.66667)</td>\n",
       "    </tr>\n",
       "    <tr>\n",
       "      <th>999</th>\n",
       "      <td>Tomakovka</td>\n",
       "      <td>24019</td>\n",
       "      <td>LL6</td>\n",
       "      <td>600.0</td>\n",
       "      <td>1905</td>\n",
       "      <td>(47.85, 47.85)</td>\n",
       "    </tr>\n",
       "  </tbody>\n",
       "</table>\n",
       "<p>959 rows × 6 columns</p>\n",
       "</div>"
      ],
      "text/plain": [
       "    Meteor_Name     id         Classification      Mass FoundYear  \\\n",
       "0        Aachen      1                     L5      21.0      1880   \n",
       "1        Aarhus      2                     H6     720.0      1951   \n",
       "2          Abee      6                    EH4  107000.0      1952   \n",
       "3      Acapulco     10            Acapulcoite    1914.0      1976   \n",
       "4       Achiras    370                     L6     780.0      1902   \n",
       "..          ...    ...                    ...       ...       ...   \n",
       "995    Tirupati  24009                     H6     230.0      1934   \n",
       "996     Tissint  54823  Martian (shergottite)    7000.0      2011   \n",
       "997       Tjabe  24011                     H6   20000.0      1869   \n",
       "998    Tjerebon  24012                     L5   16500.0      1922   \n",
       "999   Tomakovka  24019                    LL6     600.0      1905   \n",
       "\n",
       "                Coordinates  \n",
       "0          (50.775, 50.775)  \n",
       "1      (56.18333, 56.18333)  \n",
       "2      (54.21667, 54.21667)  \n",
       "3      (16.88333, 16.88333)  \n",
       "4    (-33.16667, -33.16667)  \n",
       "..                      ...  \n",
       "995    (13.63333, 13.63333)  \n",
       "996    (29.48195, 29.48195)  \n",
       "997    (-7.08333, -7.08333)  \n",
       "998    (-6.66667, -6.66667)  \n",
       "999          (47.85, 47.85)  \n",
       "\n",
       "[959 rows x 6 columns]"
      ]
     },
     "execution_count": 33,
     "metadata": {},
     "output_type": "execute_result"
    }
   ],
   "source": [
    "#API Dataset\n",
    "NASAAPI"
   ]
  },
  {
   "cell_type": "code",
   "execution_count": 34,
   "id": "f260c771-baaa-4030-8608-eab63b2121a8",
   "metadata": {},
   "outputs": [
    {
     "name": "stdout",
     "output_type": "stream",
     "text": [
      "I have the three files that have been cleaned and processed in past weeks, I will now work to merge them\n"
     ]
    }
   ],
   "source": [
    "print(\"I have the three files that have been cleaned and processed in past weeks, I will now work to merge them\")"
   ]
  },
  {
   "cell_type": "code",
   "execution_count": 35,
   "id": "2c938f73-d154-4c1d-99a4-d4e8c5ebc535",
   "metadata": {},
   "outputs": [],
   "source": [
    "import sqlite3"
   ]
  },
  {
   "cell_type": "code",
   "execution_count": 36,
   "id": "5a676000-078b-416f-96bc-178349a14d12",
   "metadata": {},
   "outputs": [],
   "source": [
    "frames = [NASAAPI, Landings, HTMLSite]"
   ]
  },
  {
   "cell_type": "code",
   "execution_count": 37,
   "id": "c4916518-bc94-46ce-a71e-e5f25f3174f3",
   "metadata": {},
   "outputs": [],
   "source": [
    "result = pd.concat(frames)"
   ]
  },
  {
   "cell_type": "code",
   "execution_count": 38,
   "id": "06532ec9-36b7-4193-aa71-ea0fc3de0101",
   "metadata": {},
   "outputs": [
    {
     "data": {
      "text/html": [
       "<div>\n",
       "<style scoped>\n",
       "    .dataframe tbody tr th:only-of-type {\n",
       "        vertical-align: middle;\n",
       "    }\n",
       "\n",
       "    .dataframe tbody tr th {\n",
       "        vertical-align: top;\n",
       "    }\n",
       "\n",
       "    .dataframe thead th {\n",
       "        text-align: right;\n",
       "    }\n",
       "</style>\n",
       "<table border=\"1\" class=\"dataframe\">\n",
       "  <thead>\n",
       "    <tr style=\"text-align: right;\">\n",
       "      <th></th>\n",
       "      <th>Meteor_Name</th>\n",
       "      <th>id</th>\n",
       "      <th>Classification</th>\n",
       "      <th>Mass</th>\n",
       "      <th>FoundYear</th>\n",
       "      <th>Coordinates</th>\n",
       "    </tr>\n",
       "  </thead>\n",
       "  <tbody>\n",
       "    <tr>\n",
       "      <th>0</th>\n",
       "      <td>Aachen</td>\n",
       "      <td>1</td>\n",
       "      <td>L5</td>\n",
       "      <td>21.0</td>\n",
       "      <td>1880</td>\n",
       "      <td>(50.775, 50.775)</td>\n",
       "    </tr>\n",
       "    <tr>\n",
       "      <th>1</th>\n",
       "      <td>Aarhus</td>\n",
       "      <td>2</td>\n",
       "      <td>H6</td>\n",
       "      <td>720.0</td>\n",
       "      <td>1951</td>\n",
       "      <td>(56.18333, 56.18333)</td>\n",
       "    </tr>\n",
       "    <tr>\n",
       "      <th>2</th>\n",
       "      <td>Abee</td>\n",
       "      <td>6</td>\n",
       "      <td>EH4</td>\n",
       "      <td>107000.0</td>\n",
       "      <td>1952</td>\n",
       "      <td>(54.21667, 54.21667)</td>\n",
       "    </tr>\n",
       "    <tr>\n",
       "      <th>3</th>\n",
       "      <td>Acapulco</td>\n",
       "      <td>10</td>\n",
       "      <td>Acapulcoite</td>\n",
       "      <td>1914.0</td>\n",
       "      <td>1976</td>\n",
       "      <td>(16.88333, 16.88333)</td>\n",
       "    </tr>\n",
       "    <tr>\n",
       "      <th>4</th>\n",
       "      <td>Achiras</td>\n",
       "      <td>370</td>\n",
       "      <td>L6</td>\n",
       "      <td>780.0</td>\n",
       "      <td>1902</td>\n",
       "      <td>(-33.16667, -33.16667)</td>\n",
       "    </tr>\n",
       "    <tr>\n",
       "      <th>...</th>\n",
       "      <td>...</td>\n",
       "      <td>...</td>\n",
       "      <td>...</td>\n",
       "      <td>...</td>\n",
       "      <td>...</td>\n",
       "      <td>...</td>\n",
       "    </tr>\n",
       "    <tr>\n",
       "      <th>10</th>\n",
       "      <td>Seymchan</td>\n",
       "      <td>11</td>\n",
       "      <td>PMG</td>\n",
       "      <td>712.8</td>\n",
       "      <td>1967</td>\n",
       "      <td>62°54′00″N 152°25′48″E﻿ / ﻿62.90000°N 152.43000°E</td>\n",
       "    </tr>\n",
       "    <tr>\n",
       "      <th>11</th>\n",
       "      <td>Estherville</td>\n",
       "      <td>12</td>\n",
       "      <td>A3/4</td>\n",
       "      <td>710.0</td>\n",
       "      <td>1879</td>\n",
       "      <td>43°25′N 94°50′W﻿ / ﻿43.417°N 94.833°W</td>\n",
       "    </tr>\n",
       "    <tr>\n",
       "      <th>12</th>\n",
       "      <td>Omolon</td>\n",
       "      <td>13</td>\n",
       "      <td>PMG</td>\n",
       "      <td>550.0</td>\n",
       "      <td>1981</td>\n",
       "      <td>64°01′12″N 161°48′30″E﻿ / ﻿64.02000°N 161.80833°E</td>\n",
       "    </tr>\n",
       "    <tr>\n",
       "      <th>13</th>\n",
       "      <td>Youxi</td>\n",
       "      <td>14</td>\n",
       "      <td>PMG</td>\n",
       "      <td>481.0</td>\n",
       "      <td>2006</td>\n",
       "      <td>23°03′36″N 118°00′36″E﻿ / ﻿23.06000°N 118.01000°E</td>\n",
       "    </tr>\n",
       "    <tr>\n",
       "      <th>14</th>\n",
       "      <td>Pallasovka</td>\n",
       "      <td>15</td>\n",
       "      <td>PMG</td>\n",
       "      <td>437.0</td>\n",
       "      <td>1990</td>\n",
       "      <td>49°52′00″N 46°36′42″E﻿ / ﻿49.86667°N 46.61167°E</td>\n",
       "    </tr>\n",
       "  </tbody>\n",
       "</table>\n",
       "<p>46575 rows × 6 columns</p>\n",
       "</div>"
      ],
      "text/plain": [
       "    Meteor_Name   id Classification      Mass FoundYear  \\\n",
       "0        Aachen    1             L5      21.0      1880   \n",
       "1        Aarhus    2             H6     720.0      1951   \n",
       "2          Abee    6            EH4  107000.0      1952   \n",
       "3      Acapulco   10    Acapulcoite    1914.0      1976   \n",
       "4       Achiras  370             L6     780.0      1902   \n",
       "..          ...  ...            ...       ...       ...   \n",
       "10     Seymchan   11            PMG     712.8      1967   \n",
       "11  Estherville   12           A3/4     710.0      1879   \n",
       "12       Omolon   13            PMG     550.0      1981   \n",
       "13        Youxi   14            PMG     481.0      2006   \n",
       "14   Pallasovka   15            PMG     437.0      1990   \n",
       "\n",
       "                                          Coordinates  \n",
       "0                                    (50.775, 50.775)  \n",
       "1                                (56.18333, 56.18333)  \n",
       "2                                (54.21667, 54.21667)  \n",
       "3                                (16.88333, 16.88333)  \n",
       "4                              (-33.16667, -33.16667)  \n",
       "..                                                ...  \n",
       "10  62°54′00″N 152°25′48″E﻿ / ﻿62.90000°N 152.43000°E  \n",
       "11              43°25′N 94°50′W﻿ / ﻿43.417°N 94.833°W  \n",
       "12  64°01′12″N 161°48′30″E﻿ / ﻿64.02000°N 161.80833°E  \n",
       "13  23°03′36″N 118°00′36″E﻿ / ﻿23.06000°N 118.01000°E  \n",
       "14    49°52′00″N 46°36′42″E﻿ / ﻿49.86667°N 46.61167°E  \n",
       "\n",
       "[46575 rows x 6 columns]"
      ]
     },
     "execution_count": 38,
     "metadata": {},
     "output_type": "execute_result"
    }
   ],
   "source": [
    "result"
   ]
  },
  {
   "cell_type": "code",
   "execution_count": 39,
   "id": "161c3a89-c183-40f6-a2b1-c93a15c2014f",
   "metadata": {},
   "outputs": [
    {
     "name": "stderr",
     "output_type": "stream",
     "text": [
      "C:\\Users\\spashtunyar\\AppData\\Local\\Temp\\ipykernel_37276\\1782897002.py:2: SettingWithCopyWarning: \n",
      "A value is trying to be set on a copy of a slice from a DataFrame.\n",
      "Try using .loc[row_indexer,col_indexer] = value instead\n",
      "\n",
      "See the caveats in the documentation: https://pandas.pydata.org/pandas-docs/stable/user_guide/indexing.html#returning-a-view-versus-a-copy\n",
      "  result['FoundYear']= result['FoundYear'].astype(int)\n"
     ]
    }
   ],
   "source": [
    "result = result[pd.to_numeric(result.FoundYear, errors='coerce').notnull()]\n",
    "result['FoundYear']= result['FoundYear'].astype(int)"
   ]
  },
  {
   "cell_type": "code",
   "execution_count": 40,
   "id": "fdc4068d-d12a-4fe4-b1a3-35031294d29f",
   "metadata": {},
   "outputs": [],
   "source": [
    "#Creating Meteor SQL Database\n",
    "conn = sqlite3.connect('MeteorDB')\n",
    "c = conn.cursor()"
   ]
  },
  {
   "cell_type": "code",
   "execution_count": 41,
   "id": "0ab3e762-98c9-411b-83ed-3b79ab95dcc3",
   "metadata": {},
   "outputs": [
    {
     "data": {
      "text/html": [
       "<div>\n",
       "<style scoped>\n",
       "    .dataframe tbody tr th:only-of-type {\n",
       "        vertical-align: middle;\n",
       "    }\n",
       "\n",
       "    .dataframe tbody tr th {\n",
       "        vertical-align: top;\n",
       "    }\n",
       "\n",
       "    .dataframe thead th {\n",
       "        text-align: right;\n",
       "    }\n",
       "</style>\n",
       "<table border=\"1\" class=\"dataframe\">\n",
       "  <thead>\n",
       "    <tr style=\"text-align: right;\">\n",
       "      <th></th>\n",
       "      <th>Meteor_Name</th>\n",
       "      <th>id</th>\n",
       "      <th>Classification</th>\n",
       "      <th>Mass</th>\n",
       "      <th>FoundYear</th>\n",
       "      <th>Coordinates</th>\n",
       "    </tr>\n",
       "  </thead>\n",
       "  <tbody>\n",
       "    <tr>\n",
       "      <th>0</th>\n",
       "      <td>Aachen</td>\n",
       "      <td>1</td>\n",
       "      <td>L5</td>\n",
       "      <td>21.0</td>\n",
       "      <td>1880</td>\n",
       "      <td>(50.775, 50.775)</td>\n",
       "    </tr>\n",
       "  </tbody>\n",
       "</table>\n",
       "</div>"
      ],
      "text/plain": [
       "  Meteor_Name  id Classification  Mass FoundYear       Coordinates\n",
       "0      Aachen   1             L5  21.0      1880  (50.775, 50.775)"
      ]
     },
     "execution_count": 41,
     "metadata": {},
     "output_type": "execute_result"
    }
   ],
   "source": [
    "NASAAPI.head(1)"
   ]
  },
  {
   "cell_type": "code",
   "execution_count": 42,
   "id": "a4608753-9fe2-4c76-bc0b-032021bd1e94",
   "metadata": {},
   "outputs": [
    {
     "data": {
      "text/plain": [
       "<sqlite3.Cursor at 0x1cfd288a880>"
      ]
     },
     "execution_count": 42,
     "metadata": {},
     "output_type": "execute_result"
    }
   ],
   "source": [
    "c.execute('CREATE TABLE IF NOT EXISTS NASAAPI (Meteorite Name TEXT, id INTEGER, Classification TEXT, Mass INTEGER, fall TEXT, FoundYear INTEGER, reclat TEXT, reclong TEXT, Coordinates  TEXT)')"
   ]
  },
  {
   "cell_type": "code",
   "execution_count": 43,
   "id": "d44bb345-b172-4d1d-8a96-37b0e50b2892",
   "metadata": {},
   "outputs": [
    {
     "data": {
      "text/plain": [
       "959"
      ]
     },
     "execution_count": 43,
     "metadata": {},
     "output_type": "execute_result"
    }
   ],
   "source": [
    "#Adding API DF\n",
    "NASAAPI.to_sql('NASAAPI', conn, if_exists='replace', index = False)"
   ]
  },
  {
   "cell_type": "code",
   "execution_count": 44,
   "id": "8a7bd82c-e00f-4af7-9440-627149b5776d",
   "metadata": {},
   "outputs": [
    {
     "data": {
      "text/html": [
       "<div>\n",
       "<style scoped>\n",
       "    .dataframe tbody tr th:only-of-type {\n",
       "        vertical-align: middle;\n",
       "    }\n",
       "\n",
       "    .dataframe tbody tr th {\n",
       "        vertical-align: top;\n",
       "    }\n",
       "\n",
       "    .dataframe thead th {\n",
       "        text-align: right;\n",
       "    }\n",
       "</style>\n",
       "<table border=\"1\" class=\"dataframe\">\n",
       "  <thead>\n",
       "    <tr style=\"text-align: right;\">\n",
       "      <th></th>\n",
       "      <th>Meteor_Name</th>\n",
       "      <th>id</th>\n",
       "      <th>Classification</th>\n",
       "      <th>Mass</th>\n",
       "      <th>FoundYear</th>\n",
       "      <th>Coordinates</th>\n",
       "    </tr>\n",
       "  </thead>\n",
       "  <tbody>\n",
       "    <tr>\n",
       "      <th>0</th>\n",
       "      <td>Aachen</td>\n",
       "      <td>1</td>\n",
       "      <td>L5</td>\n",
       "      <td>21</td>\n",
       "      <td>1880</td>\n",
       "      <td>(50.775000, 6.083330)</td>\n",
       "    </tr>\n",
       "  </tbody>\n",
       "</table>\n",
       "</div>"
      ],
      "text/plain": [
       "  Meteor_Name  id Classification  Mass FoundYear            Coordinates\n",
       "0      Aachen   1             L5    21      1880  (50.775000, 6.083330)"
      ]
     },
     "execution_count": 44,
     "metadata": {},
     "output_type": "execute_result"
    }
   ],
   "source": [
    "Landings.head(1)"
   ]
  },
  {
   "cell_type": "code",
   "execution_count": 45,
   "id": "ec80c93a-bd6d-43c4-8937-d23168c37dbb",
   "metadata": {},
   "outputs": [
    {
     "data": {
      "text/plain": [
       "<sqlite3.Cursor at 0x1cfd288a880>"
      ]
     },
     "execution_count": 45,
     "metadata": {},
     "output_type": "execute_result"
    }
   ],
   "source": [
    "c.execute('CREATE TABLE IF NOT EXISTS Landings (Meteorite Name TEXT, id INTEGER, nametype TEXT, Classification TEXT, Mass INTEGER, fall TEXT, FoundYear INTEGER, reclat TEXT, reclong TEXT, Coordinates TEXT)')"
   ]
  },
  {
   "cell_type": "code",
   "execution_count": 46,
   "id": "8de05325-3c4b-4abb-9c52-c886177efe5b",
   "metadata": {},
   "outputs": [
    {
     "data": {
      "text/plain": [
       "45585"
      ]
     },
     "execution_count": 46,
     "metadata": {},
     "output_type": "execute_result"
    }
   ],
   "source": [
    "#ADDING CSV DF\n",
    "Landings.to_sql('Landings', conn, if_exists='replace', index = False)"
   ]
  },
  {
   "cell_type": "code",
   "execution_count": 47,
   "id": "99584084-d67c-4134-a5fe-4aed018f3f8a",
   "metadata": {},
   "outputs": [
    {
     "data": {
      "text/html": [
       "<div>\n",
       "<style scoped>\n",
       "    .dataframe tbody tr th:only-of-type {\n",
       "        vertical-align: middle;\n",
       "    }\n",
       "\n",
       "    .dataframe tbody tr th {\n",
       "        vertical-align: top;\n",
       "    }\n",
       "\n",
       "    .dataframe thead th {\n",
       "        text-align: right;\n",
       "    }\n",
       "</style>\n",
       "<table border=\"1\" class=\"dataframe\">\n",
       "  <thead>\n",
       "    <tr style=\"text-align: right;\">\n",
       "      <th></th>\n",
       "      <th>id</th>\n",
       "      <th>Meteor_Name</th>\n",
       "      <th>FoundYear</th>\n",
       "      <th>Coordinates</th>\n",
       "      <th>Classification</th>\n",
       "      <th>Mass</th>\n",
       "    </tr>\n",
       "  </thead>\n",
       "  <tbody>\n",
       "    <tr>\n",
       "      <th>0</th>\n",
       "      <td>1</td>\n",
       "      <td>Hoba</td>\n",
       "      <td>1920</td>\n",
       "      <td>.mw-parser-output .geo-default,.mw-parser-outp...</td>\n",
       "      <td>19°35′32″S / 17°56′01″E</td>\n",
       "      <td>130000.0</td>\n",
       "    </tr>\n",
       "  </tbody>\n",
       "</table>\n",
       "</div>"
      ],
      "text/plain": [
       "   id Meteor_Name  FoundYear  \\\n",
       "0   1        Hoba       1920   \n",
       "\n",
       "                                         Coordinates           Classification  \\\n",
       "0  .mw-parser-output .geo-default,.mw-parser-outp...  19°35′32″S / 17°56′01″E   \n",
       "\n",
       "       Mass  \n",
       "0  130000.0  "
      ]
     },
     "execution_count": 47,
     "metadata": {},
     "output_type": "execute_result"
    }
   ],
   "source": [
    "HTMLSite.head(1)"
   ]
  },
  {
   "cell_type": "code",
   "execution_count": 48,
   "id": "7bfdf010-04fa-4d96-826a-bb0a08fdd7a2",
   "metadata": {},
   "outputs": [
    {
     "data": {
      "text/plain": [
       "<sqlite3.Cursor at 0x1cfd288a880>"
      ]
     },
     "execution_count": 48,
     "metadata": {},
     "output_type": "execute_result"
    }
   ],
   "source": [
    "c.execute('CREATE TABLE IF NOT EXISTS HTML (Meteorite Name TEXT, FoundYear INTEGER, id INTEGER, Coordinates TEXT, Classification TEXT, Mass INTEGER)')"
   ]
  },
  {
   "cell_type": "code",
   "execution_count": 49,
   "id": "05344721-412d-46c3-826e-e92f63a5dc1a",
   "metadata": {},
   "outputs": [
    {
     "data": {
      "text/plain": [
       "31"
      ]
     },
     "execution_count": 49,
     "metadata": {},
     "output_type": "execute_result"
    }
   ],
   "source": [
    "#ADDING HTML WIKIPEDIA DF\n",
    "HTMLSite.to_sql('HTML', conn, if_exists='replace', index = False)"
   ]
  },
  {
   "cell_type": "code",
   "execution_count": 50,
   "id": "0cbe70e0-b717-4abf-a291-2032788a2f23",
   "metadata": {},
   "outputs": [
    {
     "name": "stdout",
     "output_type": "stream",
     "text": [
      "All three of my data tables have been added as SQL Tables now\n"
     ]
    }
   ],
   "source": [
    "print(\"All three of my data tables have been added as SQL Tables now\")"
   ]
  },
  {
   "cell_type": "code",
   "execution_count": 51,
   "id": "290babb5-290e-4a02-a8e1-82066ac757fc",
   "metadata": {},
   "outputs": [],
   "source": [
    "#Helps me search\n",
    "Cursor = conn.cursor()"
   ]
  },
  {
   "cell_type": "code",
   "execution_count": 52,
   "id": "03fbe480-f4bc-4bd7-b1e0-3b66b9c6709d",
   "metadata": {},
   "outputs": [
    {
     "data": {
      "text/plain": [
       "('Aarhus', 2, 'H6', 720, '1951', '(56.183330, 10.233330)')"
      ]
     },
     "execution_count": 52,
     "metadata": {},
     "output_type": "execute_result"
    }
   ],
   "source": [
    "#Checking CSV\n",
    "Cursor.execute(\"SELECT * FROM Landings LIMIT 1000;\")\n",
    "records = Cursor.fetchall()\n",
    "records[1]"
   ]
  },
  {
   "cell_type": "code",
   "execution_count": 53,
   "id": "12491e7b-6cae-4dfb-9f05-784ad6f9bfb8",
   "metadata": {},
   "outputs": [
    {
     "data": {
      "text/plain": [
       "(2,\n",
       " 'Cape York(Ahnighito)',\n",
       " 1894,\n",
       " '76°08′N 64°56′W\\ufeff / \\ufeff76.133°N 64.933°W',\n",
       " 'IIIAB',\n",
       " 68068.0)"
      ]
     },
     "execution_count": 53,
     "metadata": {},
     "output_type": "execute_result"
    }
   ],
   "source": [
    "#Checking HTML\n",
    "Cursor.execute(\"SELECT * FROM HTML LIMIT 1000;\")\n",
    "records = Cursor.fetchall()\n",
    "records[1]"
   ]
  },
  {
   "cell_type": "code",
   "execution_count": 54,
   "id": "3023245d-4526-478d-8dac-33c9d1cbc129",
   "metadata": {},
   "outputs": [
    {
     "data": {
      "text/plain": [
       "('Aarhus', 2, 'H6', 720.0, '1951', '(56.18333, 56.18333)')"
      ]
     },
     "execution_count": 54,
     "metadata": {},
     "output_type": "execute_result"
    }
   ],
   "source": [
    "#Checking API\n",
    "Cursor.execute(\"SELECT * FROM NASAAPI LIMIT 1000;\")\n",
    "records = Cursor.fetchall()\n",
    "records[1]"
   ]
  },
  {
   "cell_type": "code",
   "execution_count": 55,
   "id": "8b1a9794-c1d5-4038-953a-1a6be97be77b",
   "metadata": {},
   "outputs": [
    {
     "name": "stdout",
     "output_type": "stream",
     "text": [
      "All three of the DF's have become SQL Tables\n"
     ]
    }
   ],
   "source": [
    "print(\"All three of the DF's have become SQL Tables\")"
   ]
  },
  {
   "cell_type": "code",
   "execution_count": 56,
   "id": "23216df9-88c3-481b-969b-48a291899ca5",
   "metadata": {},
   "outputs": [
    {
     "data": {
      "text/html": [
       "<div>\n",
       "<style scoped>\n",
       "    .dataframe tbody tr th:only-of-type {\n",
       "        vertical-align: middle;\n",
       "    }\n",
       "\n",
       "    .dataframe tbody tr th {\n",
       "        vertical-align: top;\n",
       "    }\n",
       "\n",
       "    .dataframe thead th {\n",
       "        text-align: right;\n",
       "    }\n",
       "</style>\n",
       "<table border=\"1\" class=\"dataframe\">\n",
       "  <thead>\n",
       "    <tr style=\"text-align: right;\">\n",
       "      <th></th>\n",
       "      <th>Meteor_Name</th>\n",
       "      <th>id</th>\n",
       "      <th>Classification</th>\n",
       "      <th>Mass</th>\n",
       "      <th>FoundYear</th>\n",
       "      <th>Coordinates</th>\n",
       "    </tr>\n",
       "  </thead>\n",
       "  <tbody>\n",
       "    <tr>\n",
       "      <th>0</th>\n",
       "      <td>Aachen</td>\n",
       "      <td>1</td>\n",
       "      <td>L5</td>\n",
       "      <td>21.0</td>\n",
       "      <td>1880</td>\n",
       "      <td>(50.775, 50.775)</td>\n",
       "    </tr>\n",
       "  </tbody>\n",
       "</table>\n",
       "</div>"
      ],
      "text/plain": [
       "  Meteor_Name  id Classification  Mass  FoundYear       Coordinates\n",
       "0      Aachen   1             L5  21.0       1880  (50.775, 50.775)"
      ]
     },
     "execution_count": 56,
     "metadata": {},
     "output_type": "execute_result"
    }
   ],
   "source": [
    "result.head(1)"
   ]
  },
  {
   "cell_type": "code",
   "execution_count": 57,
   "id": "c554eaec-70f1-40a6-b702-706b73b260d0",
   "metadata": {},
   "outputs": [
    {
     "data": {
      "text/plain": [
       "<sqlite3.Cursor at 0x1cfd288a880>"
      ]
     },
     "execution_count": 57,
     "metadata": {},
     "output_type": "execute_result"
    }
   ],
   "source": [
    "c.execute('CREATE TABLE IF NOT EXISTS FINALMETEORTABLE (Meteorite Name TEXT, FoundYear INTEGER, id INTEGER, Coordinates TEXT, Classification TEXT, Mass INTEGER)')"
   ]
  },
  {
   "cell_type": "code",
   "execution_count": 58,
   "id": "424287a5-3556-474e-92eb-8a3c4bf66fe6",
   "metadata": {},
   "outputs": [
    {
     "data": {
      "text/plain": [
       "46301"
      ]
     },
     "execution_count": 58,
     "metadata": {},
     "output_type": "execute_result"
    }
   ],
   "source": [
    "result.to_sql('FINALMETEORTABLE', conn, if_exists='replace', index = False)"
   ]
  },
  {
   "cell_type": "code",
   "execution_count": 59,
   "id": "c99b6ecf-8970-4a23-b282-ad6f4435f70d",
   "metadata": {},
   "outputs": [
    {
     "data": {
      "text/plain": [
       "['Meteor_Name', 'id', 'Classification', 'Mass', 'FoundYear', 'Coordinates']"
      ]
     },
     "execution_count": 59,
     "metadata": {},
     "output_type": "execute_result"
    }
   ],
   "source": [
    "Cursor.execute(\"SELECT * FROM FINALMETEORTABLE LIMIT 1000;\")\n",
    "names = [description[0] for description in Cursor.description]\n",
    "names"
   ]
  },
  {
   "cell_type": "code",
   "execution_count": 60,
   "id": "5119c626-e970-42be-a962-472c831106e5",
   "metadata": {},
   "outputs": [],
   "source": [
    "sql_query = pd.read_sql_query ('''\n",
    "                               SELECT\n",
    "                               *\n",
    "                               FROM FINALMETEORTABLE\n",
    "                               ''', conn)"
   ]
  },
  {
   "cell_type": "code",
   "execution_count": 61,
   "id": "3bbcb08d-e8d7-447d-8667-a91d6aabc878",
   "metadata": {},
   "outputs": [],
   "source": [
    "#Table join complete\n",
    "FinalTable = pd.DataFrame(sql_query, columns = ['Meteor_Name', 'Classification', 'Mass', 'FoundYear'])"
   ]
  },
  {
   "cell_type": "code",
   "execution_count": 62,
   "id": "3ff0b2ed-078f-49f4-8f07-8713f68cbbc6",
   "metadata": {},
   "outputs": [
    {
     "data": {
      "text/html": [
       "<div>\n",
       "<style scoped>\n",
       "    .dataframe tbody tr th:only-of-type {\n",
       "        vertical-align: middle;\n",
       "    }\n",
       "\n",
       "    .dataframe tbody tr th {\n",
       "        vertical-align: top;\n",
       "    }\n",
       "\n",
       "    .dataframe thead th {\n",
       "        text-align: right;\n",
       "    }\n",
       "</style>\n",
       "<table border=\"1\" class=\"dataframe\">\n",
       "  <thead>\n",
       "    <tr style=\"text-align: right;\">\n",
       "      <th></th>\n",
       "      <th>Meteor_Name</th>\n",
       "      <th>Classification</th>\n",
       "      <th>Mass</th>\n",
       "      <th>FoundYear</th>\n",
       "    </tr>\n",
       "  </thead>\n",
       "  <tbody>\n",
       "    <tr>\n",
       "      <th>0</th>\n",
       "      <td>Aachen</td>\n",
       "      <td>L5</td>\n",
       "      <td>21.0</td>\n",
       "      <td>1880</td>\n",
       "    </tr>\n",
       "    <tr>\n",
       "      <th>1</th>\n",
       "      <td>Aarhus</td>\n",
       "      <td>H6</td>\n",
       "      <td>720.0</td>\n",
       "      <td>1951</td>\n",
       "    </tr>\n",
       "    <tr>\n",
       "      <th>2</th>\n",
       "      <td>Abee</td>\n",
       "      <td>EH4</td>\n",
       "      <td>107000.0</td>\n",
       "      <td>1952</td>\n",
       "    </tr>\n",
       "    <tr>\n",
       "      <th>3</th>\n",
       "      <td>Acapulco</td>\n",
       "      <td>Acapulcoite</td>\n",
       "      <td>1914.0</td>\n",
       "      <td>1976</td>\n",
       "    </tr>\n",
       "    <tr>\n",
       "      <th>4</th>\n",
       "      <td>Achiras</td>\n",
       "      <td>L6</td>\n",
       "      <td>780.0</td>\n",
       "      <td>1902</td>\n",
       "    </tr>\n",
       "    <tr>\n",
       "      <th>...</th>\n",
       "      <td>...</td>\n",
       "      <td>...</td>\n",
       "      <td>...</td>\n",
       "      <td>...</td>\n",
       "    </tr>\n",
       "    <tr>\n",
       "      <th>46296</th>\n",
       "      <td>Seymchan</td>\n",
       "      <td>PMG</td>\n",
       "      <td>712.8</td>\n",
       "      <td>1967</td>\n",
       "    </tr>\n",
       "    <tr>\n",
       "      <th>46297</th>\n",
       "      <td>Estherville</td>\n",
       "      <td>A3/4</td>\n",
       "      <td>710.0</td>\n",
       "      <td>1879</td>\n",
       "    </tr>\n",
       "    <tr>\n",
       "      <th>46298</th>\n",
       "      <td>Omolon</td>\n",
       "      <td>PMG</td>\n",
       "      <td>550.0</td>\n",
       "      <td>1981</td>\n",
       "    </tr>\n",
       "    <tr>\n",
       "      <th>46299</th>\n",
       "      <td>Youxi</td>\n",
       "      <td>PMG</td>\n",
       "      <td>481.0</td>\n",
       "      <td>2006</td>\n",
       "    </tr>\n",
       "    <tr>\n",
       "      <th>46300</th>\n",
       "      <td>Pallasovka</td>\n",
       "      <td>PMG</td>\n",
       "      <td>437.0</td>\n",
       "      <td>1990</td>\n",
       "    </tr>\n",
       "  </tbody>\n",
       "</table>\n",
       "<p>46301 rows × 4 columns</p>\n",
       "</div>"
      ],
      "text/plain": [
       "       Meteor_Name Classification      Mass  FoundYear\n",
       "0           Aachen             L5      21.0       1880\n",
       "1           Aarhus             H6     720.0       1951\n",
       "2             Abee            EH4  107000.0       1952\n",
       "3         Acapulco    Acapulcoite    1914.0       1976\n",
       "4          Achiras             L6     780.0       1902\n",
       "...            ...            ...       ...        ...\n",
       "46296     Seymchan            PMG     712.8       1967\n",
       "46297  Estherville           A3/4     710.0       1879\n",
       "46298       Omolon            PMG     550.0       1981\n",
       "46299        Youxi            PMG     481.0       2006\n",
       "46300   Pallasovka            PMG     437.0       1990\n",
       "\n",
       "[46301 rows x 4 columns]"
      ]
     },
     "execution_count": 62,
     "metadata": {},
     "output_type": "execute_result"
    }
   ],
   "source": [
    "FinalTable"
   ]
  },
  {
   "cell_type": "code",
   "execution_count": 63,
   "id": "d7ca6363-594d-4c47-a6bd-1ecbe11aa0fe",
   "metadata": {},
   "outputs": [
    {
     "data": {
      "text/plain": [
       "Meteor_Name        object\n",
       "Classification     object\n",
       "Mass              float64\n",
       "FoundYear           int64\n",
       "dtype: object"
      ]
     },
     "execution_count": 63,
     "metadata": {},
     "output_type": "execute_result"
    }
   ],
   "source": [
    "FinalTable.dtypes"
   ]
  },
  {
   "cell_type": "code",
   "execution_count": 64,
   "id": "9a738635-4baf-4f73-9775-b6a36f6391f5",
   "metadata": {},
   "outputs": [
    {
     "data": {
      "text/plain": [
       "0            21\n",
       "1           720\n",
       "2        107000\n",
       "3          1914\n",
       "4           780\n",
       "          ...  \n",
       "46296       712\n",
       "46297       710\n",
       "46298       550\n",
       "46299       481\n",
       "46300       437\n",
       "Name: Mass, Length: 46301, dtype: int32"
      ]
     },
     "execution_count": 64,
     "metadata": {},
     "output_type": "execute_result"
    }
   ],
   "source": [
    "FinalTable['Mass'].astype(int)"
   ]
  },
  {
   "cell_type": "code",
   "execution_count": 65,
   "id": "c41c0c75-dfd9-4cd0-b59a-e8321deebb8d",
   "metadata": {},
   "outputs": [
    {
     "data": {
      "text/plain": [
       "Text(0.5, 1.0, 'Weight of metoerites found')"
      ]
     },
     "execution_count": 65,
     "metadata": {},
     "output_type": "execute_result"
    },
    {
     "data": {
      "image/png": "[encoded data removed]",
      "text/plain": [
       "<Figure size 432x288 with 1 Axes>"
      ]
     },
     "metadata": {
      "needs_background": "light"
     },
     "output_type": "display_data"
    }
   ],
   "source": [
    "#First plot is to see the sheer weight of the meteor\n",
    "plt.boxplot(FinalTable.Mass/2000, notch=True)\n",
    "plt.ylabel('Weight in Tons')\n",
    "plt.title('Weight of metoerites found')"
   ]
  },
  {
   "cell_type": "code",
   "execution_count": 66,
   "id": "35462122-d3cc-4490-ae38-2c8df599f08b",
   "metadata": {},
   "outputs": [
    {
     "data": {
      "text/plain": [
       "Text(0.5, 1.0, 'Weight of metoerites found over time')"
      ]
     },
     "execution_count": 66,
     "metadata": {},
     "output_type": "execute_result"
    },
    {
     "data": {
      "image/png": "[encoded data removed]",
      "text/plain": [
       "<Figure size 432x288 with 1 Axes>"
      ]
     },
     "metadata": {
      "needs_background": "light"
     },
     "output_type": "display_data"
    }
   ],
   "source": [
    "#Found Year of Meteors and the weight\n",
    "plt.scatter(FinalTable[\"FoundYear\"],FinalTable[\"Mass\"]/2000)\n",
    "plt.xlabel('Year Found')\n",
    "plt.ylabel('Weight in Tons')\n",
    "plt.title('Weight of metoerites found over time')"
   ]
  },
  {
   "cell_type": "code",
   "execution_count": 67,
   "id": "841b27f1-6a3d-4335-8b15-934f8afafc5c",
   "metadata": {},
   "outputs": [],
   "source": [
    "import seaborn as sns\n",
    "from matplotlib.pyplot import figure\n",
    "import matplotlib.pyplot as plt"
   ]
  },
  {
   "cell_type": "code",
   "execution_count": 68,
   "id": "dbd2afe4-d061-4f9a-a9b6-d3d555f2d91b",
   "metadata": {},
   "outputs": [
    {
     "data": {
      "text/plain": [
       "Text(0.5, 1.0, 'Top 20 Meteor classifications and their counts')"
      ]
     },
     "execution_count": 68,
     "metadata": {},
     "output_type": "execute_result"
    },
    {
     "data": {
      "image/png": "[encoded data removed]",
      "text/plain": [
       "<Figure size 432x288 with 1 Axes>"
      ]
     },
     "metadata": {
      "needs_background": "light"
     },
     "output_type": "display_data"
    }
   ],
   "source": [
    "#Finding what was the most common class of Meteors out there\n",
    "FinalTable['Classification'].value_counts().head(20).plot(kind='bar');\n",
    "plt.xlabel('Classifications')\n",
    "plt.ylabel('Counts')\n",
    "plt.title('Top 20 Meteor classifications and their counts')"
   ]
  },
  {
   "cell_type": "code",
   "execution_count": 69,
   "id": "71a10689-98f4-4cf8-ba7b-c5ee07efdd06",
   "metadata": {},
   "outputs": [
    {
     "data": {
      "text/plain": [
       "Text(0.5, 1.0, 'Top 20 Years for finding Meteors')"
      ]
     },
     "execution_count": 69,
     "metadata": {},
     "output_type": "execute_result"
    },
    {
     "data": {
      "image/png": "[encoded data removed]",
      "text/plain": [
       "<Figure size 432x288 with 1 Axes>"
      ]
     },
     "metadata": {
      "needs_background": "light"
     },
     "output_type": "display_data"
    }
   ],
   "source": [
    "#Finding what was the most common Year for Meteors exploration, interesting that 2003 had quite a spike\n",
    "FinalTable['FoundYear'].value_counts().head(20).plot(kind='bar');\n",
    "plt.xlabel('FoundYear')\n",
    "plt.ylabel('Counts')\n",
    "plt.title('Top 20 Years for finding Meteors')"
   ]
  },
  {
   "cell_type": "code",
   "execution_count": 70,
   "id": "bc7be8c8-e83b-4ed0-8bb4-0b2194aa9c32",
   "metadata": {},
   "outputs": [
    {
     "data": {
      "text/plain": [
       "36301"
      ]
     },
     "execution_count": 70,
     "metadata": {},
     "output_type": "execute_result"
    }
   ],
   "source": [
    "FinalTable['Classification'].value_counts().head(10).sum()"
   ]
  },
  {
   "cell_type": "code",
   "execution_count": 71,
   "id": "510bfeb2-d538-45fe-aab0-241d93ec8ee3",
   "metadata": {},
   "outputs": [
    {
     "data": {
      "text/plain": [
       "L6      8468\n",
       "H5      7242\n",
       "L5      4823\n",
       "H6      4593\n",
       "H4      4233\n",
       "LL5     2778\n",
       "LL6     2075\n",
       "L4      1232\n",
       "H4/5     429\n",
       "CM2      428\n",
       "Name: Classification, dtype: int64"
      ]
     },
     "execution_count": 71,
     "metadata": {},
     "output_type": "execute_result"
    }
   ],
   "source": [
    "FinalTable['Classification'].value_counts().head(10)"
   ]
  },
  {
   "cell_type": "code",
   "execution_count": 73,
   "id": "a2d5b4f1-9c3c-45dc-b85b-c3f837b9c062",
   "metadata": {},
   "outputs": [],
   "source": [
    "Top10 =FinalTable['Classification'].value_counts().head(10)"
   ]
  },
  {
   "cell_type": "code",
   "execution_count": 77,
   "id": "48c5d15d-8e5b-45c5-98e3-792deb2e0adc",
   "metadata": {},
   "outputs": [
    {
     "data": {
      "text/plain": [
       "Text(0.5, 1.0, 'Top 10 Classification Sizes, accounting for 36301 Meteors')"
      ]
     },
     "execution_count": 77,
     "metadata": {},
     "output_type": "execute_result"
    },
    {
     "data": {
      "image/png": "[encoded data removed]",
      "text/plain": [
       "<Figure size 432x288 with 1 Axes>"
      ]
     },
     "metadata": {},
     "output_type": "display_data"
    }
   ],
   "source": [
    "#Pie chart of the meteors\n",
    "fig, ax = plt.subplots()\n",
    "ax.pie(FinalTable['Classification'].value_counts().head(10), labels = Top10)\n",
    "Labels = ['L6', 'H5', 'L5','H6','LL5', 'LL6', 'L4','H4/5','CM2']  \n",
    "ax.legend(Labels,\n",
    "          title=\"Classifications\",\n",
    "          loc=\"center left\",\n",
    "          bbox_to_anchor=(1.5, 0, 0.5, 1))\n",
    "ax.set_title('Top 10 Classification Sizes, accounting for 36301 Meteors')"
   ]
  },
  {
   "cell_type": "code",
   "execution_count": 78,
   "id": "dd56c22a-434d-4aa3-8165-541b75ee2a08",
   "metadata": {},
   "outputs": [
    {
     "name": "stdout",
     "output_type": "stream",
     "text": [
      "This project has been a major learning experience for me. For one, I had to scrub the data from each of the various sources I got thoroughly. I did not go into too much detail for the scrubbing steps, as those were handled in the last few weeks of the class, but it involved a lot of clean up. The data wrangling had me altering column, removing empty rows, reformatting geolocation information, renaming columns to have the same names so they could be merged and dropping unnecessary data points. This data wrangling component shows the power of clean data. Clean data, although it took some effort to obtain, led to quick insights, and a joined data table that allowed me work through the data quickly. I also learned a bit about making a SQL database within python. This allowed me to take my cleaned data tables and save them in a location that others or myself can call on later. This is a great way to store data and can be repeated in future projects. Although there was a lot of data munging, I tried to stay on the right side of the ethics behind my alterations. I didn’t change any data values to new ones, rather cleaned up the values, and the corrupt rows to be more legible. Some things like changing column names were for uniformity between data sets. I want to make sure I don’t change the integrity of the data, because I would want the conclusions that I come to be the same if someone else performed a similar series of munging actions. This is important to ensure that I have trustworthy results when I share data.\n"
     ]
    }
   ],
   "source": [
    "print(\"This project has been a major learning experience for me. For one, I had to scrub the data from each of the various sources I got thoroughly. I did not go into too much detail for the scrubbing steps, as those were handled in the last few weeks of the class, but it involved a lot of clean up. The data wrangling had me altering column, removing empty rows, reformatting geolocation information, renaming columns to have the same names so they could be merged and dropping unnecessary data points. This data wrangling component shows the power of clean data. Clean data, although it took some effort to obtain, led to quick insights, and a joined data table that allowed me work through the data quickly. I also learned a bit about making a SQL database within python. This allowed me to take my cleaned data tables and save them in a location that others or myself can call on later. This is a great way to store data and can be repeated in future projects. Although there was a lot of data munging, I tried to stay on the right side of the ethics behind my alterations. I didn’t change any data values to new ones, rather cleaned up the values, and the corrupt rows to be more legible. Some things like changing column names were for uniformity between data sets. I want to make sure I don’t change the integrity of the data, because I would want the conclusions that I come to be the same if someone else performed a similar series of munging actions. This is important to ensure that I have trustworthy results when I share data.\")\n"
   ]
  },
  {
   "cell_type": "code",
   "execution_count": null,
   "id": "68b02fd8-dcc3-4071-9b7e-24b69630c97c",
   "metadata": {},
   "outputs": [],
   "source": []
  }
 ],
 "metadata": {
  "kernelspec": {
   "display_name": "Python 3 (ipykernel)",
   "language": "python",
   "name": "python3"
  },
  "language_info": {
   "codemirror_mode": {
    "name": "ipython",
    "version": 3
   },
   "file_extension": ".py",
   "mimetype": "text/x-python",
   "name": "python",
   "nbconvert_exporter": "python",
   "pygments_lexer": "ipython3",
   "version": "3.9.16"
  }
 },
 "nbformat": 4,
 "nbformat_minor": 5
}
