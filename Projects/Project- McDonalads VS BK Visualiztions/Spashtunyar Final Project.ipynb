{
 "cells": [
  {
   "cell_type": "code",
   "execution_count": 10,
   "id": "1aa8b042-d3d7-44ee-9eaf-383e9562bf73",
   "metadata": {},
   "outputs": [],
   "source": [
    "#Final Project BK vs McDonalds EDA"
   ]
  },
  {
   "cell_type": "code",
   "execution_count": 68,
   "id": "5f5ab3bd-ed06-4c6b-bb30-f3f160b620b9",
   "metadata": {},
   "outputs": [],
   "source": [
    "import pandas"
   ]
  },
  {
   "cell_type": "code",
   "execution_count": 77,
   "id": "8de8fe04-dddd-4cb4-a71a-f759777e7d9e",
   "metadata": {},
   "outputs": [],
   "source": [
    "#import file\n",
    "BKMD=pandas.read_csv(r\"C:\\Users\\spashtunyar\\Documents\\School\\DSC0520\\Final Project\\BKMD.csv\")"
   ]
  },
  {
   "cell_type": "code",
   "execution_count": 297,
   "id": "3282f6f5-badc-4913-8ff5-92cddafd4099",
   "metadata": {},
   "outputs": [
    {
     "name": "stdout",
     "output_type": "stream",
     "text": [
      "           Chain                                 Item                Type  \\\n",
      "0    Burger King                     Whopper Sandwich  Whopper Sandwiches   \n",
      "1    Burger King         Whopper Sandwich with Cheese  Whopper Sandwiches   \n",
      "2    Burger King      Bacon & Cheese Whopper Sandwich  Whopper Sandwiches   \n",
      "3    Burger King              Double Whopper Sandwich  Whopper Sandwiches   \n",
      "4    Burger King  Double Whopper Sandwich with Cheese  Whopper Sandwiches   \n",
      "..           ...                                  ...                 ...   \n",
      "494   Mc Donalds  Strawberry Banana Smoothie (Medium)    McCafe Smoothies   \n",
      "495   Mc Donalds   Strawberry Banana Smoothie (Small)    McCafe Smoothies   \n",
      "496   Mc Donalds          Wild Berry Smoothie (Large)    McCafe Smoothies   \n",
      "497   Mc Donalds         Wild Berry Smoothie (Medium)    McCafe Smoothies   \n",
      "498   Mc Donalds          Wild Berry Smoothie (Small)    McCafe Smoothies   \n",
      "\n",
      "    ServingSizeg  Calories  Calories from fat  TotalFatg SaturatedFatg  \\\n",
      "0            270       660                360         40            12   \n",
      "1            292       740                420         46            16   \n",
      "2            303       790                460         51            17   \n",
      "3            354       900                520         58            20   \n",
      "4            377       980                580         64            24   \n",
      "..           ...       ...                ...        ...           ...   \n",
      "494          NaN       260                  5          1             0   \n",
      "495          NaN       210                  5          0             5   \n",
      "496          NaN       320                 10          1             0   \n",
      "497          NaN       260                  5          1             0   \n",
      "498          NaN       210                  5          0             5   \n",
      "\n",
      "    TransFatg Cholmg  Sodiummg  TotalCarbg  DietaryFiberg  TotalSugarg  \\\n",
      "0           1      5        90         980             49            2   \n",
      "1           2    115      1340          50              2           11   \n",
      "2           2    125      1560          50              2           11   \n",
      "3           3    175      1050          49              2           11   \n",
      "4           3    195      1410          50              2           11   \n",
      "..        ...    ...       ...         ...            ...          ...   \n",
      "494         0      5        40          60              3           54   \n",
      "495         0      0         5          35             49            2   \n",
      "496         5      0         5          45             75            4   \n",
      "497         0      5        35          60              4           55   \n",
      "498         0      0         5          30             48            3   \n",
      "\n",
      "     Proteing  \n",
      "0          11  \n",
      "1          32  \n",
      "2          35  \n",
      "3          48  \n",
      "4          52  \n",
      "..        ...  \n",
      "494         2  \n",
      "495        44  \n",
      "496        69  \n",
      "497         3  \n",
      "498        44  \n",
      "\n",
      "[499 rows x 15 columns]\n"
     ]
    }
   ],
   "source": [
    "print(BKMD)"
   ]
  },
  {
   "cell_type": "code",
   "execution_count": 80,
   "id": "6d1ba3d5-6fe6-47ff-9aae-7f9975c16b1d",
   "metadata": {},
   "outputs": [
    {
     "data": {
      "text/plain": [
       "0      Burger King\n",
       "1      Burger King\n",
       "2      Burger King\n",
       "3      Burger King\n",
       "4      Burger King\n",
       "          ...     \n",
       "494     Mc Donalds\n",
       "495     Mc Donalds\n",
       "496     Mc Donalds\n",
       "497     Mc Donalds\n",
       "498     Mc Donalds\n",
       "Name: Chain, Length: 499, dtype: object"
      ]
     },
     "execution_count": 80,
     "metadata": {},
     "output_type": "execute_result"
    }
   ],
   "source": [
    "#Single variables\n",
    "BKMD.Chain"
   ]
  },
  {
   "cell_type": "code",
   "execution_count": 72,
   "id": "02a1de1f-53ca-45ec-880f-207881f1d6cb",
   "metadata": {},
   "outputs": [
    {
     "data": {
      "text/plain": [
       "0      270\n",
       "1      292\n",
       "2      303\n",
       "3      354\n",
       "4      377\n",
       "      ... \n",
       "494    NaN\n",
       "495    NaN\n",
       "496    NaN\n",
       "497    NaN\n",
       "498    NaN\n",
       "Name: ServingSizeg, Length: 499, dtype: object"
      ]
     },
     "execution_count": 72,
     "metadata": {},
     "output_type": "execute_result"
    }
   ],
   "source": [
    "BKMD.ServingSizeg"
   ]
  },
  {
   "cell_type": "code",
   "execution_count": 73,
   "id": "09e76e48-2f93-4d99-a43a-c80e6e5e0c42",
   "metadata": {},
   "outputs": [
    {
     "data": {
      "text/plain": [
       "0      660\n",
       "1      740\n",
       "2      790\n",
       "3      900\n",
       "4      980\n",
       "      ... \n",
       "494    260\n",
       "495    210\n",
       "496    320\n",
       "497    260\n",
       "498    210\n",
       "Name: Calories, Length: 499, dtype: int64"
      ]
     },
     "execution_count": 73,
     "metadata": {},
     "output_type": "execute_result"
    }
   ],
   "source": [
    "BKMD.Calories"
   ]
  },
  {
   "cell_type": "code",
   "execution_count": 74,
   "id": "4127ae58-4c95-4467-bcd3-29670cf5d753",
   "metadata": {},
   "outputs": [
    {
     "data": {
      "text/plain": [
       "0      40\n",
       "1      46\n",
       "2      51\n",
       "3      58\n",
       "4      64\n",
       "       ..\n",
       "494     1\n",
       "495     0\n",
       "496     1\n",
       "497     1\n",
       "498     0\n",
       "Name: TotalFatg, Length: 499, dtype: int64"
      ]
     },
     "execution_count": 74,
     "metadata": {},
     "output_type": "execute_result"
    }
   ],
   "source": [
    "BKMD.TotalFatg"
   ]
  },
  {
   "cell_type": "code",
   "execution_count": 75,
   "id": "319d1915-e342-404b-bc73-60ba5f00100d",
   "metadata": {},
   "outputs": [
    {
     "data": {
      "text/plain": [
       "0                         Whopper Sandwich\n",
       "1             Whopper Sandwich with Cheese\n",
       "2          Bacon & Cheese Whopper Sandwich\n",
       "3                  Double Whopper Sandwich\n",
       "4      Double Whopper Sandwich with Cheese\n",
       "                      ...                 \n",
       "494    Strawberry Banana Smoothie (Medium)\n",
       "495     Strawberry Banana Smoothie (Small)\n",
       "496            Wild Berry Smoothie (Large)\n",
       "497           Wild Berry Smoothie (Medium)\n",
       "498            Wild Berry Smoothie (Small)\n",
       "Name: Item, Length: 499, dtype: object"
      ]
     },
     "execution_count": 75,
     "metadata": {},
     "output_type": "execute_result"
    }
   ],
   "source": [
    "BKMD.Item"
   ]
  },
  {
   "cell_type": "code",
   "execution_count": 76,
   "id": "c237bcf2-3851-4476-9057-94b1975ee543",
   "metadata": {},
   "outputs": [
    {
     "data": {
      "text/plain": [
       "0      Whopper Sandwiches\n",
       "1      Whopper Sandwiches\n",
       "2      Whopper Sandwiches\n",
       "3      Whopper Sandwiches\n",
       "4      Whopper Sandwiches\n",
       "              ...        \n",
       "494      McCafe Smoothies\n",
       "495      McCafe Smoothies\n",
       "496      McCafe Smoothies\n",
       "497      McCafe Smoothies\n",
       "498      McCafe Smoothies\n",
       "Name: Type, Length: 499, dtype: object"
      ]
     },
     "execution_count": 76,
     "metadata": {},
     "output_type": "execute_result"
    }
   ],
   "source": [
    "BKMD.Type"
   ]
  },
  {
   "cell_type": "code",
   "execution_count": 90,
   "id": "8e330381-6a5d-44a6-8ee1-1eaa4676f552",
   "metadata": {},
   "outputs": [
    {
     "data": {
      "text/plain": [
       "{'Chain': 1,\n",
       " 'Item': 1,\n",
       " 'Type': 1,\n",
       " 'ServingSizeg': 1,\n",
       " 'Calories': 1,\n",
       " 'Calories from fat': 1,\n",
       " 'TotalFatg': 1,\n",
       " 'SaturatedFatg': 1,\n",
       " 'TransFatg': 1,\n",
       " 'Cholmg': 1,\n",
       " 'Sodiummg': 1,\n",
       " 'TotalCarbg': 1,\n",
       " 'DietaryFiberg': 1,\n",
       " 'TotalSugarg': 1,\n",
       " 'Proteing': 1}"
      ]
     },
     "execution_count": 90,
     "metadata": {},
     "output_type": "execute_result"
    }
   ],
   "source": [
    "hist = {}\n",
    "for x in BKMD:\n",
    "    hist[x] = hist.get(x, 0) + 1\n",
    "    \n",
    "hist"
   ]
  },
  {
   "cell_type": "code",
   "execution_count": 99,
   "id": "f26e5eb1-c76a-4f97-b2cb-667bfbf6e55b",
   "metadata": {},
   "outputs": [],
   "source": [
    "import thinkplot\n",
    "import thinkstats2"
   ]
  },
  {
   "cell_type": "code",
   "execution_count": 108,
   "id": "82214091-a2cd-40ca-aaa5-679c1027a008",
   "metadata": {},
   "outputs": [],
   "source": [
    "Type = thinkstats2.Hist(BKMD.Type, label='Type')"
   ]
  },
  {
   "cell_type": "code",
   "execution_count": 109,
   "id": "2e9b747e-8f4e-4913-b211-de3b6802314a",
   "metadata": {},
   "outputs": [],
   "source": [
    "Chains = thinkstats2.Hist(BKMD.Chain, label='Chain')"
   ]
  },
  {
   "cell_type": "code",
   "execution_count": 128,
   "id": "143be56f-7782-42f4-8fc5-67f1775adcdc",
   "metadata": {},
   "outputs": [],
   "source": [
    "TotalFat = thinkstats2.Hist(BKMD.TotalFatg, label='Total Fat')"
   ]
  },
  {
   "cell_type": "code",
   "execution_count": 135,
   "id": "432c4326-b023-487b-9d7f-2f903a7aa027",
   "metadata": {},
   "outputs": [],
   "source": [
    "Calories= thinkstats2.Hist(BKMD.Calories, label='Calories')"
   ]
  },
  {
   "cell_type": "code",
   "execution_count": 138,
   "id": "2e248944-22bd-49ed-b4e1-0438e5fd22ee",
   "metadata": {},
   "outputs": [],
   "source": [
    "Protein= thinkstats2.Hist(BKMD.Proteing, label='Protein')"
   ]
  },
  {
   "cell_type": "code",
   "execution_count": 127,
   "id": "15ea7aa2-ec85-45fc-a1d4-3b1c26bb4f08",
   "metadata": {},
   "outputs": [
    {
     "data": {
      "image/png": "[encoded data removed]",
      "text/plain": [
       "<Figure size 432x288 with 1 Axes>"
      ]
     },
     "metadata": {
      "needs_background": "light"
     },
     "output_type": "display_data"
    }
   ],
   "source": [
    "thinkplot.Hist(Chains)\n",
    "thinkplot.Config(xlabel='Chain', ylabel='Number of Menu Items Count')"
   ]
  },
  {
   "cell_type": "code",
   "execution_count": 122,
   "id": "4b88b855-db99-4b1b-915f-4f853408fc0e",
   "metadata": {},
   "outputs": [
    {
     "data": {
      "image/png": "[encoded data removed]",
      "text/plain": [
       "<Figure size 432x288 with 1 Axes>"
      ]
     },
     "metadata": {
      "needs_background": "light"
     },
     "output_type": "display_data"
    }
   ],
   "source": [
    "thinkplot.Hist(Type, width= 1)\n",
    "thinkplot.Config(xlabel='Item Types', ylabel='Count')"
   ]
  },
  {
   "cell_type": "code",
   "execution_count": 142,
   "id": "b72149ef-9689-450f-979a-4c31e4efb00c",
   "metadata": {},
   "outputs": [
    {
     "data": {
      "image/png": "[encoded data removed]",
      "text/plain": [
       "<Figure size 432x288 with 1 Axes>"
      ]
     },
     "metadata": {
      "needs_background": "light"
     },
     "output_type": "display_data"
    }
   ],
   "source": [
    "thinkplot.Hist(TotalFat)\n",
    "thinkplot.Config(xlabel='Total Fat (g)', ylabel='Number of items', ylim=[0,40])"
   ]
  },
  {
   "cell_type": "code",
   "execution_count": 137,
   "id": "9dfebcde-ddeb-46d5-b4b6-dac6cb51b35f",
   "metadata": {},
   "outputs": [
    {
     "data": {
      "image/png": "[encoded data removed]",
      "text/plain": [
       "<Figure size 432x288 with 1 Axes>"
      ]
     },
     "metadata": {
      "needs_background": "light"
     },
     "output_type": "display_data"
    }
   ],
   "source": [
    "thinkplot.Hist(Calories)\n",
    "thinkplot.Config(xlabel='Calories', ylabel='Number of items', ylim=[0,15])"
   ]
  },
  {
   "cell_type": "code",
   "execution_count": 141,
   "id": "373667dc-9f84-458c-afbb-372a9a2914c8",
   "metadata": {},
   "outputs": [
    {
     "data": {
      "image/png": "[encoded data removed]",
      "text/plain": [
       "<Figure size 432x288 with 1 Axes>"
      ]
     },
     "metadata": {
      "needs_background": "light"
     },
     "output_type": "display_data"
    }
   ],
   "source": [
    "thinkplot.Hist(Protein)\n",
    "thinkplot.Config(xlabel='Protein (g)', ylabel='Number of items', ylim=[0,50])"
   ]
  },
  {
   "cell_type": "code",
   "execution_count": 162,
   "id": "3b15403c-3e5a-4120-ad76-a1b03ccf1014",
   "metadata": {},
   "outputs": [
    {
     "name": "stdout",
     "output_type": "stream",
     "text": [
      "Calorie mean 305.73346693386776\n",
      "Calories Variance 58526.79026325749\n",
      "Calorie Std 241.9231081630225\n"
     ]
    }
   ],
   "source": [
    "print(\"Calorie mean\", BKMD.Calories.mean())\n",
    "print(\"Calories Variance\", BKMD.Calories.var())\n",
    "print(\"Calorie Std\", BKMD.Calories.std())"
   ]
  },
  {
   "cell_type": "code",
   "execution_count": 298,
   "id": "fc1d35a8-adb4-41ed-87da-4f5193ca9c01",
   "metadata": {},
   "outputs": [
    {
     "name": "stdout",
     "output_type": "stream",
     "text": [
      "TotalFat mean 17.498997995991985\n",
      "TotalFat Variance 1509.87299096184\n",
      "TotalFat Std 38.857084179874334\n"
     ]
    }
   ],
   "source": [
    "print(\"TotalFat mean\", BKMD.TotalFatg.mean())\n",
    "print(\"TotalFat Variance\", BKMD.TotalFatg.var())\n",
    "print(\"TotalFat Std\", BKMD.TotalFatg.std())"
   ]
  },
  {
   "cell_type": "code",
   "execution_count": 165,
   "id": "b01258d3-c648-476d-9ce4-82b277dede4c",
   "metadata": {},
   "outputs": [
    {
     "name": "stdout",
     "output_type": "stream",
     "text": [
      "Protein mean 12.254509018036073\n",
      "Protein Variance 312.2423240054403\n",
      "Protein Std 17.67037984892912\n"
     ]
    }
   ],
   "source": [
    "print(\"Protein mean\", BKMD.Proteing.mean())\n",
    "print(\"Protein Variance\", BKMD.Proteing.var())\n",
    "print(\"Protein Std\", BKMD.Proteing.std())"
   ]
  },
  {
   "cell_type": "code",
   "execution_count": 169,
   "id": "f711b4d0-5a7c-4837-8978-ffabcf2ad013",
   "metadata": {},
   "outputs": [],
   "source": [
    "import thinkstats2\n"
   ]
  },
  {
   "cell_type": "code",
   "execution_count": 179,
   "id": "3b7d5c9d-893b-4483-8c60-1e7bcdd99406",
   "metadata": {},
   "outputs": [],
   "source": [
    "Chainspmf = thinkstats2.Pmf(Chains)"
   ]
  },
  {
   "cell_type": "code",
   "execution_count": 180,
   "id": "73db225f-e5e5-4d3f-beef-85c10d7f6b70",
   "metadata": {},
   "outputs": [
    {
     "data": {
      "text/plain": [
       "Pmf({'Mc Donalds': 0.6513026052104208, 'Burger King': 0.3486973947895791}, 'Chain')"
      ]
     },
     "execution_count": 180,
     "metadata": {},
     "output_type": "execute_result"
    }
   ],
   "source": [
    "Chainspmf"
   ]
  },
  {
   "cell_type": "code",
   "execution_count": 182,
   "id": "0d5ec4e4-39e4-4196-a983-801d8401ee30",
   "metadata": {},
   "outputs": [],
   "source": [
    "Caloriepmf = thinkstats2.Pmf(Calories)"
   ]
  },
  {
   "cell_type": "code",
   "execution_count": 183,
   "id": "497d80c2-b051-4bdd-b65e-04491a995b67",
   "metadata": {},
   "outputs": [
    {
     "data": {
      "text/plain": [
       "Pmf({0: 0.052104208416833664, 150: 0.038076152304609215, 280: 0.03406813627254509, 190: 0.03206412825651302, 260: 0.03206412825651302, 240: 0.03006012024048096, 160: 0.026052104208416832, 60: 0.026052104208416832, 230: 0.024048096192384766, 300: 0.022044088176352703, 330: 0.022044088176352703, 140: 0.02004008016032064, 180: 0.02004008016032064, 170: 0.018036072144288574, 210: 0.018036072144288574, 120: 0.01603206412825651, 220: 0.01603206412825651, 380: 0.01603206412825651, 90: 0.01603206412825651, 310: 0.014028056112224447, 510: 0.014028056112224447, 430: 0.014028056112224447, 580: 0.014028056112224447, 50: 0.014028056112224447, 80: 0.014028056112224447, 200: 0.014028056112224447, 100: 0.014028056112224447, 270: 0.012024048096192383, 110: 0.012024048096192383, 500: 0.012024048096192383, 740: 0.012024048096192383, 410: 0.012024048096192383, 400: 0.012024048096192383, 390: 0.012024048096192383, 320: 0.012024048096192383, 540: 0.01002004008016032, 340: 0.01002004008016032, 290: 0.01002004008016032, 40: 0.01002004008016032, 250: 0.01002004008016032, 450: 0.01002004008016032, 420: 0.01002004008016032, 350: 0.01002004008016032, 610: 0.008016032064128256, 370: 0.008016032064128256, 70: 0.008016032064128256, 460: 0.008016032064128256, 130: 0.008016032064128256, 680: 0.0060120240480961915, 20: 0.0060120240480961915, 10: 0.0060120240480961915, 15: 0.0060120240480961915, 570: 0.0060120240480961915, 360: 0.0060120240480961915, 660: 0.0060120240480961915, 710: 0.0060120240480961915, 800: 0.0060120240480961915, 790: 0.0060120240480961915, 900: 0.0060120240480961915, 440: 0.0060120240480961915, 530: 0.0060120240480961915, 35: 0.004008016032064128, 470: 0.004008016032064128, 1150: 0.004008016032064128, 45: 0.004008016032064128, 770: 0.004008016032064128, 700: 0.004008016032064128, 1050: 0.004008016032064128, 630: 0.004008016032064128, 670: 0.004008016032064128, 860: 0.004008016032064128, 720: 0.004008016032064128, 560: 0.004008016032064128, 1110: 0.004008016032064128, 640: 0.004008016032064128, 550: 0.004008016032064128, 201: 0.002004008016032064, 1160: 0.002004008016032064, 880: 0.002004008016032064, 980: 0.002004008016032064, 1130: 0.002004008016032064, 830: 0.002004008016032064, 185: 0.002004008016032064, 520: 0.002004008016032064, 1090: 0.002004008016032064, 152: 0.002004008016032064, 164: 0.002004008016032064, 169: 0.002004008016032064, 930: 0.002004008016032064, 189: 0.002004008016032064, 176: 0.002004008016032064, 132: 0.002004008016032064, 30: 0.002004008016032064, 156: 0.002004008016032064, 750: 0.002004008016032064, 231: 0.002004008016032064, 1190: 0.002004008016032064, 620: 0.002004008016032064, 780: 0.002004008016032064, 1220: 0.002004008016032064, 154: 0.002004008016032064, 480: 0.002004008016032064, 7: 0.002004008016032064}, 'Calories')"
      ]
     },
     "execution_count": 183,
     "metadata": {},
     "output_type": "execute_result"
    }
   ],
   "source": [
    "Caloriepmf"
   ]
  },
  {
   "cell_type": "code",
   "execution_count": 189,
   "id": "941d349f-7745-4eb5-91e0-02784a3a4860",
   "metadata": {},
   "outputs": [],
   "source": [
    "Proteinpmf = thinkstats2.Pmf(Protein)"
   ]
  },
  {
   "cell_type": "code",
   "execution_count": 190,
   "id": "b5515120-dae3-41c9-8df2-a02c651f3e37",
   "metadata": {},
   "outputs": [
    {
     "data": {
      "text/plain": [
       "Pmf({0: 0.250501002004008, 7: 0.06212424849699398, 2: 0.05410821643286573, 5: 0.052104208416833664, 6: 0.04609218436873747, 9: 0.04208416833667334, 11: 0.03607214428857715, 4: 0.03607214428857715, 3: 0.03607214428857715, 8: 0.03406813627254509, 1: 0.03406813627254509, 10: 0.024048096192384766, 15: 0.018036072144288574, 13: 0.01603206412825651, 12: 0.01603206412825651, 25: 0.01603206412825651, 18: 0.014028056112224447, 14: 0.014028056112224447, 21: 0.012024048096192383, 31: 0.012024048096192383, 24: 0.01002004008016032, 44: 0.008016032064128256, 17: 0.008016032064128256, 28: 0.008016032064128256, 45: 0.008016032064128256, 40: 0.008016032064128256, 22: 0.008016032064128256, 35: 0.008016032064128256, 46: 0.0060120240480961915, 32: 0.0060120240480961915, 42: 0.0060120240480961915, 30: 0.0060120240480961915, 54: 0.004008016032064128, 59: 0.004008016032064128, 63: 0.004008016032064128, 36: 0.004008016032064128, 29: 0.004008016032064128, 38: 0.004008016032064128, 33: 0.004008016032064128, 27: 0.004008016032064128, 20: 0.004008016032064128, 41: 0.004008016032064128, 51: 0.004008016032064128, 49: 0.004008016032064128, 88: 0.002004008016032064, 47: 0.002004008016032064, 50: 0.002004008016032064, 43: 0.002004008016032064, 70: 0.002004008016032064, 23: 0.002004008016032064, 103: 0.002004008016032064, 124: 0.002004008016032064, 121: 0.002004008016032064, 26: 0.002004008016032064, 101: 0.002004008016032064, 98: 0.002004008016032064, 48: 0.002004008016032064, 52: 0.002004008016032064, 67: 0.002004008016032064, 56: 0.002004008016032064, 39: 0.002004008016032064, 69: 0.002004008016032064}, 'Protein')"
      ]
     },
     "execution_count": 190,
     "metadata": {},
     "output_type": "execute_result"
    }
   ],
   "source": [
    "Proteinpmf"
   ]
  },
  {
   "cell_type": "code",
   "execution_count": 204,
   "id": "c73c52df-942a-4fb0-b000-6fd5dd815740",
   "metadata": {},
   "outputs": [],
   "source": [
    "SaturatedFatpmf = thinkstats2.Pmf(BKMD.SaturatedFatg)"
   ]
  },
  {
   "cell_type": "code",
   "execution_count": 205,
   "id": "9a2f368a-b375-4445-831b-19c79ba48994",
   "metadata": {},
   "outputs": [
    {
     "data": {
      "text/plain": [
       "Pmf({'0': 0.1623246492985972, ' -': 0.15430861723446893, '3': 0.11022044088176351, '5': 0.08216432865731463, '4': 0.0721442885771543, '7': 0.05611222444889779, '2': 0.04609218436873747, '1': 0.038076152304609215, '10': 0.03607214428857715, '6': 0.03607214428857715, '8': 0.03406813627254509, '12': 0.018036072144288574, '16': 0.018036072144288574, '9': 0.018036072144288574, '11': 0.014028056112224447, '13': 0.014028056112224447, '15': 0.014028056112224447, '18': 0.01002004008016032, '17': 0.01002004008016032, '20': 0.008016032064128256, '14': 0.008016032064128256, '33': 0.0060120240480961915, '19': 0.0060120240480961915, '24': 0.004008016032064128, '28': 0.004008016032064128, '32': 0.004008016032064128, '27': 0.004008016032064128, '25': 0.002004008016032064, '21': 0.002004008016032064, '38': 0.002004008016032064, '26': 0.002004008016032064, '31': 0.002004008016032064, '23': 0.002004008016032064})"
      ]
     },
     "execution_count": 205,
     "metadata": {},
     "output_type": "execute_result"
    }
   ],
   "source": [
    "SaturatedFatpmf"
   ]
  },
  {
   "cell_type": "code",
   "execution_count": 206,
   "id": "d6a66a85-0126-4b9c-acf4-92ced10bfa89",
   "metadata": {},
   "outputs": [],
   "source": [
    "TotalFatpmf = thinkstats2.Pmf(BKMD.TotalFatg)"
   ]
  },
  {
   "cell_type": "code",
   "execution_count": 207,
   "id": "67f6dbda-ffad-4dbf-b878-fa308694b0b8",
   "metadata": {},
   "outputs": [
    {
     "data": {
      "text/plain": [
       "Pmf({0: 0.3046092184368737, 8: 0.058116232464929855, 6: 0.044088176352705406, 4: 0.03206412825651302, 10: 0.03006012024048096, 16: 0.028056112224448895, 9: 0.028056112224448895, 18: 0.028056112224448895, 5: 0.028056112224448895, 11: 0.024048096192384766, 3: 0.022044088176352703, 13: 0.02004008016032064, 20: 0.02004008016032064, 24: 0.02004008016032064, 12: 0.018036072144288574, 15: 0.01603206412825651, 2: 0.01603206412825651, 17: 0.01603206412825651, 1: 0.014028056112224447, 7: 0.014028056112224447, 22: 0.012024048096192383, 40: 0.012024048096192383, 19: 0.012024048096192383, 14: 0.01002004008016032, 25: 0.01002004008016032, 26: 0.01002004008016032, 28: 0.01002004008016032, 21: 0.008016032064128256, 27: 0.008016032064128256, 42: 0.008016032064128256, 29: 0.008016032064128256, 23: 0.0060120240480961915, 39: 0.0060120240480961915, 33: 0.0060120240480961915, 52: 0.0060120240480961915, 37: 0.0060120240480961915, 46: 0.004008016032064128, 54: 0.004008016032064128, 44: 0.004008016032064128, 210: 0.004008016032064128, 240: 0.004008016032064128, 300: 0.004008016032064128, 30: 0.004008016032064128, 31: 0.004008016032064128, 290: 0.002004008016032064, 48: 0.002004008016032064, 79: 0.002004008016032064, 160: 0.002004008016032064, 56: 0.002004008016032064, 51: 0.002004008016032064, 58: 0.002004008016032064, 60: 0.002004008016032064, 64: 0.002004008016032064, 75: 0.002004008016032064, 82: 0.002004008016032064, 230: 0.002004008016032064, 84: 0.002004008016032064, 74: 0.002004008016032064, 340: 0.002004008016032064, 45: 0.002004008016032064, 38: 0.002004008016032064, 190: 0.002004008016032064, 170: 0.002004008016032064, 68: 0.002004008016032064, 34: 0.002004008016032064, 41: 0.002004008016032064, 49: 0.002004008016032064, 36: 0.002004008016032064})"
      ]
     },
     "execution_count": 207,
     "metadata": {},
     "output_type": "execute_result"
    }
   ],
   "source": [
    "TotalFatpmf"
   ]
  },
  {
   "cell_type": "code",
   "execution_count": 301,
   "id": "6abdd813-8776-4f36-9669-814f48b4acd6",
   "metadata": {},
   "outputs": [
    {
     "data": {
      "image/png": "[encoded data removed]",
      "text/plain": [
       "<Figure size 432x288 with 1 Axes>"
      ]
     },
     "metadata": {
      "needs_background": "light"
     },
     "output_type": "display_data"
    }
   ],
   "source": [
    "width = 20\n",
    "\n",
    "thinkplot.Hist(Caloriepmf, width = width)\n",
    "thinkplot.Hist(Proteinpmf, width = width)\n",
    "thinkplot.Config(xlabel='Calorie and Protein', ylabel='Probability')"
   ]
  },
  {
   "cell_type": "code",
   "execution_count": 302,
   "id": "63606d14-8446-41d1-8402-ef23e219eec4",
   "metadata": {},
   "outputs": [
    {
     "data": {
      "image/png": "[encoded data removed]",
      "text/plain": [
       "<Figure size 432x288 with 1 Axes>"
      ]
     },
     "metadata": {
      "needs_background": "light"
     },
     "output_type": "display_data"
    }
   ],
   "source": [
    "width = 20\n",
    "\n",
    "thinkplot.Hist(Caloriepmf, width = width)\n",
    "thinkplot.Hist(TotalFatpmf, width = width)\n",
    "thinkplot.Config(xlabel='Calorie and Total Fat', ylabel='Probability')"
   ]
  },
  {
   "cell_type": "code",
   "execution_count": 218,
   "id": "45c872c7-6ed2-4fb9-9fb4-e2d73463c1e6",
   "metadata": {},
   "outputs": [],
   "source": [
    "def EvalCdf(sample, x):\n",
    "    count = 0.0\n",
    "    for value in sample:\n",
    "        if value <= x:\n",
    "            count += 1\n",
    "\n",
    "    prob = count / len(sample)\n",
    "    return prob"
   ]
  },
  {
   "cell_type": "code",
   "execution_count": 303,
   "id": "49ffcbc4-a130-4726-81f0-d2f04173db87",
   "metadata": {},
   "outputs": [
    {
     "data": {
      "text/plain": [
       "0.7087378640776699"
      ]
     },
     "execution_count": 303,
     "metadata": {},
     "output_type": "execute_result"
    }
   ],
   "source": [
    "EvalCdf(Calories, 600)"
   ]
  },
  {
   "cell_type": "code",
   "execution_count": 223,
   "id": "23809733-1ed2-47f2-aa12-ec4869e3e810",
   "metadata": {},
   "outputs": [
    {
     "data": {
      "image/png": "[encoded data removed]",
      "text/plain": [
       "<Figure size 432x288 with 1 Axes>"
      ]
     },
     "metadata": {
      "needs_background": "light"
     },
     "output_type": "display_data"
    }
   ],
   "source": [
    "cdf = thinkstats2.Cdf(Calories, label='Calories')\n",
    "thinkplot.Cdf(cdf)\n",
    "thinkplot.Config(xlabel='Calories', ylabel='CDF', loc='upper left')"
   ]
  },
  {
   "cell_type": "code",
   "execution_count": 304,
   "id": "9de38190-7b3b-48a8-a318-bc7393984826",
   "metadata": {},
   "outputs": [
    {
     "data": {
      "image/png": "[encoded data removed]",
      "text/plain": [
       "<Figure size 432x288 with 1 Axes>"
      ]
     },
     "metadata": {
      "needs_background": "light"
     },
     "output_type": "display_data"
    }
   ],
   "source": [
    "cdf2 = thinkstats2.Cdf(TotalFat, label='Total Fat (g)')\n",
    "thinkplot.Cdf(cdf2)\n",
    "thinkplot.Config(xlabel='Fat g', ylabel='CDF', loc='upper left')"
   ]
  },
  {
   "cell_type": "code",
   "execution_count": 308,
   "id": "1fe324a0-b416-45c5-8964-235192fb8a63",
   "metadata": {},
   "outputs": [
    {
     "data": {
      "text/plain": [
       "0.8676470588235294"
      ]
     },
     "execution_count": 308,
     "metadata": {},
     "output_type": "execute_result"
    }
   ],
   "source": [
    "EvalCdf(TotalFat, 100)"
   ]
  },
  {
   "cell_type": "code",
   "execution_count": 229,
   "id": "c52a75e3-2ab1-4d95-ba71-2afba094e531",
   "metadata": {},
   "outputs": [
    {
     "data": {
      "image/png": "[encoded data removed]",
      "text/plain": [
       "<Figure size 432x288 with 1 Axes>"
      ]
     },
     "metadata": {
      "needs_background": "light"
     },
     "output_type": "display_data"
    },
    {
     "data": {
      "text/plain": [
       "<Figure size 576x432 with 0 Axes>"
      ]
     },
     "metadata": {},
     "output_type": "display_data"
    }
   ],
   "source": [
    "thinkplot.Cdf(cdf, complement=True)\n",
    "thinkplot.Show(xlabel='Calories', ylabel= 'log',yscale='log')"
   ]
  },
  {
   "cell_type": "code",
   "execution_count": 231,
   "id": "9405635c-706f-46a2-87a0-7860928cf132",
   "metadata": {},
   "outputs": [
    {
     "data": {
      "image/png": "[encoded data removed]",
      "text/plain": [
       "<Figure size 432x288 with 1 Axes>"
      ]
     },
     "metadata": {
      "needs_background": "light"
     },
     "output_type": "display_data"
    },
    {
     "data": {
      "text/plain": [
       "<Figure size 576x432 with 0 Axes>"
      ]
     },
     "metadata": {},
     "output_type": "display_data"
    }
   ],
   "source": [
    "thinkplot.Cdf(cdf2, complement=True)\n",
    "thinkplot.Show(xlabel='Fat g', ylabel= 'log',yscale='log')"
   ]
  },
  {
   "cell_type": "code",
   "execution_count": 241,
   "id": "d2e1ea3f-4cae-441d-b69d-da39281bbbed",
   "metadata": {},
   "outputs": [
    {
     "data": {
      "image/png": "[encoded data removed]",
      "text/plain": [
       "<Figure size 432x288 with 1 Axes>"
      ]
     },
     "metadata": {
      "needs_background": "light"
     },
     "output_type": "display_data"
    },
    {
     "data": {
      "text/plain": [
       "<Figure size 576x432 with 0 Axes>"
      ]
     },
     "metadata": {},
     "output_type": "display_data"
    }
   ],
   "source": [
    "thinkplot.Scatter(BKMD.Calories, BKMD.TotalFatg)\n",
    "thinkplot.Show(xlabel='Calories', ylabel= 'Fat grams')"
   ]
  },
  {
   "cell_type": "code",
   "execution_count": 242,
   "id": "552f7297-396a-497d-834e-a6478291a02b",
   "metadata": {},
   "outputs": [
    {
     "data": {
      "image/png": "[encoded data removed]",
      "text/plain": [
       "<Figure size 432x288 with 1 Axes>"
      ]
     },
     "metadata": {
      "needs_background": "light"
     },
     "output_type": "display_data"
    },
    {
     "data": {
      "text/plain": [
       "<Figure size 576x432 with 0 Axes>"
      ]
     },
     "metadata": {},
     "output_type": "display_data"
    }
   ],
   "source": [
    "thinkplot.Scatter(BKMD.Calories, BKMD.TotalFatg)\n",
    "thinkplot.Show(xlabel='Calories', ylabel= 'Fat grams', ylim=[0,100])"
   ]
  },
  {
   "cell_type": "code",
   "execution_count": 261,
   "id": "013695fa-7ee6-4d23-a911-8028fae9cef4",
   "metadata": {},
   "outputs": [
    {
     "data": {
      "image/png": "[encoded data removed]",
      "text/plain": [
       "<Figure size 432x288 with 1 Axes>"
      ]
     },
     "metadata": {
      "needs_background": "light"
     },
     "output_type": "display_data"
    },
    {
     "data": {
      "text/plain": [
       "<Figure size 576x432 with 0 Axes>"
      ]
     },
     "metadata": {},
     "output_type": "display_data"
    }
   ],
   "source": [
    "thinkplot.Scatter(BKMD.Proteing, BKMD.TotalSugarg)\n",
    "thinkplot.Show(xlabel='Protein', ylabel= 'Fat grams')"
   ]
  },
  {
   "cell_type": "code",
   "execution_count": 262,
   "id": "ebf5f843-fc2f-468e-87fe-95a475d9b017",
   "metadata": {},
   "outputs": [
    {
     "data": {
      "image/png": "[encoded data removed]",
      "text/plain": [
       "<Figure size 432x288 with 1 Axes>"
      ]
     },
     "metadata": {
      "needs_background": "light"
     },
     "output_type": "display_data"
    },
    {
     "data": {
      "text/plain": [
       "<Figure size 576x432 with 0 Axes>"
      ]
     },
     "metadata": {},
     "output_type": "display_data"
    }
   ],
   "source": [
    "thinkplot.Scatter(BKMD.SaturatedFatg, BKMD.TotalFatg)\n",
    "thinkplot.Show(xlabel='SaturatedFat', ylabel= 'Fat grams')"
   ]
  },
  {
   "cell_type": "code",
   "execution_count": 289,
   "id": "6b83b84f-df80-4dea-bd42-f43d8f917844",
   "metadata": {},
   "outputs": [],
   "source": [
    "BKMD2=pandas.read_csv(r\"C:\\Users\\spashtunyar\\Documents\\School\\DSC0520\\Final Project\\BKMD2.csv\")"
   ]
  },
  {
   "cell_type": "code",
   "execution_count": 290,
   "id": "a085e40a-eeb9-4a6c-b118-e3d002b7667d",
   "metadata": {},
   "outputs": [
    {
     "data": {
      "image/png": "[encoded data removed]",
      "text/plain": [
       "<Figure size 432x288 with 1 Axes>"
      ]
     },
     "metadata": {
      "needs_background": "light"
     },
     "output_type": "display_data"
    },
    {
     "data": {
      "text/plain": [
       "<Figure size 576x432 with 0 Axes>"
      ]
     },
     "metadata": {},
     "output_type": "display_data"
    }
   ],
   "source": [
    "thinkplot.Scatter(BKMD2.Calories, BKMD2.TotalFatg)\n",
    "thinkplot.Show(xlabel='Calories', ylabel= 'Fat grams')"
   ]
  },
  {
   "cell_type": "code",
   "execution_count": 269,
   "id": "32da077e-4762-4003-9fcb-8b9a2fe53b65",
   "metadata": {},
   "outputs": [],
   "source": [
    "import numpy as np"
   ]
  },
  {
   "cell_type": "code",
   "execution_count": 270,
   "id": "07132581-e104-4bcd-b646-70d8aa67c1c0",
   "metadata": {},
   "outputs": [],
   "source": [
    "def Cov(xs, ys, meanx=None, meany=None):\n",
    "    xs = np.asarray(xs)\n",
    "    ys = np.asarray(ys)\n",
    "\n",
    "    if meanx is None:\n",
    "        meanx = np.mean(xs)\n",
    "    if meany is None:\n",
    "        meany = np.mean(ys)\n",
    "\n",
    "    cov = np.dot(xs-meanx, ys-meany) / len(xs)\n",
    "    return cov"
   ]
  },
  {
   "cell_type": "code",
   "execution_count": 271,
   "id": "50d43076-b3da-4114-a894-c12c62b6cc9f",
   "metadata": {},
   "outputs": [],
   "source": [
    "def Corr(xs, ys):\n",
    "    xs = np.asarray(xs)\n",
    "    ys = np.asarray(ys)\n",
    "\n",
    "    meanx, varx = thinkstats2.MeanVar(xs)\n",
    "    meany, vary = thinkstats2.MeanVar(ys)\n",
    "\n",
    "    corr = Cov(xs, ys, meanx, meany) / np.sqrt(varx * vary)\n",
    "    return corr"
   ]
  },
  {
   "cell_type": "code",
   "execution_count": 272,
   "id": "02a172fe-dec1-42e1-834e-92be3c6081bc",
   "metadata": {},
   "outputs": [
    {
     "data": {
      "text/plain": [
       "0.24384422057712027"
      ]
     },
     "execution_count": 272,
     "metadata": {},
     "output_type": "execute_result"
    }
   ],
   "source": [
    "Corr(BKMD.Calories, BKMD.TotalFatg)"
   ]
  },
  {
   "cell_type": "code",
   "execution_count": 273,
   "id": "404af4a2-c919-4995-8e75-d72326a1b1ee",
   "metadata": {},
   "outputs": [
    {
     "data": {
      "text/plain": [
       "2287.64602551797"
      ]
     },
     "execution_count": 273,
     "metadata": {},
     "output_type": "execute_result"
    }
   ],
   "source": [
    "Cov(BKMD.Calories, BKMD.TotalFatg)"
   ]
  },
  {
   "cell_type": "code",
   "execution_count": 274,
   "id": "a67daf11-ee90-47e8-823b-52b6b91066be",
   "metadata": {},
   "outputs": [],
   "source": [
    "import pandas as pd\n",
    "\n",
    "def SpearmanCorr(xs, ys):\n",
    "    xranks = pd.Series(xs).rank()\n",
    "    yranks = pd.Series(ys).rank()\n",
    "    return Corr(xranks, yranks)"
   ]
  },
  {
   "cell_type": "code",
   "execution_count": 275,
   "id": "a8ecc104-ab0c-4253-bbef-0192a102249e",
   "metadata": {},
   "outputs": [
    {
     "data": {
      "text/plain": [
       "0.7077478463663669"
      ]
     },
     "execution_count": 275,
     "metadata": {},
     "output_type": "execute_result"
    }
   ],
   "source": [
    "SpearmanCorr(BKMD.Calories, BKMD.TotalFatg)"
   ]
  },
  {
   "cell_type": "code",
   "execution_count": 291,
   "id": "7fdd590c-4c43-42b2-a8d1-07e54b1a9cdc",
   "metadata": {},
   "outputs": [
    {
     "data": {
      "text/plain": [
       "0.8475566394476304"
      ]
     },
     "execution_count": 291,
     "metadata": {},
     "output_type": "execute_result"
    }
   ],
   "source": [
    "Corr(BKMD2.Calories, BKMD2.TotalFatg)"
   ]
  },
  {
   "cell_type": "code",
   "execution_count": 292,
   "id": "6e9dd017-20d8-4db9-993d-0568d02fa3f4",
   "metadata": {},
   "outputs": [
    {
     "data": {
      "text/plain": [
       "3003.381426099852"
      ]
     },
     "execution_count": 292,
     "metadata": {},
     "output_type": "execute_result"
    }
   ],
   "source": [
    "Cov(BKMD2.Calories, BKMD2.TotalFatg)"
   ]
  },
  {
   "cell_type": "code",
   "execution_count": 293,
   "id": "3781438f-0048-4eef-a9bc-1c5b9cabaccc",
   "metadata": {},
   "outputs": [
    {
     "data": {
      "text/plain": [
       "0.7557462831881426"
      ]
     },
     "execution_count": 293,
     "metadata": {},
     "output_type": "execute_result"
    }
   ],
   "source": [
    "SpearmanCorr(BKMD2.Calories, BKMD2.TotalFatg)"
   ]
  },
  {
   "cell_type": "code",
   "execution_count": 327,
   "id": "5155283c-2e44-4c00-b6fc-8831546bc4c7",
   "metadata": {},
   "outputs": [],
   "source": [
    "class CorrelationPermute(thinkstats2.HypothesisTest):\n",
    "\n",
    "    def TestStatistic(self, data):\n",
    "        xs, ys = data\n",
    "        test_stat = abs(thinkstats2.SpearmanCorr(xs, ys))\n",
    "        return test_stat\n",
    "\n",
    "    def RunModel(self):\n",
    "        xs, ys = self.data\n",
    "        xs = np.random.permutation(xs)\n",
    "        return xs, ys"
   ]
  },
  {
   "cell_type": "code",
   "execution_count": 328,
   "id": "35aaa563-9ab7-486a-ac50-a50fec14f3eb",
   "metadata": {},
   "outputs": [
    {
     "data": {
      "text/html": [
       "<div>\n",
       "<style scoped>\n",
       "    .dataframe tbody tr th:only-of-type {\n",
       "        vertical-align: middle;\n",
       "    }\n",
       "\n",
       "    .dataframe tbody tr th {\n",
       "        vertical-align: top;\n",
       "    }\n",
       "\n",
       "    .dataframe thead th {\n",
       "        text-align: right;\n",
       "    }\n",
       "</style>\n",
       "<table border=\"1\" class=\"dataframe\">\n",
       "  <thead>\n",
       "    <tr style=\"text-align: right;\">\n",
       "      <th></th>\n",
       "      <th>Chain</th>\n",
       "      <th>Item</th>\n",
       "      <th>Type</th>\n",
       "      <th>ServingSizeg</th>\n",
       "      <th>Calories</th>\n",
       "      <th>Calories from fat</th>\n",
       "      <th>TotalFatg</th>\n",
       "      <th>SaturatedFatg</th>\n",
       "      <th>TransFatg</th>\n",
       "      <th>Cholmg</th>\n",
       "      <th>Sodiummg</th>\n",
       "      <th>TotalCarbg</th>\n",
       "      <th>DietaryFiberg</th>\n",
       "      <th>TotalSugarg</th>\n",
       "      <th>Proteing</th>\n",
       "    </tr>\n",
       "  </thead>\n",
       "  <tbody>\n",
       "    <tr>\n",
       "      <th>0</th>\n",
       "      <td>Burger King</td>\n",
       "      <td>Whopper Sandwich</td>\n",
       "      <td>Whopper Sandwiches</td>\n",
       "      <td>270</td>\n",
       "      <td>660</td>\n",
       "      <td>360</td>\n",
       "      <td>40</td>\n",
       "      <td>12</td>\n",
       "      <td>1</td>\n",
       "      <td>5</td>\n",
       "      <td>90</td>\n",
       "      <td>980</td>\n",
       "      <td>49</td>\n",
       "      <td>2</td>\n",
       "      <td>11</td>\n",
       "    </tr>\n",
       "    <tr>\n",
       "      <th>1</th>\n",
       "      <td>Burger King</td>\n",
       "      <td>Whopper Sandwich with Cheese</td>\n",
       "      <td>Whopper Sandwiches</td>\n",
       "      <td>292</td>\n",
       "      <td>740</td>\n",
       "      <td>420</td>\n",
       "      <td>46</td>\n",
       "      <td>16</td>\n",
       "      <td>2</td>\n",
       "      <td>115</td>\n",
       "      <td>1340</td>\n",
       "      <td>50</td>\n",
       "      <td>2</td>\n",
       "      <td>11</td>\n",
       "      <td>32</td>\n",
       "    </tr>\n",
       "    <tr>\n",
       "      <th>2</th>\n",
       "      <td>Burger King</td>\n",
       "      <td>Bacon &amp; Cheese Whopper Sandwich</td>\n",
       "      <td>Whopper Sandwiches</td>\n",
       "      <td>303</td>\n",
       "      <td>790</td>\n",
       "      <td>460</td>\n",
       "      <td>51</td>\n",
       "      <td>17</td>\n",
       "      <td>2</td>\n",
       "      <td>125</td>\n",
       "      <td>1560</td>\n",
       "      <td>50</td>\n",
       "      <td>2</td>\n",
       "      <td>11</td>\n",
       "      <td>35</td>\n",
       "    </tr>\n",
       "    <tr>\n",
       "      <th>3</th>\n",
       "      <td>Burger King</td>\n",
       "      <td>Double Whopper Sandwich</td>\n",
       "      <td>Whopper Sandwiches</td>\n",
       "      <td>354</td>\n",
       "      <td>900</td>\n",
       "      <td>520</td>\n",
       "      <td>58</td>\n",
       "      <td>20</td>\n",
       "      <td>3</td>\n",
       "      <td>175</td>\n",
       "      <td>1050</td>\n",
       "      <td>49</td>\n",
       "      <td>2</td>\n",
       "      <td>11</td>\n",
       "      <td>48</td>\n",
       "    </tr>\n",
       "    <tr>\n",
       "      <th>4</th>\n",
       "      <td>Burger King</td>\n",
       "      <td>Double Whopper Sandwich with Cheese</td>\n",
       "      <td>Whopper Sandwiches</td>\n",
       "      <td>377</td>\n",
       "      <td>980</td>\n",
       "      <td>580</td>\n",
       "      <td>64</td>\n",
       "      <td>24</td>\n",
       "      <td>3</td>\n",
       "      <td>195</td>\n",
       "      <td>1410</td>\n",
       "      <td>50</td>\n",
       "      <td>2</td>\n",
       "      <td>11</td>\n",
       "      <td>52</td>\n",
       "    </tr>\n",
       "    <tr>\n",
       "      <th>...</th>\n",
       "      <td>...</td>\n",
       "      <td>...</td>\n",
       "      <td>...</td>\n",
       "      <td>...</td>\n",
       "      <td>...</td>\n",
       "      <td>...</td>\n",
       "      <td>...</td>\n",
       "      <td>...</td>\n",
       "      <td>...</td>\n",
       "      <td>...</td>\n",
       "      <td>...</td>\n",
       "      <td>...</td>\n",
       "      <td>...</td>\n",
       "      <td>...</td>\n",
       "      <td>...</td>\n",
       "    </tr>\n",
       "    <tr>\n",
       "      <th>494</th>\n",
       "      <td>Mc Donalds</td>\n",
       "      <td>Strawberry Banana Smoothie (Medium)</td>\n",
       "      <td>McCafe Smoothies</td>\n",
       "      <td>NaN</td>\n",
       "      <td>260</td>\n",
       "      <td>5</td>\n",
       "      <td>1</td>\n",
       "      <td>0</td>\n",
       "      <td>0</td>\n",
       "      <td>5</td>\n",
       "      <td>40</td>\n",
       "      <td>60</td>\n",
       "      <td>3</td>\n",
       "      <td>54</td>\n",
       "      <td>2</td>\n",
       "    </tr>\n",
       "    <tr>\n",
       "      <th>495</th>\n",
       "      <td>Mc Donalds</td>\n",
       "      <td>Strawberry Banana Smoothie (Small)</td>\n",
       "      <td>McCafe Smoothies</td>\n",
       "      <td>NaN</td>\n",
       "      <td>210</td>\n",
       "      <td>5</td>\n",
       "      <td>0</td>\n",
       "      <td>5</td>\n",
       "      <td>0</td>\n",
       "      <td>0</td>\n",
       "      <td>5</td>\n",
       "      <td>35</td>\n",
       "      <td>49</td>\n",
       "      <td>2</td>\n",
       "      <td>44</td>\n",
       "    </tr>\n",
       "    <tr>\n",
       "      <th>496</th>\n",
       "      <td>Mc Donalds</td>\n",
       "      <td>Wild Berry Smoothie (Large)</td>\n",
       "      <td>McCafe Smoothies</td>\n",
       "      <td>NaN</td>\n",
       "      <td>320</td>\n",
       "      <td>10</td>\n",
       "      <td>1</td>\n",
       "      <td>0</td>\n",
       "      <td>5</td>\n",
       "      <td>0</td>\n",
       "      <td>5</td>\n",
       "      <td>45</td>\n",
       "      <td>75</td>\n",
       "      <td>4</td>\n",
       "      <td>69</td>\n",
       "    </tr>\n",
       "    <tr>\n",
       "      <th>497</th>\n",
       "      <td>Mc Donalds</td>\n",
       "      <td>Wild Berry Smoothie (Medium)</td>\n",
       "      <td>McCafe Smoothies</td>\n",
       "      <td>NaN</td>\n",
       "      <td>260</td>\n",
       "      <td>5</td>\n",
       "      <td>1</td>\n",
       "      <td>0</td>\n",
       "      <td>0</td>\n",
       "      <td>5</td>\n",
       "      <td>35</td>\n",
       "      <td>60</td>\n",
       "      <td>4</td>\n",
       "      <td>55</td>\n",
       "      <td>3</td>\n",
       "    </tr>\n",
       "    <tr>\n",
       "      <th>498</th>\n",
       "      <td>Mc Donalds</td>\n",
       "      <td>Wild Berry Smoothie (Small)</td>\n",
       "      <td>McCafe Smoothies</td>\n",
       "      <td>NaN</td>\n",
       "      <td>210</td>\n",
       "      <td>5</td>\n",
       "      <td>0</td>\n",
       "      <td>5</td>\n",
       "      <td>0</td>\n",
       "      <td>0</td>\n",
       "      <td>5</td>\n",
       "      <td>30</td>\n",
       "      <td>48</td>\n",
       "      <td>3</td>\n",
       "      <td>44</td>\n",
       "    </tr>\n",
       "  </tbody>\n",
       "</table>\n",
       "<p>499 rows × 15 columns</p>\n",
       "</div>"
      ],
      "text/plain": [
       "           Chain                                 Item                Type  \\\n",
       "0    Burger King                     Whopper Sandwich  Whopper Sandwiches   \n",
       "1    Burger King         Whopper Sandwich with Cheese  Whopper Sandwiches   \n",
       "2    Burger King      Bacon & Cheese Whopper Sandwich  Whopper Sandwiches   \n",
       "3    Burger King              Double Whopper Sandwich  Whopper Sandwiches   \n",
       "4    Burger King  Double Whopper Sandwich with Cheese  Whopper Sandwiches   \n",
       "..           ...                                  ...                 ...   \n",
       "494   Mc Donalds  Strawberry Banana Smoothie (Medium)    McCafe Smoothies   \n",
       "495   Mc Donalds   Strawberry Banana Smoothie (Small)    McCafe Smoothies   \n",
       "496   Mc Donalds          Wild Berry Smoothie (Large)    McCafe Smoothies   \n",
       "497   Mc Donalds         Wild Berry Smoothie (Medium)    McCafe Smoothies   \n",
       "498   Mc Donalds          Wild Berry Smoothie (Small)    McCafe Smoothies   \n",
       "\n",
       "    ServingSizeg  Calories  Calories from fat  TotalFatg SaturatedFatg  \\\n",
       "0            270       660                360         40            12   \n",
       "1            292       740                420         46            16   \n",
       "2            303       790                460         51            17   \n",
       "3            354       900                520         58            20   \n",
       "4            377       980                580         64            24   \n",
       "..           ...       ...                ...        ...           ...   \n",
       "494          NaN       260                  5          1             0   \n",
       "495          NaN       210                  5          0             5   \n",
       "496          NaN       320                 10          1             0   \n",
       "497          NaN       260                  5          1             0   \n",
       "498          NaN       210                  5          0             5   \n",
       "\n",
       "    TransFatg Cholmg  Sodiummg  TotalCarbg  DietaryFiberg  TotalSugarg  \\\n",
       "0           1      5        90         980             49            2   \n",
       "1           2    115      1340          50              2           11   \n",
       "2           2    125      1560          50              2           11   \n",
       "3           3    175      1050          49              2           11   \n",
       "4           3    195      1410          50              2           11   \n",
       "..        ...    ...       ...         ...            ...          ...   \n",
       "494         0      5        40          60              3           54   \n",
       "495         0      0         5          35             49            2   \n",
       "496         5      0         5          45             75            4   \n",
       "497         0      5        35          60              4           55   \n",
       "498         0      0         5          30             48            3   \n",
       "\n",
       "     Proteing  \n",
       "0          11  \n",
       "1          32  \n",
       "2          35  \n",
       "3          48  \n",
       "4          52  \n",
       "..        ...  \n",
       "494         2  \n",
       "495        44  \n",
       "496        69  \n",
       "497         3  \n",
       "498        44  \n",
       "\n",
       "[499 rows x 15 columns]"
      ]
     },
     "execution_count": 328,
     "metadata": {},
     "output_type": "execute_result"
    }
   ],
   "source": [
    "cleaned = BKMD.dropna(subset=['TotalFatg', 'Calories'])\n",
    "cleaned"
   ]
  },
  {
   "cell_type": "code",
   "execution_count": 329,
   "id": "9074fe65-58f6-4db9-b8ed-58f2e5f858e6",
   "metadata": {},
   "outputs": [
    {
     "data": {
      "text/plain": [
       "0.0"
      ]
     },
     "execution_count": 329,
     "metadata": {},
     "output_type": "execute_result"
    }
   ],
   "source": [
    "data1 = cleaned.Calories.values, cleaned.TotalFatg.values\n",
    "ht = CorrelationPermute(data1)\n",
    "pvalue = ht.PValue()\n",
    "pvalue"
   ]
  },
  {
   "cell_type": "code",
   "execution_count": 330,
   "id": "44c09fda-b4a0-4775-b4b6-6327ff0bc604",
   "metadata": {},
   "outputs": [
    {
     "data": {
      "text/plain": [
       "0.0"
      ]
     },
     "execution_count": 330,
     "metadata": {},
     "output_type": "execute_result"
    }
   ],
   "source": [
    "data = BKMD2.Calories.values, BKMD2.TotalFatg.values\n",
    "ht = CorrelationPermute(data)\n",
    "pvalue = ht.PValue()\n",
    "pvalue"
   ]
  },
  {
   "cell_type": "code",
   "execution_count": 345,
   "id": "52998ed1-c904-4b85-b6aa-aecc4c494d65",
   "metadata": {},
   "outputs": [],
   "source": [
    "from thinkstats2 import Mean, MeanVar, Var, Std, Cov\n",
    "\n",
    "def LeastSquares(xs, ys):\n",
    "    meanx, varx = MeanVar(xs)\n",
    "    meany = Mean(ys)\n",
    "\n",
    "    slope = Cov(xs, ys, meanx, meany) / varx\n",
    "    inter = meany - slope * meanx\n",
    "\n",
    "    return inter, slope"
   ]
  },
  {
   "cell_type": "code",
   "execution_count": 362,
   "id": "41bad864-a554-4fde-9e81-3305c04b9432",
   "metadata": {},
   "outputs": [
    {
     "data": {
      "text/plain": [
       "(-3.9089016583286966, 0.050688733821594355)"
      ]
     },
     "execution_count": 362,
     "metadata": {},
     "output_type": "execute_result"
    }
   ],
   "source": [
    "inter, slope = LeastSquares(BKMD2.Calories, BKMD2.TotalFatg)\n",
    "inter, slope"
   ]
  },
  {
   "cell_type": "code",
   "execution_count": 363,
   "id": "deb7f8ec-a212-4b15-b5f6-f895abc7cd8e",
   "metadata": {},
   "outputs": [],
   "source": [
    "def FitLine(xs, inter, slope):\n",
    "    fit_xs = np.sort(xs)\n",
    "    fit_ys = inter + slope * fit_xs\n",
    "    return fit_xs, fit_ys"
   ]
  },
  {
   "cell_type": "code",
   "execution_count": 364,
   "id": "eaac0dd1-001d-400d-87d3-67c2bfca6c77",
   "metadata": {},
   "outputs": [],
   "source": [
    "fit_xs, fit_ys = FitLine(BKMD2.Calories, inter, slope)"
   ]
  },
  {
   "cell_type": "code",
   "execution_count": 369,
   "id": "7101c6c5-8e18-4008-88ec-0f398878132f",
   "metadata": {},
   "outputs": [
    {
     "data": {
      "image/png": "[encoded data removed]",
      "text/plain": [
       "<Figure size 432x288 with 1 Axes>"
      ]
     },
     "metadata": {
      "needs_background": "light"
     },
     "output_type": "display_data"
    }
   ],
   "source": [
    "thinkplot.Scatter(BKMD2.Calories, BKMD2.TotalFatg, color='blue')\n",
    "thinkplot.Plot(fit_xs, fit_ys, color='purple', linewidth=1)\n",
    "thinkplot.Plot(fit_xs, fit_ys, color='red', linewidth=2)\n",
    "thinkplot.Config(xlabel=\"Calories\",\n",
    "                 ylabel='Grams Total Fat',)"
   ]
  },
  {
   "cell_type": "code",
   "execution_count": 372,
   "id": "5f934580-6be0-4fd6-84f0-66c65e0d085c",
   "metadata": {},
   "outputs": [
    {
     "data": {
      "text/html": [
       "<table class=\"simpletable\">\n",
       "<caption>OLS Regression Results</caption>\n",
       "<tr>\n",
       "  <th>Dep. Variable:</th>     <td>BKMD2.Calories</td>  <th>  R-squared:         </th> <td>   0.718</td> \n",
       "</tr>\n",
       "<tr>\n",
       "  <th>Model:</th>                   <td>OLS</td>       <th>  Adj. R-squared:    </th> <td>   0.718</td> \n",
       "</tr>\n",
       "<tr>\n",
       "  <th>Method:</th>             <td>Least Squares</td>  <th>  F-statistic:       </th> <td>   1209.</td> \n",
       "</tr>\n",
       "<tr>\n",
       "  <th>Date:</th>             <td>Sat, 13 Aug 2022</td> <th>  Prob (F-statistic):</th> <td>1.64e-132</td>\n",
       "</tr>\n",
       "<tr>\n",
       "  <th>Time:</th>                 <td>07:20:42</td>     <th>  Log-Likelihood:    </th> <td> -2989.4</td> \n",
       "</tr>\n",
       "<tr>\n",
       "  <th>No. Observations:</th>      <td>   476</td>      <th>  AIC:               </th> <td>   5983.</td> \n",
       "</tr>\n",
       "<tr>\n",
       "  <th>Df Residuals:</th>          <td>   474</td>      <th>  BIC:               </th> <td>   5991.</td> \n",
       "</tr>\n",
       "<tr>\n",
       "  <th>Df Model:</th>              <td>     1</td>      <th>                     </th>     <td> </td>    \n",
       "</tr>\n",
       "<tr>\n",
       "  <th>Covariance Type:</th>      <td>nonrobust</td>    <th>                     </th>     <td> </td>    \n",
       "</tr>\n",
       "</table>\n",
       "<table class=\"simpletable\">\n",
       "<tr>\n",
       "         <td></td>            <th>coef</th>     <th>std err</th>      <th>t</th>      <th>P>|t|</th>  <th>[0.025</th>    <th>0.975]</th>  \n",
       "</tr>\n",
       "<tr>\n",
       "  <th>Intercept</th>       <td>  140.9095</td> <td>    7.557</td> <td>   18.647</td> <td> 0.000</td> <td>  126.061</td> <td>  155.758</td>\n",
       "</tr>\n",
       "<tr>\n",
       "  <th>BKMD2.TotalFatg</th> <td>   14.1718</td> <td>    0.408</td> <td>   34.770</td> <td> 0.000</td> <td>   13.371</td> <td>   14.973</td>\n",
       "</tr>\n",
       "</table>\n",
       "<table class=\"simpletable\">\n",
       "<tr>\n",
       "  <th>Omnibus:</th>       <td>146.188</td> <th>  Durbin-Watson:     </th> <td>   0.642</td>\n",
       "</tr>\n",
       "<tr>\n",
       "  <th>Prob(Omnibus):</th> <td> 0.000</td>  <th>  Jarque-Bera (JB):  </th> <td> 402.898</td>\n",
       "</tr>\n",
       "<tr>\n",
       "  <th>Skew:</th>          <td> 1.491</td>  <th>  Prob(JB):          </th> <td>3.25e-88</td>\n",
       "</tr>\n",
       "<tr>\n",
       "  <th>Kurtosis:</th>      <td> 6.379</td>  <th>  Cond. No.          </th> <td>    23.6</td>\n",
       "</tr>\n",
       "</table><br/><br/>Notes:<br/>[1] Standard Errors assume that the covariance matrix of the errors is correctly specified."
      ],
      "text/plain": [
       "<class 'statsmodels.iolib.summary.Summary'>\n",
       "\"\"\"\n",
       "                            OLS Regression Results                            \n",
       "==============================================================================\n",
       "Dep. Variable:         BKMD2.Calories   R-squared:                       0.718\n",
       "Model:                            OLS   Adj. R-squared:                  0.718\n",
       "Method:                 Least Squares   F-statistic:                     1209.\n",
       "Date:                Sat, 13 Aug 2022   Prob (F-statistic):          1.64e-132\n",
       "Time:                        07:20:42   Log-Likelihood:                -2989.4\n",
       "No. Observations:                 476   AIC:                             5983.\n",
       "Df Residuals:                     474   BIC:                             5991.\n",
       "Df Model:                           1                                         \n",
       "Covariance Type:            nonrobust                                         \n",
       "===================================================================================\n",
       "                      coef    std err          t      P>|t|      [0.025      0.975]\n",
       "-----------------------------------------------------------------------------------\n",
       "Intercept         140.9095      7.557     18.647      0.000     126.061     155.758\n",
       "BKMD2.TotalFatg    14.1718      0.408     34.770      0.000      13.371      14.973\n",
       "==============================================================================\n",
       "Omnibus:                      146.188   Durbin-Watson:                   0.642\n",
       "Prob(Omnibus):                  0.000   Jarque-Bera (JB):              402.898\n",
       "Skew:                           1.491   Prob(JB):                     3.25e-88\n",
       "Kurtosis:                       6.379   Cond. No.                         23.6\n",
       "==============================================================================\n",
       "\n",
       "Notes:\n",
       "[1] Standard Errors assume that the covariance matrix of the errors is correctly specified.\n",
       "\"\"\""
      ]
     },
     "execution_count": 372,
     "metadata": {},
     "output_type": "execute_result"
    }
   ],
   "source": [
    "import statsmodels.formula.api as smf\n",
    "\n",
    "formula = 'BKMD2.Calories ~ BKMD2.TotalFatg'\n",
    "model = smf.ols(formula, data=BKMD2)\n",
    "results = model.fit()\n",
    "results.summary()"
   ]
  },
  {
   "cell_type": "code",
   "execution_count": 373,
   "id": "6fa8b94e-ed7a-48d5-b50c-1345690a471a",
   "metadata": {},
   "outputs": [
    {
     "data": {
      "text/html": [
       "<table class=\"simpletable\">\n",
       "<caption>OLS Regression Results</caption>\n",
       "<tr>\n",
       "  <th>Dep. Variable:</th>     <td>BKMD2.Calories</td>  <th>  R-squared:         </th> <td>   0.239</td>\n",
       "</tr>\n",
       "<tr>\n",
       "  <th>Model:</th>                   <td>OLS</td>       <th>  Adj. R-squared:    </th> <td>   0.237</td>\n",
       "</tr>\n",
       "<tr>\n",
       "  <th>Method:</th>             <td>Least Squares</td>  <th>  F-statistic:       </th> <td>   148.7</td>\n",
       "</tr>\n",
       "<tr>\n",
       "  <th>Date:</th>             <td>Sat, 13 Aug 2022</td> <th>  Prob (F-statistic):</th> <td>6.18e-30</td>\n",
       "</tr>\n",
       "<tr>\n",
       "  <th>Time:</th>                 <td>07:20:53</td>     <th>  Log-Likelihood:    </th> <td> -3226.0</td>\n",
       "</tr>\n",
       "<tr>\n",
       "  <th>No. Observations:</th>      <td>   476</td>      <th>  AIC:               </th> <td>   6456.</td>\n",
       "</tr>\n",
       "<tr>\n",
       "  <th>Df Residuals:</th>          <td>   474</td>      <th>  BIC:               </th> <td>   6464.</td>\n",
       "</tr>\n",
       "<tr>\n",
       "  <th>Df Model:</th>              <td>     1</td>      <th>                     </th>     <td> </td>   \n",
       "</tr>\n",
       "<tr>\n",
       "  <th>Covariance Type:</th>      <td>nonrobust</td>    <th>                     </th>     <td> </td>   \n",
       "</tr>\n",
       "</table>\n",
       "<table class=\"simpletable\">\n",
       "<tr>\n",
       "         <td></td>           <th>coef</th>     <th>std err</th>      <th>t</th>      <th>P>|t|</th>  <th>[0.025</th>    <th>0.975]</th>  \n",
       "</tr>\n",
       "<tr>\n",
       "  <th>Intercept</th>      <td>  221.6184</td> <td>   11.848</td> <td>   18.705</td> <td> 0.000</td> <td>  198.337</td> <td>  244.900</td>\n",
       "</tr>\n",
       "<tr>\n",
       "  <th>BKMD2.Proteing</th> <td>    6.6088</td> <td>    0.542</td> <td>   12.193</td> <td> 0.000</td> <td>    5.544</td> <td>    7.674</td>\n",
       "</tr>\n",
       "</table>\n",
       "<table class=\"simpletable\">\n",
       "<tr>\n",
       "  <th>Omnibus:</th>       <td>112.322</td> <th>  Durbin-Watson:     </th> <td>   0.903</td>\n",
       "</tr>\n",
       "<tr>\n",
       "  <th>Prob(Omnibus):</th> <td> 0.000</td>  <th>  Jarque-Bera (JB):  </th> <td> 222.500</td>\n",
       "</tr>\n",
       "<tr>\n",
       "  <th>Skew:</th>          <td> 1.292</td>  <th>  Prob(JB):          </th> <td>4.84e-49</td>\n",
       "</tr>\n",
       "<tr>\n",
       "  <th>Kurtosis:</th>      <td> 5.131</td>  <th>  Cond. No.          </th> <td>    26.6</td>\n",
       "</tr>\n",
       "</table><br/><br/>Notes:<br/>[1] Standard Errors assume that the covariance matrix of the errors is correctly specified."
      ],
      "text/plain": [
       "<class 'statsmodels.iolib.summary.Summary'>\n",
       "\"\"\"\n",
       "                            OLS Regression Results                            \n",
       "==============================================================================\n",
       "Dep. Variable:         BKMD2.Calories   R-squared:                       0.239\n",
       "Model:                            OLS   Adj. R-squared:                  0.237\n",
       "Method:                 Least Squares   F-statistic:                     148.7\n",
       "Date:                Sat, 13 Aug 2022   Prob (F-statistic):           6.18e-30\n",
       "Time:                        07:20:53   Log-Likelihood:                -3226.0\n",
       "No. Observations:                 476   AIC:                             6456.\n",
       "Df Residuals:                     474   BIC:                             6464.\n",
       "Df Model:                           1                                         \n",
       "Covariance Type:            nonrobust                                         \n",
       "==================================================================================\n",
       "                     coef    std err          t      P>|t|      [0.025      0.975]\n",
       "----------------------------------------------------------------------------------\n",
       "Intercept        221.6184     11.848     18.705      0.000     198.337     244.900\n",
       "BKMD2.Proteing     6.6088      0.542     12.193      0.000       5.544       7.674\n",
       "==============================================================================\n",
       "Omnibus:                      112.322   Durbin-Watson:                   0.903\n",
       "Prob(Omnibus):                  0.000   Jarque-Bera (JB):              222.500\n",
       "Skew:                           1.292   Prob(JB):                     4.84e-49\n",
       "Kurtosis:                       5.131   Cond. No.                         26.6\n",
       "==============================================================================\n",
       "\n",
       "Notes:\n",
       "[1] Standard Errors assume that the covariance matrix of the errors is correctly specified.\n",
       "\"\"\""
      ]
     },
     "execution_count": 373,
     "metadata": {},
     "output_type": "execute_result"
    }
   ],
   "source": [
    "import statsmodels.formula.api as smf\n",
    "\n",
    "formula = 'BKMD2.Calories ~ BKMD2.Proteing'\n",
    "model = smf.ols(formula, data=BKMD2)\n",
    "results = model.fit()\n",
    "results.summary()"
   ]
  },
  {
   "cell_type": "code",
   "execution_count": 379,
   "id": "315a9acf-c00f-46cb-90b0-c40a150be603",
   "metadata": {},
   "outputs": [
    {
     "data": {
      "text/html": [
       "<table class=\"simpletable\">\n",
       "<caption>OLS Regression Results</caption>\n",
       "<tr>\n",
       "  <th>Dep. Variable:</th>     <td>BKMD2.TotalFatg</td> <th>  R-squared:         </th> <td>   0.718</td> \n",
       "</tr>\n",
       "<tr>\n",
       "  <th>Model:</th>                   <td>OLS</td>       <th>  Adj. R-squared:    </th> <td>   0.718</td> \n",
       "</tr>\n",
       "<tr>\n",
       "  <th>Method:</th>             <td>Least Squares</td>  <th>  F-statistic:       </th> <td>   1209.</td> \n",
       "</tr>\n",
       "<tr>\n",
       "  <th>Date:</th>             <td>Sat, 13 Aug 2022</td> <th>  Prob (F-statistic):</th> <td>1.64e-132</td>\n",
       "</tr>\n",
       "<tr>\n",
       "  <th>Time:</th>                 <td>07:22:16</td>     <th>  Log-Likelihood:    </th> <td> -1648.6</td> \n",
       "</tr>\n",
       "<tr>\n",
       "  <th>No. Observations:</th>      <td>   476</td>      <th>  AIC:               </th> <td>   3301.</td> \n",
       "</tr>\n",
       "<tr>\n",
       "  <th>Df Residuals:</th>          <td>   474</td>      <th>  BIC:               </th> <td>   3310.</td> \n",
       "</tr>\n",
       "<tr>\n",
       "  <th>Df Model:</th>              <td>     1</td>      <th>                     </th>     <td> </td>    \n",
       "</tr>\n",
       "<tr>\n",
       "  <th>Covariance Type:</th>      <td>nonrobust</td>    <th>                     </th>     <td> </td>    \n",
       "</tr>\n",
       "</table>\n",
       "<table class=\"simpletable\">\n",
       "<tr>\n",
       "         <td></td>           <th>coef</th>     <th>std err</th>      <th>t</th>      <th>P>|t|</th>  <th>[0.025</th>    <th>0.975]</th>  \n",
       "</tr>\n",
       "<tr>\n",
       "  <th>Intercept</th>      <td>   -3.9089</td> <td>    0.567</td> <td>   -6.890</td> <td> 0.000</td> <td>   -5.024</td> <td>   -2.794</td>\n",
       "</tr>\n",
       "<tr>\n",
       "  <th>BKMD2.Calories</th> <td>    0.0507</td> <td>    0.001</td> <td>   34.770</td> <td> 0.000</td> <td>    0.048</td> <td>    0.054</td>\n",
       "</tr>\n",
       "</table>\n",
       "<table class=\"simpletable\">\n",
       "<tr>\n",
       "  <th>Omnibus:</th>       <td>31.577</td> <th>  Durbin-Watson:     </th> <td>   0.520</td>\n",
       "</tr>\n",
       "<tr>\n",
       "  <th>Prob(Omnibus):</th> <td> 0.000</td> <th>  Jarque-Bera (JB):  </th> <td>  68.667</td>\n",
       "</tr>\n",
       "<tr>\n",
       "  <th>Skew:</th>          <td>-0.363</td> <th>  Prob(JB):          </th> <td>1.23e-15</td>\n",
       "</tr>\n",
       "<tr>\n",
       "  <th>Kurtosis:</th>      <td> 4.713</td> <th>  Cond. No.          </th> <td>    622.</td>\n",
       "</tr>\n",
       "</table><br/><br/>Notes:<br/>[1] Standard Errors assume that the covariance matrix of the errors is correctly specified."
      ],
      "text/plain": [
       "<class 'statsmodels.iolib.summary.Summary'>\n",
       "\"\"\"\n",
       "                            OLS Regression Results                            \n",
       "==============================================================================\n",
       "Dep. Variable:        BKMD2.TotalFatg   R-squared:                       0.718\n",
       "Model:                            OLS   Adj. R-squared:                  0.718\n",
       "Method:                 Least Squares   F-statistic:                     1209.\n",
       "Date:                Sat, 13 Aug 2022   Prob (F-statistic):          1.64e-132\n",
       "Time:                        07:22:16   Log-Likelihood:                -1648.6\n",
       "No. Observations:                 476   AIC:                             3301.\n",
       "Df Residuals:                     474   BIC:                             3310.\n",
       "Df Model:                           1                                         \n",
       "Covariance Type:            nonrobust                                         \n",
       "==================================================================================\n",
       "                     coef    std err          t      P>|t|      [0.025      0.975]\n",
       "----------------------------------------------------------------------------------\n",
       "Intercept         -3.9089      0.567     -6.890      0.000      -5.024      -2.794\n",
       "BKMD2.Calories     0.0507      0.001     34.770      0.000       0.048       0.054\n",
       "==============================================================================\n",
       "Omnibus:                       31.577   Durbin-Watson:                   0.520\n",
       "Prob(Omnibus):                  0.000   Jarque-Bera (JB):               68.667\n",
       "Skew:                          -0.363   Prob(JB):                     1.23e-15\n",
       "Kurtosis:                       4.713   Cond. No.                         622.\n",
       "==============================================================================\n",
       "\n",
       "Notes:\n",
       "[1] Standard Errors assume that the covariance matrix of the errors is correctly specified.\n",
       "\"\"\""
      ]
     },
     "execution_count": 379,
     "metadata": {},
     "output_type": "execute_result"
    }
   ],
   "source": [
    "import statsmodels.formula.api as smf\n",
    "\n",
    "formula = 'BKMD2.TotalFatg ~ BKMD2.Calories'\n",
    "model = smf.ols(formula, data=BKMD2)\n",
    "results = model.fit()\n",
    "results.summary()"
   ]
  },
  {
   "cell_type": "code",
   "execution_count": null,
   "id": "c3de760b-045b-45de-8b6c-54b072ffadf9",
   "metadata": {},
   "outputs": [],
   "source": []
  }
 ],
 "metadata": {
  "kernelspec": {
   "display_name": "Python 3 (ipykernel)",
   "language": "python",
   "name": "python3"
  },
  "language_info": {
   "codemirror_mode": {
    "name": "ipython",
    "version": 3
   },
   "file_extension": ".py",
   "mimetype": "text/x-python",
   "name": "python",
   "nbconvert_exporter": "python",
   "pygments_lexer": "ipython3",
   "version": "3.9.12"
  }
 },
 "nbformat": 4,
 "nbformat_minor": 5
}
